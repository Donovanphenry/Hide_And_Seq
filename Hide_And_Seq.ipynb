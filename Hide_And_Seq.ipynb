{
  "nbformat": 4,
  "nbformat_minor": 0,
  "metadata": {
    "kernelspec": {
      "display_name": "Python 3",
      "language": "python",
      "name": "python3"
    },
    "language_info": {
      "codemirror_mode": {
        "name": "ipython",
        "version": 3
      },
      "file_extension": ".py",
      "mimetype": "text/x-python",
      "name": "python",
      "nbconvert_exporter": "python",
      "pygments_lexer": "ipython3",
      "version": "3.8.5"
    },
    "colab": {
      "name": "Hide_And_Seq.ipynb",
      "provenance": [],
      "collapsed_sections": [],
      "include_colab_link": true
    },
    "accelerator": "GPU"
  },
  "cells": [
    {
      "cell_type": "markdown",
      "metadata": {
        "id": "view-in-github",
        "colab_type": "text"
      },
      "source": [
        "<a href=\"https://colab.research.google.com/github/Donovanphenry/Hide_And_Seq/blob/main/Hide_And_Seq.ipynb\" target=\"_parent\"><img src=\"https://colab.research.google.com/assets/colab-badge.svg\" alt=\"Open In Colab\"/></a>"
      ]
    },
    {
      "cell_type": "markdown",
      "metadata": {
        "id": "vAjoAvzoE_t4"
      },
      "source": [
        "### Debug Notice: Find and Squash all `#TODO` mentions!"
      ]
    },
    {
      "cell_type": "markdown",
      "metadata": {
        "id": "Kkq4nAmXpDy2"
      },
      "source": [
        "## Installing Required Libraries"
      ]
    },
    {
      "cell_type": "code",
      "metadata": {
        "id": "Yys5AHCepDy7"
      },
      "source": [
        "# installs and magics\n",
        "!pip install Bio\n",
        "import matplotlib.pyplot as plt\n",
        "%matplotlib inline\n",
        "from IPython.display import clear_output\n",
        "\n",
        "from Bio import SeqIO\n",
        "import pandas as pd\n",
        "import numpy as np\n",
        "import math\n",
        "# import random\n",
        "\n",
        "# clear import log garbage\n",
        "clear_output()"
      ],
      "execution_count": 1,
      "outputs": []
    },
    {
      "cell_type": "markdown",
      "metadata": {
        "id": "YZmNqBkk7YX8"
      },
      "source": [
        "## Download dataset"
      ]
    },
    {
      "cell_type": "code",
      "metadata": {
        "id": "2nAGxRjNxVA6"
      },
      "source": [
        "# downloading dataset\n",
        "!wget --user=ftp ftp://ccg.epfl.ch/epd/current/epd_16K.seq\n",
        "clear_output()"
      ],
      "execution_count": 2,
      "outputs": []
    },
    {
      "cell_type": "markdown",
      "metadata": {
        "id": "CMHahNnGpDy8"
      },
      "source": [
        "## Building DataFrames"
      ]
    },
    {
      "cell_type": "markdown",
      "metadata": {
        "id": "yM1fn27Yn72b"
      },
      "source": [
        "## Set seeds"
      ]
    },
    {
      "cell_type": "code",
      "metadata": {
        "id": "oW24OPSIn-O9"
      },
      "source": [
        "np.random.seed(0)"
      ],
      "execution_count": 3,
      "outputs": []
    },
    {
      "cell_type": "markdown",
      "metadata": {
        "id": "PDVPnod-7oZQ"
      },
      "source": [
        "### Function to generate negative dataset"
      ]
    },
    {
      "cell_type": "code",
      "metadata": {
        "id": "GJpElmHaxwbD"
      },
      "source": [
        "# generate negative dataset \n",
        "\n",
        "def gen_neg_dataset(sequence_string):    \n",
        "  # create 400 subdivisions \n",
        "  to_numpy = np.array(list(sequence_string))\n",
        "  spliced_sequence_array = np.split(to_numpy, 20)\n",
        "  \n",
        "  # randomly select 240 subvisions of the \n",
        "  # TODO: Make the random shuffle unique\n",
        "  for i in range(12):\n",
        "    k = np.random.randint(0, 19)\n",
        "\n",
        "    # shuffle contents of randomly chosen subvision\n",
        "    np.random.shuffle(spliced_sequence_array[k])\n",
        "  \n",
        "  neg_sequence = ''\n",
        "\n",
        "  for i in range(20):\n",
        "    for k in range(15):\n",
        "      neg_sequence += spliced_sequence_array[i][k]\n",
        "\n",
        "  return neg_sequence"
      ],
      "execution_count": 4,
      "outputs": []
    },
    {
      "cell_type": "markdown",
      "metadata": {
        "id": "_whVdykw73Lf"
      },
      "source": [
        "### Parsing the dataset"
      ]
    },
    {
      "cell_type": "code",
      "metadata": {
        "id": "JqsCCk96pDy8",
        "colab": {
          "base_uri": "https://localhost:8080/"
        },
        "outputId": "8e57cc47-4d72-42e7-d876-b8dc96ea1180"
      },
      "source": [
        "# Initializing lists that will contain info about each record\n",
        "DNA_Sequences = []\n",
        "sequence_lengths = []\n",
        "parsed_subsequences = []\n",
        "neg_subsequences = []\n",
        "windowed_sequence_list = []\n",
        "neg_windowed_sequence_list = []\n",
        "\n",
        "# defining one-hot encoding for each nucleotide base \n",
        "dna_mappings = {}\n",
        "dna_mappings['A'] = [0, 0, 0, 1]\n",
        "dna_mappings['C'] = [0, 0, 1, 0]\n",
        "dna_mappings['T'] = [0, 1, 0, 0]\n",
        "dna_mappings['G'] = [1, 0, 0, 0]\n",
        "# dna_mappings['A'] = 1\n",
        "# dna_mappings['C'] = 10\n",
        "# dna_mappings['T'] = 100\n",
        "# dna_mappings['G'] = 1000\n",
        "\n",
        "# All DNA sequences of the human genome are 16,000 characters long (Hence epd_16K)\n",
        "# if using epd_16K. If using epd_seq, then change the sequence_length variable\n",
        "# to 600\n",
        "sequence_length = 16000\n",
        "\n",
        "# Loop through all records parsed by SeqIO.\n",
        "#\n",
        "# \") Hs\" on the description line means that\n",
        "# we've found a Homo sapien DNA sequence, so\n",
        "# add the appropriate properties of seq_record\n",
        "# to the appropriate arrays. This is our way\n",
        "# to filter out non-homosapien sequences\n",
        "for seq_record in SeqIO.parse('epd_16K.seq', 'fasta'):\n",
        "  # -1 is returned if sequence is NOT found\n",
        "  if seq_record.seq.find('N') == -1: # and seq_record.description.find(') Hs') != -1:\n",
        "    DNA_Sequences.append(seq_record.seq)\n",
        "    sequence_lengths.append(len(seq_record))\n",
        "\n",
        "print(\"Number of sequences: \" + str(len(DNA_Sequences)))"
      ],
      "execution_count": 5,
      "outputs": [
        {
          "output_type": "stream",
          "text": [
            "Number of sequences: 4140\n"
          ],
          "name": "stdout"
        }
      ]
    },
    {
      "cell_type": "markdown",
      "metadata": {
        "id": "rSmujiZhJJ6a"
      },
      "source": [
        "## Encoding Dataset & Neg-Dataset & Calculating Position Specific Frequency Matrix information"
      ]
    },
    {
      "cell_type": "markdown",
      "metadata": {
        "id": "k-Iyq13GOCBf"
      },
      "source": [
        "$$\n",
        "index_{promoter} = 10,000\\\\\n",
        "Current:\\\\\n",
        "spliced_{start_1} = index_{promoter} - length_{sequence_1} + (\\frac{1}{6})length_{sequence_1} = 10,000 - 6,000 + 1,000 = 5,000 \\\\\n",
        "spliced_{end_1} = spliced_{start_1} + (\\frac{2}{3})length_{sequence_1} = 9,000\\\\\n",
        "length_{sequence_1} = 6,000\\\\\n",
        "\\\\\n",
        "Want:\\\\\n",
        "spliced_{start_2} = index_{promoter} - length_{sequence_2} + (\\frac{1}{6})length_{sequence_2} = 10,000 - 300 + (\\frac{1}{6})300 = 9,750\\\\\n",
        "spliced_{end_2} = spliced_{start_2} + (\\frac{2}{3})length_{sequence_2} = 9,950\\\\\n",
        "length_{sequence_2} = 300\\\\\n",
        "$$"
      ]
    },
    {
      "cell_type": "code",
      "metadata": {
        "id": "51oz-pNM5Fw9"
      },
      "source": [
        "# calculate PSFM of nucleotides for sequences\n",
        "\n",
        "# Defining rows of PSFM and initializing all frequencies to 0\n",
        "adenine_frequencies = np.zeros(sequence_length)\n",
        "guanine_frequencies = np.zeros(sequence_length)\n",
        "thymine_frequencies = np.zeros(sequence_length)\n",
        "cytosine_frequencies = np.zeros(sequence_length)\n",
        "other_frequency = np.zeros(sequence_length)\n",
        "\n",
        "# Loop through all the DNA sequences in the DNA_Sequence list.\n",
        "# For each sequence, check if the nucleobase (character) at \n",
        "# postition sequence_index is adenine, guanine, thymine, or cytosine.\n",
        "# If it's any of those, then increment the count at that list's index.\n",
        "i = 0\n",
        "for sequence in DNA_Sequences:\n",
        "\n",
        "  # Randomly generating where the window begins,\n",
        "  # and since we want each sequence to be 6,000 chars\n",
        "  # long, we add 6,000 to the rng splicedStart, giving\n",
        "  # us the spliced end. Then, since we moved the start of\n",
        "  # the sequence up by a number of splicedStart, to get where\n",
        "  # the promoter is in relation to that new start, we can\n",
        "  # subtract splicedStart from 10,000\n",
        "  # i.e. promoterindex = 10,000 - splicedStart\n",
        "\n",
        "  # TODO: seed the random number generator to consistently generate \"random\" negative dataset\n",
        "  i += 1\n",
        "\n",
        "  splicedStart = np.random.randint(9750, 9950)\n",
        "  splicedEnd = splicedStart + 300\n",
        "  sub_sequence = sequence[splicedStart : splicedEnd]\n",
        "  promoter_index = 10000 - splicedStart\n",
        "  \n",
        "  neg_sub_sequence = gen_neg_dataset(str(sub_sequence))\n",
        "\n",
        "  if str(sub_sequence) == neg_sub_sequence:\n",
        "    print('Same sequence')\n",
        "\n",
        "  encoding = []\n",
        "#   encoding.append(promoter_index)\n",
        "\n",
        "  neg_encoding = []\n",
        "  \n",
        "\n",
        "  for nucleotide in sub_sequence:\n",
        "    encoding.extend(dna_mappings[nucleotide])\n",
        "\n",
        "  np_encoding = np.array(encoding)\n",
        "  a_channel = np_encoding[3:-1:4]\n",
        "  c_channel = np_encoding[2:-2:4]\n",
        "  t_channel = np_encoding[1:-3:4]\n",
        "  g_channel = np_encoding[0:-4:4]\n",
        "\n",
        "  seq_info = []\n",
        "  seq_info.append(promoter_index)\n",
        "  seq_info.append(a_channel)\n",
        "  seq_info.append(c_channel)\n",
        "  seq_info.append(t_channel)\n",
        "  seq_info.append(g_channel)\n",
        "\n",
        "  \n",
        "  for nucleotide in neg_sub_sequence:\n",
        "    neg_encoding.extend(dna_mappings[nucleotide])\n",
        "\n",
        "  np_neg_encoding = np.array(neg_encoding).astype('float32')\n",
        "  a_channel = np_neg_encoding[3:-1:4]\n",
        "  c_channel = np_neg_encoding[2:-2:4]\n",
        "  t_channel = np_neg_encoding[1:-3:4]\n",
        "  g_channel = np_neg_encoding[0:-4:4]\n",
        "\n",
        "  neg_seq_info = []\n",
        "  neg_seq_info.append('x')\n",
        "  neg_seq_info.append(a_channel)\n",
        "  neg_seq_info.append(c_channel)\n",
        "  neg_seq_info.append(t_channel)\n",
        "  neg_seq_info.append(g_channel)\n",
        "  \n",
        "  windowed_sequence_list.append((promoter_index, np_encoding))\n",
        "  neg_windowed_sequence_list.append(('x', np_neg_encoding))\n",
        "  \n",
        "  pair = (sub_sequence, promoter_index, splicedStart, splicedEnd)\n",
        "  parsed_subsequences.append(pair)  \n",
        "\n",
        "  # Reset where the index is in the\n",
        "  # sequence string\n",
        "  sequence_index = 0\n",
        "\n",
        "  for nucleobase in sequence:\n",
        "    if nucleobase == 'A':\n",
        "      adenine_frequencies[sequence_index] += 1\n",
        "    elif nucleobase == 'G':\n",
        "      guanine_frequencies[sequence_index] += 1\n",
        "    elif nucleobase == 'T':\n",
        "      thymine_frequencies[sequence_index] += 1\n",
        "    elif nucleobase == 'C':\n",
        "      cytosine_frequencies[sequence_index] += 1\n",
        "    else:\n",
        "      other_frequency[sequence_index] += 1\n",
        "\n",
        "    sequence_index += 1\n",
        "  \n",
        "dna_df_columns = []\n",
        "dna_df_columns.append('Promoter-Index')\n",
        "# dna_df_columns.append('A Channel')\n",
        "# dna_df_columns.append('C Channel')\n",
        "# dna_df_columns.append('T Channel')\n",
        "# dna_df_columns.append('G Channel')\n",
        "dna_df_columns.append('One Hot Sequence')\n",
        "\n",
        "neg_dna_df_columns = []\n",
        "neg_dna_df_columns.append('Promoter-Index')\n",
        "# neg_dna_df_columns.append('A Channel')\n",
        "# neg_dna_df_columns.append('C Channel')\n",
        "# neg_dna_df_columns.append('T Channel')\n",
        "# neg_dna_df_columns.append('G Channel')\n",
        "neg_dna_df_columns.append('One Hot Sequence')\n",
        "\n",
        "# for i in range(300):\n",
        "#   for k in range(4):\n",
        "    # dna_df_columns.append(\"Nuc(\" + str(i) + \", \" + str(k) + \")\")\n",
        "    # neg_dna_df_columns.append(\"Nuc(\" + str(i) + \", \" + str(k) + \")\")\n",
        "\n",
        "# these lines are taking a long time to execute?\n",
        "dna_df = pd.DataFrame(windowed_sequence_list, columns = dna_df_columns)\n",
        "neg_dna_df = pd.DataFrame(neg_windowed_sequence_list, columns = neg_dna_df_columns)\n",
        "\n",
        "subsequence_df = pd.DataFrame(parsed_subsequences, columns = ['Sub-Sequences', 'Promoter-Index', 'SequenceStart', 'SequenceEnd'])\n",
        "\n",
        "# In the above loop, we calculated how many occurences M of a particular nucelobase N\n",
        "# at some sequence index I. In this loop, we divide each number of occurences by the total\n",
        "# number of possible occurences there could be, which would be the number of records\n",
        "# because each record is guaranteed to have a nucleobase at character I in the human\n",
        "# DNA sequence. I.e.\n",
        "# P(sequence[i] == N) == (# of nucleobases N found at index i) / (# of possible nucleobases N at index i)\n",
        "for i in range(sequence_length):\n",
        "  adenine_frequencies[i] = (adenine_frequencies[i] / len(DNA_Sequences)) * 100\n",
        "  guanine_frequencies[i] = (guanine_frequencies[i] / len(DNA_Sequences)) * 100\n",
        "  thymine_frequencies[i] = (thymine_frequencies[i] / len(DNA_Sequences)) * 100\n",
        "  cytosine_frequencies[i] = (cytosine_frequencies[i] / len(DNA_Sequences)) * 100\n",
        "\n",
        "# Defining the data frame for the Position Specific Frequency Matrix (PSFM)\n",
        "frequency_df = pd.DataFrame({'Adenine Frequencies': adenine_frequencies, 'Guanine Frequencies': guanine_frequencies, 'Thymine Frequencies': thymine_frequencies, 'Cytosine Frequencies': cytosine_frequencies},\n",
        "                            columns = ['Adenine Frequencies', 'Guanine Frequencies', 'Thymine Frequencies', 'Cytosine Frequencies'])"
      ],
      "execution_count": 6,
      "outputs": []
    },
    {
      "cell_type": "markdown",
      "metadata": {
        "id": "3Z8voM9ypDy-"
      },
      "source": [
        "## Plotting frequency graph"
      ]
    },
    {
      "cell_type": "code",
      "metadata": {
        "id": "TtrSvNRApDy-",
        "colab": {
          "base_uri": "https://localhost:8080/",
          "height": 373
        },
        "outputId": "a3ebf0de-7a06-460b-ed7a-0ffc2c5b7f68"
      },
      "source": [
        "plt.figure()\n",
        "frequency_df.plot.density(figsize = (25, 5), title = 'Promoter Indices', xlim = (15, 35))"
      ],
      "execution_count": 7,
      "outputs": [
        {
          "output_type": "execute_result",
          "data": {
            "text/plain": [
              "<matplotlib.axes._subplots.AxesSubplot at 0x7f0a3353f8d0>"
            ]
          },
          "metadata": {
            "tags": []
          },
          "execution_count": 7
        },
        {
          "output_type": "display_data",
          "data": {
            "text/plain": [
              "<Figure size 432x288 with 0 Axes>"
            ]
          },
          "metadata": {
            "tags": []
          }
        },
        {
          "output_type": "display_data",
          "data": {
            "image/png": "[encoded data removed]",
            "text/plain": [
              "<Figure size 1800x360 with 1 Axes>"
            ]
          },
          "metadata": {
            "tags": [],
            "needs_background": "light"
          }
        }
      ]
    },
    {
      "cell_type": "markdown",
      "metadata": {
        "id": "GFStXaGzzdB4"
      },
      "source": [
        "## Preview the dataframe"
      ]
    },
    {
      "cell_type": "code",
      "metadata": {
        "colab": {
          "base_uri": "https://localhost:8080/",
          "height": 677
        },
        "id": "YOtE1Mu0zZUB",
        "outputId": "4c4ee056-f545-4c44-e0de-a22aaf46dd65"
      },
      "source": [
        "dna_df.head(n = 20)"
      ],
      "execution_count": 8,
      "outputs": [
        {
          "output_type": "execute_result",
          "data": {
            "text/html": [
              "<div>\n",
              "<style scoped>\n",
              "    .dataframe tbody tr th:only-of-type {\n",
              "        vertical-align: middle;\n",
              "    }\n",
              "\n",
              "    .dataframe tbody tr th {\n",
              "        vertical-align: top;\n",
              "    }\n",
              "\n",
              "    .dataframe thead th {\n",
              "        text-align: right;\n",
              "    }\n",
              "</style>\n",
              "<table border=\"1\" class=\"dataframe\">\n",
              "  <thead>\n",
              "    <tr style=\"text-align: right;\">\n",
              "      <th></th>\n",
              "      <th>Promoter-Index</th>\n",
              "      <th>One Hot Sequence</th>\n",
              "    </tr>\n",
              "  </thead>\n",
              "  <tbody>\n",
              "    <tr>\n",
              "      <th>0</th>\n",
              "      <td>78</td>\n",
              "      <td>[0, 1, 0, 0, 0, 0, 1, 0, 0, 0, 1, 0, 0, 0, 1, ...</td>\n",
              "    </tr>\n",
              "    <tr>\n",
              "      <th>1</th>\n",
              "      <td>236</td>\n",
              "      <td>[0, 0, 1, 0, 0, 0, 0, 1, 1, 0, 0, 0, 0, 0, 1, ...</td>\n",
              "    </tr>\n",
              "    <tr>\n",
              "      <th>2</th>\n",
              "      <td>109</td>\n",
              "      <td>[0, 1, 0, 0, 0, 1, 0, 0, 0, 0, 0, 1, 0, 1, 0, ...</td>\n",
              "    </tr>\n",
              "    <tr>\n",
              "      <th>3</th>\n",
              "      <td>77</td>\n",
              "      <td>[0, 1, 0, 0, 1, 0, 0, 0, 0, 0, 0, 1, 0, 1, 0, ...</td>\n",
              "    </tr>\n",
              "    <tr>\n",
              "      <th>4</th>\n",
              "      <td>208</td>\n",
              "      <td>[0, 0, 1, 0, 0, 1, 0, 0, 0, 0, 1, 0, 0, 0, 0, ...</td>\n",
              "    </tr>\n",
              "    <tr>\n",
              "      <th>5</th>\n",
              "      <td>69</td>\n",
              "      <td>[0, 1, 0, 0, 0, 1, 0, 0, 0, 1, 0, 0, 0, 0, 0, ...</td>\n",
              "    </tr>\n",
              "    <tr>\n",
              "      <th>6</th>\n",
              "      <td>58</td>\n",
              "      <td>[0, 0, 0, 1, 0, 0, 0, 1, 0, 1, 0, 0, 0, 0, 1, ...</td>\n",
              "    </tr>\n",
              "    <tr>\n",
              "      <th>7</th>\n",
              "      <td>158</td>\n",
              "      <td>[0, 0, 1, 0, 0, 0, 0, 1, 0, 0, 0, 1, 0, 0, 0, ...</td>\n",
              "    </tr>\n",
              "    <tr>\n",
              "      <th>8</th>\n",
              "      <td>136</td>\n",
              "      <td>[0, 0, 0, 1, 0, 0, 0, 1, 0, 1, 0, 0, 1, 0, 0, ...</td>\n",
              "    </tr>\n",
              "    <tr>\n",
              "      <th>9</th>\n",
              "      <td>156</td>\n",
              "      <td>[0, 1, 0, 0, 0, 0, 0, 1, 0, 1, 0, 0, 0, 0, 1, ...</td>\n",
              "    </tr>\n",
              "    <tr>\n",
              "      <th>10</th>\n",
              "      <td>185</td>\n",
              "      <td>[0, 1, 0, 0, 0, 1, 0, 0, 0, 1, 0, 0, 1, 0, 0, ...</td>\n",
              "    </tr>\n",
              "    <tr>\n",
              "      <th>11</th>\n",
              "      <td>222</td>\n",
              "      <td>[1, 0, 0, 0, 0, 1, 0, 0, 0, 0, 0, 1, 0, 0, 0, ...</td>\n",
              "    </tr>\n",
              "    <tr>\n",
              "      <th>12</th>\n",
              "      <td>63</td>\n",
              "      <td>[0, 0, 0, 1, 1, 0, 0, 0, 1, 0, 0, 0, 1, 0, 0, ...</td>\n",
              "    </tr>\n",
              "    <tr>\n",
              "      <th>13</th>\n",
              "      <td>75</td>\n",
              "      <td>[0, 0, 1, 0, 1, 0, 0, 0, 0, 0, 1, 0, 0, 1, 0, ...</td>\n",
              "    </tr>\n",
              "    <tr>\n",
              "      <th>14</th>\n",
              "      <td>128</td>\n",
              "      <td>[0, 0, 0, 1, 0, 0, 1, 0, 0, 0, 0, 1, 1, 0, 0, ...</td>\n",
              "    </tr>\n",
              "    <tr>\n",
              "      <th>15</th>\n",
              "      <td>115</td>\n",
              "      <td>[0, 0, 1, 0, 0, 0, 1, 0, 0, 0, 0, 1, 0, 0, 0, ...</td>\n",
              "    </tr>\n",
              "    <tr>\n",
              "      <th>16</th>\n",
              "      <td>66</td>\n",
              "      <td>[0, 0, 0, 1, 0, 0, 0, 1, 0, 0, 1, 0, 1, 0, 0, ...</td>\n",
              "    </tr>\n",
              "    <tr>\n",
              "      <th>17</th>\n",
              "      <td>189</td>\n",
              "      <td>[0, 1, 0, 0, 1, 0, 0, 0, 1, 0, 0, 0, 0, 0, 0, ...</td>\n",
              "    </tr>\n",
              "    <tr>\n",
              "      <th>18</th>\n",
              "      <td>133</td>\n",
              "      <td>[1, 0, 0, 0, 0, 0, 0, 1, 0, 1, 0, 0, 0, 0, 0, ...</td>\n",
              "    </tr>\n",
              "    <tr>\n",
              "      <th>19</th>\n",
              "      <td>106</td>\n",
              "      <td>[0, 0, 0, 1, 0, 1, 0, 0, 0, 1, 0, 0, 0, 1, 0, ...</td>\n",
              "    </tr>\n",
              "  </tbody>\n",
              "</table>\n",
              "</div>"
            ],
            "text/plain": [
              "    Promoter-Index                                   One Hot Sequence\n",
              "0               78  [0, 1, 0, 0, 0, 0, 1, 0, 0, 0, 1, 0, 0, 0, 1, ...\n",
              "1              236  [0, 0, 1, 0, 0, 0, 0, 1, 1, 0, 0, 0, 0, 0, 1, ...\n",
              "2              109  [0, 1, 0, 0, 0, 1, 0, 0, 0, 0, 0, 1, 0, 1, 0, ...\n",
              "3               77  [0, 1, 0, 0, 1, 0, 0, 0, 0, 0, 0, 1, 0, 1, 0, ...\n",
              "4              208  [0, 0, 1, 0, 0, 1, 0, 0, 0, 0, 1, 0, 0, 0, 0, ...\n",
              "5               69  [0, 1, 0, 0, 0, 1, 0, 0, 0, 1, 0, 0, 0, 0, 0, ...\n",
              "6               58  [0, 0, 0, 1, 0, 0, 0, 1, 0, 1, 0, 0, 0, 0, 1, ...\n",
              "7              158  [0, 0, 1, 0, 0, 0, 0, 1, 0, 0, 0, 1, 0, 0, 0, ...\n",
              "8              136  [0, 0, 0, 1, 0, 0, 0, 1, 0, 1, 0, 0, 1, 0, 0, ...\n",
              "9              156  [0, 1, 0, 0, 0, 0, 0, 1, 0, 1, 0, 0, 0, 0, 1, ...\n",
              "10             185  [0, 1, 0, 0, 0, 1, 0, 0, 0, 1, 0, 0, 1, 0, 0, ...\n",
              "11             222  [1, 0, 0, 0, 0, 1, 0, 0, 0, 0, 0, 1, 0, 0, 0, ...\n",
              "12              63  [0, 0, 0, 1, 1, 0, 0, 0, 1, 0, 0, 0, 1, 0, 0, ...\n",
              "13              75  [0, 0, 1, 0, 1, 0, 0, 0, 0, 0, 1, 0, 0, 1, 0, ...\n",
              "14             128  [0, 0, 0, 1, 0, 0, 1, 0, 0, 0, 0, 1, 1, 0, 0, ...\n",
              "15             115  [0, 0, 1, 0, 0, 0, 1, 0, 0, 0, 0, 1, 0, 0, 0, ...\n",
              "16              66  [0, 0, 0, 1, 0, 0, 0, 1, 0, 0, 1, 0, 1, 0, 0, ...\n",
              "17             189  [0, 1, 0, 0, 1, 0, 0, 0, 1, 0, 0, 0, 0, 0, 0, ...\n",
              "18             133  [1, 0, 0, 0, 0, 0, 0, 1, 0, 1, 0, 0, 0, 0, 0, ...\n",
              "19             106  [0, 0, 0, 1, 0, 1, 0, 0, 0, 1, 0, 0, 0, 1, 0, ..."
            ]
          },
          "metadata": {
            "tags": []
          },
          "execution_count": 8
        }
      ]
    },
    {
      "cell_type": "markdown",
      "metadata": {
        "id": "0MtrvWDSqbQh"
      },
      "source": [
        "## Preview the Negative Data set"
      ]
    },
    {
      "cell_type": "code",
      "metadata": {
        "id": "kgp3LE7NqdOL",
        "colab": {
          "base_uri": "https://localhost:8080/",
          "height": 677
        },
        "outputId": "9106bb0e-b8ec-4fe9-e451-e66606dd49ac"
      },
      "source": [
        "neg_dna_df.head(n = 20)"
      ],
      "execution_count": 9,
      "outputs": [
        {
          "output_type": "execute_result",
          "data": {
            "text/html": [
              "<div>\n",
              "<style scoped>\n",
              "    .dataframe tbody tr th:only-of-type {\n",
              "        vertical-align: middle;\n",
              "    }\n",
              "\n",
              "    .dataframe tbody tr th {\n",
              "        vertical-align: top;\n",
              "    }\n",
              "\n",
              "    .dataframe thead th {\n",
              "        text-align: right;\n",
              "    }\n",
              "</style>\n",
              "<table border=\"1\" class=\"dataframe\">\n",
              "  <thead>\n",
              "    <tr style=\"text-align: right;\">\n",
              "      <th></th>\n",
              "      <th>Promoter-Index</th>\n",
              "      <th>One Hot Sequence</th>\n",
              "    </tr>\n",
              "  </thead>\n",
              "  <tbody>\n",
              "    <tr>\n",
              "      <th>0</th>\n",
              "      <td>x</td>\n",
              "      <td>[0.0, 0.0, 1.0, 0.0, 0.0, 0.0, 1.0, 0.0, 0.0, ...</td>\n",
              "    </tr>\n",
              "    <tr>\n",
              "      <th>1</th>\n",
              "      <td>x</td>\n",
              "      <td>[0.0, 0.0, 0.0, 1.0, 0.0, 1.0, 0.0, 0.0, 0.0, ...</td>\n",
              "    </tr>\n",
              "    <tr>\n",
              "      <th>2</th>\n",
              "      <td>x</td>\n",
              "      <td>[0.0, 1.0, 0.0, 0.0, 0.0, 1.0, 0.0, 0.0, 0.0, ...</td>\n",
              "    </tr>\n",
              "    <tr>\n",
              "      <th>3</th>\n",
              "      <td>x</td>\n",
              "      <td>[0.0, 1.0, 0.0, 0.0, 1.0, 0.0, 0.0, 0.0, 0.0, ...</td>\n",
              "    </tr>\n",
              "    <tr>\n",
              "      <th>4</th>\n",
              "      <td>x</td>\n",
              "      <td>[0.0, 0.0, 1.0, 0.0, 0.0, 0.0, 0.0, 1.0, 0.0, ...</td>\n",
              "    </tr>\n",
              "    <tr>\n",
              "      <th>5</th>\n",
              "      <td>x</td>\n",
              "      <td>[0.0, 1.0, 0.0, 0.0, 0.0, 1.0, 0.0, 0.0, 0.0, ...</td>\n",
              "    </tr>\n",
              "    <tr>\n",
              "      <th>6</th>\n",
              "      <td>x</td>\n",
              "      <td>[0.0, 0.0, 0.0, 1.0, 0.0, 0.0, 0.0, 1.0, 0.0, ...</td>\n",
              "    </tr>\n",
              "    <tr>\n",
              "      <th>7</th>\n",
              "      <td>x</td>\n",
              "      <td>[0.0, 0.0, 1.0, 0.0, 0.0, 0.0, 0.0, 1.0, 0.0, ...</td>\n",
              "    </tr>\n",
              "    <tr>\n",
              "      <th>8</th>\n",
              "      <td>x</td>\n",
              "      <td>[0.0, 1.0, 0.0, 0.0, 0.0, 0.0, 1.0, 0.0, 0.0, ...</td>\n",
              "    </tr>\n",
              "    <tr>\n",
              "      <th>9</th>\n",
              "      <td>x</td>\n",
              "      <td>[0.0, 0.0, 0.0, 1.0, 0.0, 0.0, 1.0, 0.0, 0.0, ...</td>\n",
              "    </tr>\n",
              "    <tr>\n",
              "      <th>10</th>\n",
              "      <td>x</td>\n",
              "      <td>[0.0, 1.0, 0.0, 0.0, 0.0, 1.0, 0.0, 0.0, 0.0, ...</td>\n",
              "    </tr>\n",
              "    <tr>\n",
              "      <th>11</th>\n",
              "      <td>x</td>\n",
              "      <td>[1.0, 0.0, 0.0, 0.0, 0.0, 1.0, 0.0, 0.0, 0.0, ...</td>\n",
              "    </tr>\n",
              "    <tr>\n",
              "      <th>12</th>\n",
              "      <td>x</td>\n",
              "      <td>[0.0, 0.0, 0.0, 1.0, 1.0, 0.0, 0.0, 0.0, 1.0, ...</td>\n",
              "    </tr>\n",
              "    <tr>\n",
              "      <th>13</th>\n",
              "      <td>x</td>\n",
              "      <td>[0.0, 0.0, 1.0, 0.0, 1.0, 0.0, 0.0, 0.0, 0.0, ...</td>\n",
              "    </tr>\n",
              "    <tr>\n",
              "      <th>14</th>\n",
              "      <td>x</td>\n",
              "      <td>[0.0, 0.0, 0.0, 1.0, 0.0, 0.0, 1.0, 0.0, 0.0, ...</td>\n",
              "    </tr>\n",
              "    <tr>\n",
              "      <th>15</th>\n",
              "      <td>x</td>\n",
              "      <td>[0.0, 0.0, 1.0, 0.0, 0.0, 0.0, 1.0, 0.0, 0.0, ...</td>\n",
              "    </tr>\n",
              "    <tr>\n",
              "      <th>16</th>\n",
              "      <td>x</td>\n",
              "      <td>[0.0, 0.0, 1.0, 0.0, 0.0, 0.0, 0.0, 1.0, 0.0, ...</td>\n",
              "    </tr>\n",
              "    <tr>\n",
              "      <th>17</th>\n",
              "      <td>x</td>\n",
              "      <td>[0.0, 1.0, 0.0, 0.0, 0.0, 0.0, 1.0, 0.0, 1.0, ...</td>\n",
              "    </tr>\n",
              "    <tr>\n",
              "      <th>18</th>\n",
              "      <td>x</td>\n",
              "      <td>[1.0, 0.0, 0.0, 0.0, 0.0, 0.0, 0.0, 1.0, 0.0, ...</td>\n",
              "    </tr>\n",
              "    <tr>\n",
              "      <th>19</th>\n",
              "      <td>x</td>\n",
              "      <td>[0.0, 0.0, 0.0, 1.0, 0.0, 1.0, 0.0, 0.0, 0.0, ...</td>\n",
              "    </tr>\n",
              "  </tbody>\n",
              "</table>\n",
              "</div>"
            ],
            "text/plain": [
              "   Promoter-Index                                   One Hot Sequence\n",
              "0               x  [0.0, 0.0, 1.0, 0.0, 0.0, 0.0, 1.0, 0.0, 0.0, ...\n",
              "1               x  [0.0, 0.0, 0.0, 1.0, 0.0, 1.0, 0.0, 0.0, 0.0, ...\n",
              "2               x  [0.0, 1.0, 0.0, 0.0, 0.0, 1.0, 0.0, 0.0, 0.0, ...\n",
              "3               x  [0.0, 1.0, 0.0, 0.0, 1.0, 0.0, 0.0, 0.0, 0.0, ...\n",
              "4               x  [0.0, 0.0, 1.0, 0.0, 0.0, 0.0, 0.0, 1.0, 0.0, ...\n",
              "5               x  [0.0, 1.0, 0.0, 0.0, 0.0, 1.0, 0.0, 0.0, 0.0, ...\n",
              "6               x  [0.0, 0.0, 0.0, 1.0, 0.0, 0.0, 0.0, 1.0, 0.0, ...\n",
              "7               x  [0.0, 0.0, 1.0, 0.0, 0.0, 0.0, 0.0, 1.0, 0.0, ...\n",
              "8               x  [0.0, 1.0, 0.0, 0.0, 0.0, 0.0, 1.0, 0.0, 0.0, ...\n",
              "9               x  [0.0, 0.0, 0.0, 1.0, 0.0, 0.0, 1.0, 0.0, 0.0, ...\n",
              "10              x  [0.0, 1.0, 0.0, 0.0, 0.0, 1.0, 0.0, 0.0, 0.0, ...\n",
              "11              x  [1.0, 0.0, 0.0, 0.0, 0.0, 1.0, 0.0, 0.0, 0.0, ...\n",
              "12              x  [0.0, 0.0, 0.0, 1.0, 1.0, 0.0, 0.0, 0.0, 1.0, ...\n",
              "13              x  [0.0, 0.0, 1.0, 0.0, 1.0, 0.0, 0.0, 0.0, 0.0, ...\n",
              "14              x  [0.0, 0.0, 0.0, 1.0, 0.0, 0.0, 1.0, 0.0, 0.0, ...\n",
              "15              x  [0.0, 0.0, 1.0, 0.0, 0.0, 0.0, 1.0, 0.0, 0.0, ...\n",
              "16              x  [0.0, 0.0, 1.0, 0.0, 0.0, 0.0, 0.0, 1.0, 0.0, ...\n",
              "17              x  [0.0, 1.0, 0.0, 0.0, 0.0, 0.0, 1.0, 0.0, 1.0, ...\n",
              "18              x  [1.0, 0.0, 0.0, 0.0, 0.0, 0.0, 0.0, 1.0, 0.0, ...\n",
              "19              x  [0.0, 0.0, 0.0, 1.0, 0.0, 1.0, 0.0, 0.0, 0.0, ..."
            ]
          },
          "metadata": {
            "tags": []
          },
          "execution_count": 9
        }
      ]
    },
    {
      "cell_type": "markdown",
      "metadata": {
        "id": "UNGovehYs_Zb"
      },
      "source": [
        "## Comparison of Dataframe and Neg-Dataframe\n",
        "* Verify the negative dataset was generated properly"
      ]
    },
    {
      "cell_type": "code",
      "metadata": {
        "id": "m2Fn6ODus--l"
      },
      "source": [
        "# dna_df.compare(neg_dna_df)"
      ],
      "execution_count": 10,
      "outputs": []
    },
    {
      "cell_type": "markdown",
      "metadata": {
        "id": "JonuT2z1pbD-"
      },
      "source": [
        "# FREQUENCY DATAFRAME INFORMATION\n",
        "\n",
        "---\n",
        "\n",
        "\n"
      ]
    },
    {
      "cell_type": "markdown",
      "metadata": {
        "id": "Oi6CQFyPpDy9"
      },
      "source": [
        "## Printing frequency data frame"
      ]
    },
    {
      "cell_type": "code",
      "metadata": {
        "id": "ALOXcy8ypDy9",
        "colab": {
          "base_uri": "https://localhost:8080/",
          "height": 424
        },
        "outputId": "fd747650-3394-4060-e848-482e8de6f0ab"
      },
      "source": [
        "frequency_df.head(n=10500)"
      ],
      "execution_count": 11,
      "outputs": [
        {
          "output_type": "execute_result",
          "data": {
            "text/html": [
              "<div>\n",
              "<style scoped>\n",
              "    .dataframe tbody tr th:only-of-type {\n",
              "        vertical-align: middle;\n",
              "    }\n",
              "\n",
              "    .dataframe tbody tr th {\n",
              "        vertical-align: top;\n",
              "    }\n",
              "\n",
              "    .dataframe thead th {\n",
              "        text-align: right;\n",
              "    }\n",
              "</style>\n",
              "<table border=\"1\" class=\"dataframe\">\n",
              "  <thead>\n",
              "    <tr style=\"text-align: right;\">\n",
              "      <th></th>\n",
              "      <th>Adenine Frequencies</th>\n",
              "      <th>Guanine Frequencies</th>\n",
              "      <th>Thymine Frequencies</th>\n",
              "      <th>Cytosine Frequencies</th>\n",
              "    </tr>\n",
              "  </thead>\n",
              "  <tbody>\n",
              "    <tr>\n",
              "      <th>0</th>\n",
              "      <td>26.980676</td>\n",
              "      <td>22.850242</td>\n",
              "      <td>27.439614</td>\n",
              "      <td>22.729469</td>\n",
              "    </tr>\n",
              "    <tr>\n",
              "      <th>1</th>\n",
              "      <td>27.270531</td>\n",
              "      <td>21.618357</td>\n",
              "      <td>28.840580</td>\n",
              "      <td>22.270531</td>\n",
              "    </tr>\n",
              "    <tr>\n",
              "      <th>2</th>\n",
              "      <td>29.106280</td>\n",
              "      <td>22.391304</td>\n",
              "      <td>26.859903</td>\n",
              "      <td>21.642512</td>\n",
              "    </tr>\n",
              "    <tr>\n",
              "      <th>3</th>\n",
              "      <td>27.318841</td>\n",
              "      <td>23.526570</td>\n",
              "      <td>27.246377</td>\n",
              "      <td>21.908213</td>\n",
              "    </tr>\n",
              "    <tr>\n",
              "      <th>4</th>\n",
              "      <td>27.270531</td>\n",
              "      <td>22.342995</td>\n",
              "      <td>27.777778</td>\n",
              "      <td>22.608696</td>\n",
              "    </tr>\n",
              "    <tr>\n",
              "      <th>...</th>\n",
              "      <td>...</td>\n",
              "      <td>...</td>\n",
              "      <td>...</td>\n",
              "      <td>...</td>\n",
              "    </tr>\n",
              "    <tr>\n",
              "      <th>10495</th>\n",
              "      <td>23.574879</td>\n",
              "      <td>26.328502</td>\n",
              "      <td>25.362319</td>\n",
              "      <td>24.734300</td>\n",
              "    </tr>\n",
              "    <tr>\n",
              "      <th>10496</th>\n",
              "      <td>25.652174</td>\n",
              "      <td>26.473430</td>\n",
              "      <td>23.671498</td>\n",
              "      <td>24.202899</td>\n",
              "    </tr>\n",
              "    <tr>\n",
              "      <th>10497</th>\n",
              "      <td>24.396135</td>\n",
              "      <td>27.028986</td>\n",
              "      <td>23.429952</td>\n",
              "      <td>25.144928</td>\n",
              "    </tr>\n",
              "    <tr>\n",
              "      <th>10498</th>\n",
              "      <td>24.565217</td>\n",
              "      <td>25.772947</td>\n",
              "      <td>24.396135</td>\n",
              "      <td>25.265700</td>\n",
              "    </tr>\n",
              "    <tr>\n",
              "      <th>10499</th>\n",
              "      <td>24.855072</td>\n",
              "      <td>25.869565</td>\n",
              "      <td>24.468599</td>\n",
              "      <td>24.806763</td>\n",
              "    </tr>\n",
              "  </tbody>\n",
              "</table>\n",
              "<p>10500 rows × 4 columns</p>\n",
              "</div>"
            ],
            "text/plain": [
              "       Adenine Frequencies  ...  Cytosine Frequencies\n",
              "0                26.980676  ...             22.729469\n",
              "1                27.270531  ...             22.270531\n",
              "2                29.106280  ...             21.642512\n",
              "3                27.318841  ...             21.908213\n",
              "4                27.270531  ...             22.608696\n",
              "...                    ...  ...                   ...\n",
              "10495            23.574879  ...             24.734300\n",
              "10496            25.652174  ...             24.202899\n",
              "10497            24.396135  ...             25.144928\n",
              "10498            24.565217  ...             25.265700\n",
              "10499            24.855072  ...             24.806763\n",
              "\n",
              "[10500 rows x 4 columns]"
            ]
          },
          "metadata": {
            "tags": []
          },
          "execution_count": 11
        }
      ]
    },
    {
      "cell_type": "markdown",
      "metadata": {
        "id": "dKO51jbqpDy9"
      },
      "source": [
        "## Describing Frequency data frame"
      ]
    },
    {
      "cell_type": "code",
      "metadata": {
        "id": "ZVSEMlz0pDy-",
        "colab": {
          "base_uri": "https://localhost:8080/",
          "height": 300
        },
        "outputId": "129578a7-f34b-4163-83d0-65cf7d223a83"
      },
      "source": [
        "frequency_df.describe()"
      ],
      "execution_count": 12,
      "outputs": [
        {
          "output_type": "execute_result",
          "data": {
            "text/html": [
              "<div>\n",
              "<style scoped>\n",
              "    .dataframe tbody tr th:only-of-type {\n",
              "        vertical-align: middle;\n",
              "    }\n",
              "\n",
              "    .dataframe tbody tr th {\n",
              "        vertical-align: top;\n",
              "    }\n",
              "\n",
              "    .dataframe thead th {\n",
              "        text-align: right;\n",
              "    }\n",
              "</style>\n",
              "<table border=\"1\" class=\"dataframe\">\n",
              "  <thead>\n",
              "    <tr style=\"text-align: right;\">\n",
              "      <th></th>\n",
              "      <th>Adenine Frequencies</th>\n",
              "      <th>Guanine Frequencies</th>\n",
              "      <th>Thymine Frequencies</th>\n",
              "      <th>Cytosine Frequencies</th>\n",
              "    </tr>\n",
              "  </thead>\n",
              "  <tbody>\n",
              "    <tr>\n",
              "      <th>count</th>\n",
              "      <td>16000.000000</td>\n",
              "      <td>16000.000000</td>\n",
              "      <td>16000.000000</td>\n",
              "      <td>16000.000000</td>\n",
              "    </tr>\n",
              "    <tr>\n",
              "      <th>mean</th>\n",
              "      <td>27.152754</td>\n",
              "      <td>22.859567</td>\n",
              "      <td>27.289521</td>\n",
              "      <td>22.698158</td>\n",
              "    </tr>\n",
              "    <tr>\n",
              "      <th>std</th>\n",
              "      <td>1.239472</td>\n",
              "      <td>1.319228</td>\n",
              "      <td>1.281605</td>\n",
              "      <td>1.083547</td>\n",
              "    </tr>\n",
              "    <tr>\n",
              "      <th>min</th>\n",
              "      <td>12.584541</td>\n",
              "      <td>11.207729</td>\n",
              "      <td>9.830918</td>\n",
              "      <td>16.473430</td>\n",
              "    </tr>\n",
              "    <tr>\n",
              "      <th>25%</th>\n",
              "      <td>26.690821</td>\n",
              "      <td>22.149758</td>\n",
              "      <td>26.859903</td>\n",
              "      <td>22.053140</td>\n",
              "    </tr>\n",
              "    <tr>\n",
              "      <th>50%</th>\n",
              "      <td>27.318841</td>\n",
              "      <td>22.657005</td>\n",
              "      <td>27.439614</td>\n",
              "      <td>22.560386</td>\n",
              "    </tr>\n",
              "    <tr>\n",
              "      <th>75%</th>\n",
              "      <td>27.874396</td>\n",
              "      <td>23.188406</td>\n",
              "      <td>28.019324</td>\n",
              "      <td>23.091787</td>\n",
              "    </tr>\n",
              "    <tr>\n",
              "      <th>max</th>\n",
              "      <td>50.483092</td>\n",
              "      <td>35.483092</td>\n",
              "      <td>40.845411</td>\n",
              "      <td>47.487923</td>\n",
              "    </tr>\n",
              "  </tbody>\n",
              "</table>\n",
              "</div>"
            ],
            "text/plain": [
              "       Adenine Frequencies  ...  Cytosine Frequencies\n",
              "count         16000.000000  ...          16000.000000\n",
              "mean             27.152754  ...             22.698158\n",
              "std               1.239472  ...              1.083547\n",
              "min              12.584541  ...             16.473430\n",
              "25%              26.690821  ...             22.053140\n",
              "50%              27.318841  ...             22.560386\n",
              "75%              27.874396  ...             23.091787\n",
              "max              50.483092  ...             47.487923\n",
              "\n",
              "[8 rows x 4 columns]"
            ]
          },
          "metadata": {
            "tags": []
          },
          "execution_count": 12
        }
      ]
    },
    {
      "cell_type": "markdown",
      "metadata": {
        "id": "F9SG01vzpeXK"
      },
      "source": [
        "# SUBSEQUENCE DATAFRAME INFORMATION\n",
        "\n",
        "---\n",
        "\n"
      ]
    },
    {
      "cell_type": "markdown",
      "metadata": {
        "id": "LNHchQiVkBXU"
      },
      "source": [
        "## Printing Subsequence DataFrame"
      ]
    },
    {
      "cell_type": "code",
      "metadata": {
        "id": "vYBxRimrkEDQ",
        "colab": {
          "base_uri": "https://localhost:8080/",
          "height": 677
        },
        "outputId": "6fc733a2-f12b-468c-d56f-9f942880be2a"
      },
      "source": [
        "subsequence_df.head(n=20)"
      ],
      "execution_count": 13,
      "outputs": [
        {
          "output_type": "execute_result",
          "data": {
            "text/html": [
              "<div>\n",
              "<style scoped>\n",
              "    .dataframe tbody tr th:only-of-type {\n",
              "        vertical-align: middle;\n",
              "    }\n",
              "\n",
              "    .dataframe tbody tr th {\n",
              "        vertical-align: top;\n",
              "    }\n",
              "\n",
              "    .dataframe thead th {\n",
              "        text-align: right;\n",
              "    }\n",
              "</style>\n",
              "<table border=\"1\" class=\"dataframe\">\n",
              "  <thead>\n",
              "    <tr style=\"text-align: right;\">\n",
              "      <th></th>\n",
              "      <th>Sub-Sequences</th>\n",
              "      <th>Promoter-Index</th>\n",
              "      <th>SequenceStart</th>\n",
              "      <th>SequenceEnd</th>\n",
              "    </tr>\n",
              "  </thead>\n",
              "  <tbody>\n",
              "    <tr>\n",
              "      <th>0</th>\n",
              "      <td>(T, C, C, C, A, C, A, T, C, G, A, C, A, A, G, ...</td>\n",
              "      <td>78</td>\n",
              "      <td>9922</td>\n",
              "      <td>10222</td>\n",
              "    </tr>\n",
              "    <tr>\n",
              "      <th>1</th>\n",
              "      <td>(C, A, G, C, A, C, G, G, C, T, C, T, G, T, T, ...</td>\n",
              "      <td>236</td>\n",
              "      <td>9764</td>\n",
              "      <td>10064</td>\n",
              "    </tr>\n",
              "    <tr>\n",
              "      <th>2</th>\n",
              "      <td>(T, T, A, T, A, G, T, T, A, T, T, T, A, G, T, ...</td>\n",
              "      <td>109</td>\n",
              "      <td>9891</td>\n",
              "      <td>10191</td>\n",
              "    </tr>\n",
              "    <tr>\n",
              "      <th>3</th>\n",
              "      <td>(T, G, A, T, A, T, T, A, T, T, T, T, A, T, G, ...</td>\n",
              "      <td>77</td>\n",
              "      <td>9923</td>\n",
              "      <td>10223</td>\n",
              "    </tr>\n",
              "    <tr>\n",
              "      <th>4</th>\n",
              "      <td>(C, T, C, A, C, T, C, A, T, A, C, T, A, A, C, ...</td>\n",
              "      <td>208</td>\n",
              "      <td>9792</td>\n",
              "      <td>10092</td>\n",
              "    </tr>\n",
              "    <tr>\n",
              "      <th>5</th>\n",
              "      <td>(T, T, T, A, G, A, A, A, A, C, T, T, A, T, T, ...</td>\n",
              "      <td>69</td>\n",
              "      <td>9931</td>\n",
              "      <td>10231</td>\n",
              "    </tr>\n",
              "    <tr>\n",
              "      <th>6</th>\n",
              "      <td>(A, A, T, C, C, A, A, A, A, A, A, T, A, T, A, ...</td>\n",
              "      <td>58</td>\n",
              "      <td>9942</td>\n",
              "      <td>10242</td>\n",
              "    </tr>\n",
              "    <tr>\n",
              "      <th>7</th>\n",
              "      <td>(C, A, A, A, G, A, T, C, A, T, A, T, A, T, A, ...</td>\n",
              "      <td>158</td>\n",
              "      <td>9842</td>\n",
              "      <td>10142</td>\n",
              "    </tr>\n",
              "    <tr>\n",
              "      <th>8</th>\n",
              "      <td>(A, A, T, G, T, C, A, A, A, A, C, C, A, A, C, ...</td>\n",
              "      <td>136</td>\n",
              "      <td>9864</td>\n",
              "      <td>10164</td>\n",
              "    </tr>\n",
              "    <tr>\n",
              "      <th>9</th>\n",
              "      <td>(T, A, T, C, T, G, T, A, T, G, T, C, C, A, T, ...</td>\n",
              "      <td>156</td>\n",
              "      <td>9844</td>\n",
              "      <td>10144</td>\n",
              "    </tr>\n",
              "    <tr>\n",
              "      <th>10</th>\n",
              "      <td>(T, T, T, G, G, C, T, G, C, A, A, T, G, A, A, ...</td>\n",
              "      <td>185</td>\n",
              "      <td>9815</td>\n",
              "      <td>10115</td>\n",
              "    </tr>\n",
              "    <tr>\n",
              "      <th>11</th>\n",
              "      <td>(G, T, A, A, T, A, T, A, A, A, T, A, C, C, A, ...</td>\n",
              "      <td>222</td>\n",
              "      <td>9778</td>\n",
              "      <td>10078</td>\n",
              "    </tr>\n",
              "    <tr>\n",
              "      <th>12</th>\n",
              "      <td>(A, G, G, G, C, T, G, T, T, G, T, G, G, T, T, ...</td>\n",
              "      <td>63</td>\n",
              "      <td>9937</td>\n",
              "      <td>10237</td>\n",
              "    </tr>\n",
              "    <tr>\n",
              "      <th>13</th>\n",
              "      <td>(C, G, C, T, A, A, G, G, A, A, T, C, A, G, T, ...</td>\n",
              "      <td>75</td>\n",
              "      <td>9925</td>\n",
              "      <td>10225</td>\n",
              "    </tr>\n",
              "    <tr>\n",
              "      <th>14</th>\n",
              "      <td>(A, C, A, G, A, A, A, A, G, G, G, G, G, C, T, ...</td>\n",
              "      <td>128</td>\n",
              "      <td>9872</td>\n",
              "      <td>10172</td>\n",
              "    </tr>\n",
              "    <tr>\n",
              "      <th>15</th>\n",
              "      <td>(C, C, A, A, C, C, A, A, C, C, C, A, C, T, A, ...</td>\n",
              "      <td>115</td>\n",
              "      <td>9885</td>\n",
              "      <td>10185</td>\n",
              "    </tr>\n",
              "    <tr>\n",
              "      <th>16</th>\n",
              "      <td>(A, A, C, G, T, G, A, C, C, A, C, A, A, A, A, ...</td>\n",
              "      <td>66</td>\n",
              "      <td>9934</td>\n",
              "      <td>10234</td>\n",
              "    </tr>\n",
              "    <tr>\n",
              "      <th>17</th>\n",
              "      <td>(T, G, G, A, A, A, G, A, G, C, G, T, T, C, G, ...</td>\n",
              "      <td>189</td>\n",
              "      <td>9811</td>\n",
              "      <td>10111</td>\n",
              "    </tr>\n",
              "    <tr>\n",
              "      <th>18</th>\n",
              "      <td>(G, A, T, A, C, T, C, T, C, T, G, G, G, T, G, ...</td>\n",
              "      <td>133</td>\n",
              "      <td>9867</td>\n",
              "      <td>10167</td>\n",
              "    </tr>\n",
              "    <tr>\n",
              "      <th>19</th>\n",
              "      <td>(A, T, T, T, C, T, C, C, C, T, C, C, A, T, T, ...</td>\n",
              "      <td>106</td>\n",
              "      <td>9894</td>\n",
              "      <td>10194</td>\n",
              "    </tr>\n",
              "  </tbody>\n",
              "</table>\n",
              "</div>"
            ],
            "text/plain": [
              "                                        Sub-Sequences  ...  SequenceEnd\n",
              "0   (T, C, C, C, A, C, A, T, C, G, A, C, A, A, G, ...  ...        10222\n",
              "1   (C, A, G, C, A, C, G, G, C, T, C, T, G, T, T, ...  ...        10064\n",
              "2   (T, T, A, T, A, G, T, T, A, T, T, T, A, G, T, ...  ...        10191\n",
              "3   (T, G, A, T, A, T, T, A, T, T, T, T, A, T, G, ...  ...        10223\n",
              "4   (C, T, C, A, C, T, C, A, T, A, C, T, A, A, C, ...  ...        10092\n",
              "5   (T, T, T, A, G, A, A, A, A, C, T, T, A, T, T, ...  ...        10231\n",
              "6   (A, A, T, C, C, A, A, A, A, A, A, T, A, T, A, ...  ...        10242\n",
              "7   (C, A, A, A, G, A, T, C, A, T, A, T, A, T, A, ...  ...        10142\n",
              "8   (A, A, T, G, T, C, A, A, A, A, C, C, A, A, C, ...  ...        10164\n",
              "9   (T, A, T, C, T, G, T, A, T, G, T, C, C, A, T, ...  ...        10144\n",
              "10  (T, T, T, G, G, C, T, G, C, A, A, T, G, A, A, ...  ...        10115\n",
              "11  (G, T, A, A, T, A, T, A, A, A, T, A, C, C, A, ...  ...        10078\n",
              "12  (A, G, G, G, C, T, G, T, T, G, T, G, G, T, T, ...  ...        10237\n",
              "13  (C, G, C, T, A, A, G, G, A, A, T, C, A, G, T, ...  ...        10225\n",
              "14  (A, C, A, G, A, A, A, A, G, G, G, G, G, C, T, ...  ...        10172\n",
              "15  (C, C, A, A, C, C, A, A, C, C, C, A, C, T, A, ...  ...        10185\n",
              "16  (A, A, C, G, T, G, A, C, C, A, C, A, A, A, A, ...  ...        10234\n",
              "17  (T, G, G, A, A, A, G, A, G, C, G, T, T, C, G, ...  ...        10111\n",
              "18  (G, A, T, A, C, T, C, T, C, T, G, G, G, T, G, ...  ...        10167\n",
              "19  (A, T, T, T, C, T, C, C, C, T, C, C, A, T, T, ...  ...        10194\n",
              "\n",
              "[20 rows x 4 columns]"
            ]
          },
          "metadata": {
            "tags": []
          },
          "execution_count": 13
        }
      ]
    },
    {
      "cell_type": "markdown",
      "metadata": {
        "id": "RzMocqX1pnFq"
      },
      "source": [
        "## Describing the subsequence dataframe"
      ]
    },
    {
      "cell_type": "code",
      "metadata": {
        "id": "5VWYzxIcpl7V",
        "colab": {
          "base_uri": "https://localhost:8080/"
        },
        "outputId": "cde3b5b8-ff55-44e4-d116-7465b5d26757"
      },
      "source": [
        "print('Index frequencies:')\n",
        "print(subsequence_df['Promoter-Index'].value_counts())"
      ],
      "execution_count": 14,
      "outputs": [
        {
          "output_type": "stream",
          "text": [
            "Index frequencies:\n",
            "197    33\n",
            "250    32\n",
            "208    31\n",
            "115    31\n",
            "155    31\n",
            "       ..\n",
            "212    12\n",
            "235    12\n",
            "214    12\n",
            "59     10\n",
            "237     7\n",
            "Name: Promoter-Index, Length: 200, dtype: int64\n"
          ],
          "name": "stdout"
        }
      ]
    },
    {
      "cell_type": "markdown",
      "metadata": {
        "id": "A_pRtiCTp03M"
      },
      "source": [
        "## Density plot of subsequence dataframe"
      ]
    },
    {
      "cell_type": "code",
      "metadata": {
        "id": "03iJ57Mbp64s",
        "colab": {
          "base_uri": "https://localhost:8080/",
          "height": 354
        },
        "outputId": "b1e39795-a7f5-466d-ff5a-8699e60d5c18"
      },
      "source": [
        "plt.figure()\n",
        "subsequence_df['Promoter-Index'].plot.density(figsize = (25, 5), title = 'Promoter Indices')"
      ],
      "execution_count": 15,
      "outputs": [
        {
          "output_type": "execute_result",
          "data": {
            "text/plain": [
              "<matplotlib.axes._subplots.AxesSubplot at 0x7f0a1b61de50>"
            ]
          },
          "metadata": {
            "tags": []
          },
          "execution_count": 15
        },
        {
          "output_type": "display_data",
          "data": {
            "image/png": "[encoded data removed]",
            "text/plain": [
              "<Figure size 1800x360 with 1 Axes>"
            ]
          },
          "metadata": {
            "tags": [],
            "needs_background": "light"
          }
        }
      ]
    },
    {
      "cell_type": "markdown",
      "metadata": {
        "id": "B7abLJ8aiVE3"
      },
      "source": [
        "# Arranging features and labels"
      ]
    },
    {
      "cell_type": "code",
      "metadata": {
        "colab": {
          "base_uri": "https://localhost:8080/"
        },
        "id": "8Hj-l_87iU0T",
        "outputId": "9fb9de87-5b94-4522-f7b5-7c4ed8b1dbb8"
      },
      "source": [
        "X = dna_df.loc[:, 'One Hot Sequence'].to_numpy()\n",
        "y = dna_df.loc[:, 'Promoter-Index'].to_numpy()\n",
        "\n",
        "X_train = np.zeros((X.shape[0], 300, 4))\n",
        "for i in range(X.shape[0]):\n",
        "    (X_train[i, 0:300, 0], X_train[i, 0:300, 1], X_train[i, 0:300, 2], X_train[i, 0:300, 3]) = (X[i][3:1200:4], X[i][2:1200:4], X[i][1:1200:4], X[i][0:1200:4])\n",
        "\n",
        "X_neg = neg_dna_df.loc[:, 'One Hot Sequence'].to_numpy()\n",
        "\n",
        "X_train_neg = np.zeros((X_neg.shape[0], 300, 4))\n",
        "for i in range(X_neg.shape[0]):\n",
        "    (X_train_neg[i, 0:300, 0], X_train_neg[i, 0:300, 1], X_train_neg[i, 0:300, 2], X_train_neg[i, 0:300, 3]) = (X_neg[i][3:1200:4], X_neg[i][2:1200:4], X_neg[i][1:1200:4], X_neg[i][0:1200:4])\n",
        "\n",
        "X_train"
      ],
      "execution_count": 16,
      "outputs": [
        {
          "output_type": "execute_result",
          "data": {
            "text/plain": [
              "array([[[0., 0., 1., 0.],\n",
              "        [0., 1., 0., 0.],\n",
              "        [0., 1., 0., 0.],\n",
              "        ...,\n",
              "        [1., 0., 0., 0.],\n",
              "        [0., 0., 1., 0.],\n",
              "        [0., 0., 1., 0.]],\n",
              "\n",
              "       [[0., 1., 0., 0.],\n",
              "        [1., 0., 0., 0.],\n",
              "        [0., 0., 0., 1.],\n",
              "        ...,\n",
              "        [0., 0., 1., 0.],\n",
              "        [0., 0., 0., 1.],\n",
              "        [1., 0., 0., 0.]],\n",
              "\n",
              "       [[0., 0., 1., 0.],\n",
              "        [0., 0., 1., 0.],\n",
              "        [1., 0., 0., 0.],\n",
              "        ...,\n",
              "        [1., 0., 0., 0.],\n",
              "        [1., 0., 0., 0.],\n",
              "        [0., 1., 0., 0.]],\n",
              "\n",
              "       ...,\n",
              "\n",
              "       [[0., 1., 0., 0.],\n",
              "        [0., 0., 1., 0.],\n",
              "        [0., 1., 0., 0.],\n",
              "        ...,\n",
              "        [0., 1., 0., 0.],\n",
              "        [0., 0., 1., 0.],\n",
              "        [0., 0., 1., 0.]],\n",
              "\n",
              "       [[0., 0., 0., 1.],\n",
              "        [0., 1., 0., 0.],\n",
              "        [1., 0., 0., 0.],\n",
              "        ...,\n",
              "        [0., 0., 1., 0.],\n",
              "        [0., 1., 0., 0.],\n",
              "        [0., 0., 1., 0.]],\n",
              "\n",
              "       [[0., 0., 1., 0.],\n",
              "        [1., 0., 0., 0.],\n",
              "        [0., 0., 1., 0.],\n",
              "        ...,\n",
              "        [0., 0., 1., 0.],\n",
              "        [0., 1., 0., 0.],\n",
              "        [1., 0., 0., 0.]]])"
            ]
          },
          "metadata": {
            "tags": []
          },
          "execution_count": 16
        }
      ]
    },
    {
      "cell_type": "markdown",
      "metadata": {
        "id": "kd2gt-3Ug-Fx"
      },
      "source": [
        "## Constructing PyTorch Dataset"
      ]
    },
    {
      "cell_type": "code",
      "metadata": {
        "id": "F23XyAeTg_6L"
      },
      "source": [
        "# import torch\n",
        "# from torch.utils.data import Dataset, random_split\n",
        "\n",
        "# class Sequences(Dataset):\n",
        "#     def __init__(self, X, y):\n",
        "#         self.sequences = torch.from_numpy(X) # convert numpy arrays to torch tensors\n",
        "#         self.sequences = self.sequences.type(torch.float)\n",
        "#         self.sequences = self.sequences.unsqueeze(1) # add extra dimension for torch\n",
        "\n",
        "#         self.labels = torch.from_numpy(y)\n",
        "#         self.labels = self.labels.type(torch.float)\n",
        "#         self.labels = self.labels.unsqueeze(1)\n",
        "\n",
        "#     def __len__(self):\n",
        "#         assert len(self.sequences) == len(self.labels) # ensure 1-to-1 correspondence\n",
        "#         return len(self.labels)\n",
        "\n",
        "#     def __getitem__(self, i):\n",
        "#         return self.sequences[i], self.labels[i] # return X, y pair\n",
        "\n",
        "# Xt = X.reshape(-1,  1, 1200)\n",
        "# data = Sequences(Xt, y)\n",
        "# trainCount = int(0.8 * len(data)) # percent of our data for train\n",
        "# train, test = random_split(data, [trainCount, len(data) - trainCount])\n",
        "# train[0]"
      ],
      "execution_count": 17,
      "outputs": []
    },
    {
      "cell_type": "markdown",
      "metadata": {
        "id": "nCdAKB-0Kram"
      },
      "source": [
        "# Model Construction\n",
        "\n",
        "### General Idea:\n",
        "* Input\n",
        "  * a sequence of 300 base pairs\n",
        "* Next section:\n",
        "  * Multiple Parallel Convolutional Layers\n",
        "* Next section: \n",
        "  * BiLSTM\n",
        "* Final section:\n",
        "  * Fully-Connected Dense Net for promoter location prediction\n",
        "\n",
        "### Detailed Idea:\n",
        "* Input\n",
        "  * a sequence of 300 base pairs\n",
        "* Convolutional section:\n",
        "  * 5 Convolutional layers (stacked atop each other)\n",
        "    * 3 with window/kernel size: 27, 14, 7 respectively.\n",
        "    * 2 with window/kernel size: 27, 14 respectively.\n",
        "  * All Convolutional layers are followed by: \n",
        "    * ReLU activation function\n",
        "    * Max pooling layer with window size = 6\n",
        "    * Dropout layer with p = 0.5\n",
        "* BiLSTM section:\n",
        "  * 32 nodes \n",
        "* Flatten section\n",
        "  * With dropout with p = 0.5\n",
        "* Fully-connected section:\n",
        "  * 2 fully-connected layers for classification:\n",
        "    * first layer has 128 nodes\n",
        "      * with by ReLU activations\n",
        "      * dropout with p = 0.5\n",
        "    * second layer has 1 node\n",
        "      * with sigmoid activation\n",
        "\n",
        "# Optimizer\n",
        "* Adam optimizer\n",
        "  * lr = 0.001\n",
        "  * batch size = 32\n",
        "  * epochs = 50\n",
        "  * **EARLY STOPPING APPLIED ON VALIDATION LOSS**\n",
        "\n"
      ]
    },
    {
      "cell_type": "code",
      "metadata": {
        "id": "a3_JYfnlL0kj"
      },
      "source": [
        "# import torch.nn as nn\n",
        "# import torch.nn.functional as F\n",
        "\n",
        "# cnn_out_channels = 16 \n",
        "\n",
        "# class HideAndSeq(nn.Module):\n",
        "#   def __init__(self):\n",
        "#       super().__init__()\n",
        "#       # define the 5 parallel convolutional layers section\n",
        "#       # TATA section\n",
        "#       self.conv1 = nn.Conv1d(in_channels=1, out_channels=cnn_out_channels, kernel_size=27)\n",
        "#       self.conv3 = nn.Conv1d(in_channels=1, out_channels=cnn_out_channels, kernel_size=14)\n",
        "#       self.conv5 = nn.Conv1d(in_channels=1, out_channels=cnn_out_channels, kernel_size=7)\n",
        "\n",
        "#       # Non-TATA section\n",
        "#       self.conv2 = nn.Conv1d(in_channels=1, out_channels=cnn_out_channels, kernel_size=27)\n",
        "#       self.conv4 = nn.Conv1d(in_channels=1, out_channels=cnn_out_channels, kernel_size=14)\n",
        "\n",
        "#       # define layers following all conv layers\n",
        "#       self.pool = nn.MaxPool1d(kernel_size=6)\n",
        "#       self.dropout = nn.Dropout(p=0.5)\n",
        "      \n",
        "#       # define the BiLSTM section\n",
        "#       self.LSTM = nn.LSTM(983, 1, 32, bidirectional=True)\n",
        "\n",
        "#       # define fully connected layer\n",
        "#       self.fully128 = nn.Linear(32, 128)\n",
        "\n",
        "#       self.output = nn.Linear(128, 1)\n",
        "\n",
        "\n",
        "#   def forward(self, x):\n",
        "#     # apply ReLU activation and max pooling\n",
        "#     x1 = self.dropout(self.pool(F.relu(self.conv1(x))))\n",
        "#     x2 = self.dropout(self.pool(F.relu(self.conv2(x))))\n",
        "#     x3 = self.dropout(self.pool(F.relu(self.conv3(x))))\n",
        "#     x4 = self.dropout(self.pool(F.relu(self.conv4(x))))\n",
        "#     x5 = self.dropout(self.pool(F.relu(self.conv5(x))))\n",
        "\n",
        "#     # concatenate the convolutional outputs\n",
        "#     cat = torch.cat([x1, x2, x3, x4, x5], 2)\n",
        "\n",
        "#     # pass concatentation through LSTM with 32 recurrent cells/nodes\n",
        "#     BiLSTM = self.LSTM(cat)\n",
        "\n",
        "#     # define the flatten section\n",
        "#     # consider using global average pooling instead of flatten\n",
        "#     BiLSTM_output, _ = BiLSTM\n",
        "#     flatten = torch.flatten(BiLSTM_output)\n",
        "\n",
        "#     # define fully connected layers\n",
        "#     fully = self.dropout(F.relu(self.fully128(flatten)))\n",
        "\n",
        "#     # define output layer\n",
        "#     out = torch.sigmoid(self.output(fully))\n",
        "\n",
        "#     return out"
      ],
      "execution_count": 18,
      "outputs": []
    },
    {
      "cell_type": "markdown",
      "metadata": {
        "id": "wPcY_z-eX7m_"
      },
      "source": [
        "# Help for starting training loop\n",
        "* https://stackoverflow.com/questions/59584457/pytorch-is-there-a-definitive-training-loop-similar-to-keras-fit"
      ]
    },
    {
      "cell_type": "code",
      "metadata": {
        "id": "Xk-UPYX1WRoa"
      },
      "source": [
        "# import time\n",
        "\n",
        "# def fit(model, optimizer, loss_fn, train_dl, val_dl, epochs = 20, device = 'cuda'):\n",
        "#     '''\n",
        "#     Runs training loop for classification problems. Returns Keras-style\n",
        "#     per-epoch history of loss and accuracy over training and validation data.\n",
        "\n",
        "#     Parameters\n",
        "#     ----------\n",
        "#     model : nn.Module\n",
        "#         Neural network model\n",
        "#     optimizer : torch.optim.Optimizer\n",
        "#         Search space optimizer (e.g. Adam)\n",
        "#     loss_fn :\n",
        "#         Loss function (e.g. nn.CrossEntropyLoss())\n",
        "#     train_dl : \n",
        "#         Iterable dataloader for training data.\n",
        "#     val_dl :\n",
        "#         Iterable dataloader for validation data.\n",
        "#     epochs : int\n",
        "#         Number of epochs to run\n",
        "#     device : string\n",
        "#         Specifies 'cuda' or 'cpu'\n",
        "\n",
        "#     Returns\n",
        "#     -------\n",
        "#     Dictionary\n",
        "#         Similar to Keras' fit(), the output dictionary contains per-epoch\n",
        "#         history of training loss, training accuracy, validation loss, and\n",
        "#         validation accuracy.\n",
        "#     '''\n",
        "\n",
        "#     print('train() called: model=%s, opt=%s(lr=%f), epochs=%d, device=%s\\n' % \\\n",
        "#           (type(model).__name__, type(optimizer).__name__,\n",
        "#            optimizer.param_groups[0]['lr'], epochs, device))\n",
        "\n",
        "#     history = {} # Collects per-epoch loss and acc like Keras' fit().\n",
        "#     history['loss'] = []\n",
        "#     history['val_loss'] = []\n",
        "#     history['acc'] = []\n",
        "#     history['val_acc'] = []\n",
        "\n",
        "#     start_time_sec = time.time()\n",
        "\n",
        "#     for epoch in range(epochs):\n",
        "\n",
        "#         # --- TRAIN AND EVALUATE ON TRAINING SET -----------------------------\n",
        "#         model.train()\n",
        "#         train_loss         = 0.0\n",
        "#         num_train_correct  = 0\n",
        "#         num_train_examples = 0\n",
        "\n",
        "#         for batch in train_dl:\n",
        "\n",
        "#             optimizer.zero_grad()\n",
        "\n",
        "#             x    = batch[0].to(device)\n",
        "#             y    = batch[1].to(device)\n",
        "#             yhat = model(x)\n",
        "#             print('y is', y)\n",
        "#             loss = loss_fn(yhat, y)\n",
        "\n",
        "#             loss.backward()\n",
        "#             optimizer.step()\n",
        "\n",
        "#             train_loss         += loss.data.item() * x.size(0)\n",
        "#             num_train_correct  += (torch.max(yhat, 1)[1] == y).sum().item()\n",
        "#             num_train_examples += x.shape[0]\n",
        "\n",
        "#         train_acc   = num_train_correct / num_train_examples\n",
        "#         train_loss  = train_loss / len(train_dl.dataset)\n",
        "\n",
        "\n",
        "#         # --- EVALUATE ON VALIDATION SET -------------------------------------\n",
        "#         model.eval()\n",
        "#         val_loss         = 0.0\n",
        "#         num_val_correct  = 0\n",
        "#         num_val_examples = 0\n",
        "\n",
        "#         for batch in val_dl:\n",
        "\n",
        "#             x    = batch[0].to(device)\n",
        "#             y    = batch[1].to(device)\n",
        "#             yhat = model(x)\n",
        "#             loss = loss_fn(yhat, y)\n",
        "#             print('batch', batch)\n",
        "\n",
        "#             val_loss         += loss.data.item() * x.size(0)\n",
        "#             num_val_correct  += (torch.max(yhat, 1)[1] == y).sum().item()\n",
        "#             num_val_examples += y.shape[0]\n",
        "\n",
        "#         val_acc  = num_val_correct / num_val_examples\n",
        "#         val_loss = val_loss / len(val_dl.dataset)\n",
        "\n",
        "\n",
        "#         print('Epoch %3d/%3d, train loss: %5.2f, train acc: %5.2f, val loss: %5.2f, val acc: %5.2f' % \\\n",
        "#               (epoch+1, epochs, train_loss, train_acc, val_loss, val_acc))\n",
        "\n",
        "#         history['loss'].append(train_loss)\n",
        "#         history['val_loss'].append(val_loss)\n",
        "#         history['acc'].append(train_acc)\n",
        "#         history['val_acc'].append(val_acc)\n",
        "\n",
        "#     # END OF TRAINING LOOP\n",
        "\n",
        "\n",
        "#     end_time_sec       = time.time()\n",
        "#     total_time_sec     = end_time_sec - start_time_sec\n",
        "#     time_per_epoch_sec = total_time_sec / epochs\n",
        "#     print('Time total:     %5.2f sec' % (total_time_sec))\n",
        "#     print('Time per epoch: %5.2f sec' % (time_per_epoch_sec))\n",
        "\n",
        "#     return history"
      ],
      "execution_count": 19,
      "outputs": []
    },
    {
      "cell_type": "code",
      "metadata": {
        "id": "ve9AsyxxXDmn"
      },
      "source": [
        "# model = HideAndSeq()\n",
        "# optimizer = torch.optim.SGD(model.parameters(), lr=0.01, momentum=0.9)\n",
        "# loss_fn = nn.CrossEntropyLoss()\n",
        "# batch_size = 32\n",
        "\n",
        "# print('type of train', type(train))\n",
        "# print('length of train', len(train[0]))\n",
        "# # print('batch is ', )\n",
        "\n",
        "# fit(model, optimizer, loss_fn, train, test, device = 'cpu')"
      ],
      "execution_count": 20,
      "outputs": []
    },
    {
      "cell_type": "markdown",
      "metadata": {
        "id": "quHu7RCyw9E-"
      },
      "source": [
        "#Keras model"
      ]
    },
    {
      "cell_type": "markdown",
      "metadata": {
        "id": "37k0q4j5g9Df"
      },
      "source": [
        "##Setting up the data"
      ]
    },
    {
      "cell_type": "code",
      "metadata": {
        "id": "RLCk6nB9g_W8"
      },
      "source": [
        "np.random.seed(0)\n",
        "X_bin_pos = np.copy(X_train)\n",
        "y_bin_pos = np.ones(y.shape[0])\n",
        "\n",
        "X_bin_neg = np.copy(X_train_neg)\n",
        "y_bin_neg = np.zeros(X_bin_neg.shape[0])\n",
        "\n",
        "m_bin_pos, m_bin_neg = (X_bin_pos.shape[0], X_bin_neg.shape[0])\n",
        "m_bin_sys = m_bin_pos + m_bin_neg\n",
        "X_bin_sys = np.concatenate((X_bin_pos, X_bin_neg))\n",
        "y_bin_sys = np.concatenate((y_bin_pos, y_bin_neg))\n",
        "\n",
        "indices = np.random.permutation(np.arange(m_bin_sys))\n",
        "first = math.floor(m_bin_sys * .8)\n",
        "train_indices, test_indices = indices[:first], indices[first:]\n",
        "\n",
        "X_bin_train, X_bin_test = (X_bin_sys[train_indices], X_bin_sys[test_indices])\n",
        "y_bin_train, y_bin_test = (y_bin_sys[train_indices], y_bin_sys[test_indices])"
      ],
      "execution_count": 21,
      "outputs": []
    },
    {
      "cell_type": "markdown",
      "metadata": {
        "id": "jK3I45R064gG"
      },
      "source": [
        "##Constructing the model"
      ]
    },
    {
      "cell_type": "code",
      "metadata": {
        "id": "3pu-b7vGw-eA",
        "colab": {
          "base_uri": "https://localhost:8080/"
        },
        "outputId": "900079b5-4c9b-4e2c-c113-a8c20e8a4307"
      },
      "source": [
        "import tensorflow as tf\n",
        "from tensorflow import keras as K\n",
        "from tensorflow.keras.layers import Conv1D, MaxPooling1D, Dropout\n",
        "\n",
        "input_shape = (300, 4)\n",
        "\n",
        "inputs = tf.keras.Input(shape=input_shape)\n",
        "x1 = Conv1D(256, 27,  activation = 'relu')(inputs)\n",
        "x1 = MaxPooling1D(6)(x1)\n",
        "# x1 = Dropout(0.5)(x1)\n",
        "\n",
        "x2 = Conv1D(256, 14,  activation = 'relu')(inputs)\n",
        "x2 = MaxPooling1D(6)(x2)\n",
        "# x2 = Dropout(0.5)(x2)\n",
        "\n",
        "x3 = Conv1D(256, 7,   activation = 'relu')(inputs)\n",
        "x3 = MaxPooling1D(6)(x3)\n",
        "# x3 = Dropout(0.5)(x3)\n",
        "\n",
        "x4 = Conv1D(256, 27,  activation = 'relu')(inputs)\n",
        "x4 = MaxPooling1D(6)(x4)\n",
        "# x4 = Dropout(0.5)(x4)\n",
        "\n",
        "x5 = Conv1D(256, 14,  activation = 'relu')(inputs)\n",
        "x5 = MaxPooling1D(6)(x5)\n",
        "# x5 = Dropout(0.5)(x5)\n",
        "\n",
        "x = K.layers.concatenate([x1, x2, x3, x4, x5], axis=1)\n",
        "\n",
        "BiLSTM_output = K.layers.Bidirectional(K.layers.LSTM(32))(x)\n",
        "\n",
        "f = K.layers.Flatten()(BiLSTM_output)\n",
        "\n",
        "d1 = K.layers.Dense(128, activation = 'relu')(f)\n",
        "outputs = K.layers.Dense(1, activation = 'softmax')(d1)\n",
        "\n",
        "model = K.Model(inputs, outputs)\n",
        "model.summary()"
      ],
      "execution_count": 27,
      "outputs": [
        {
          "output_type": "stream",
          "text": [
            "Model: \"model_1\"\n",
            "_________________________________________________________________\n",
            "Layer (type)                 Output Shape              Param #   \n",
            "=================================================================\n",
            "input_2 (InputLayer)         [(None, 300, 4)]          0         \n",
            "_________________________________________________________________\n",
            "conv1d_3 (Conv1D)            (None, 274, 256)          27904     \n",
            "_________________________________________________________________\n",
            "max_pooling1d_3 (MaxPooling1 (None, 45, 256)           0         \n",
            "_________________________________________________________________\n",
            "conv1d_4 (Conv1D)            (None, 32, 128)           458880    \n",
            "_________________________________________________________________\n",
            "max_pooling1d_4 (MaxPooling1 (None, 5, 128)            0         \n",
            "_________________________________________________________________\n",
            "conv1d_5 (Conv1D)            (None, 5, 32)             28704     \n",
            "_________________________________________________________________\n",
            "max_pooling1d_5 (MaxPooling1 (None, 1, 32)             0         \n",
            "_________________________________________________________________\n",
            "flatten_1 (Flatten)          (None, 32)                0         \n",
            "_________________________________________________________________\n",
            "dense_6 (Dense)              (None, 512)               16896     \n",
            "_________________________________________________________________\n",
            "dense_7 (Dense)              (None, 256)               131328    \n",
            "_________________________________________________________________\n",
            "dense_8 (Dense)              (None, 128)               32896     \n",
            "_________________________________________________________________\n",
            "dense_9 (Dense)              (None, 128)               16512     \n",
            "_________________________________________________________________\n",
            "dense_10 (Dense)             (None, 64)                8256      \n",
            "_________________________________________________________________\n",
            "dense_11 (Dense)             (None, 1)                 65        \n",
            "=================================================================\n",
            "Total params: 721,441\n",
            "Trainable params: 721,441\n",
            "Non-trainable params: 0\n",
            "_________________________________________________________________\n"
          ],
          "name": "stdout"
        }
      ]
    },
    {
      "cell_type": "markdown",
      "metadata": {
        "id": "iaLLi4Bw66rr"
      },
      "source": [
        "##Compiling the model"
      ]
    },
    {
      "cell_type": "code",
      "metadata": {
        "id": "D77rgA5k666A"
      },
      "source": [
        "# y_ohe = K.utils.to_categorical(y, num_classes = 300)\n",
        "\n",
        "opt = K.optimizers.Adam(learning_rate=.001)\n",
        "\n",
        "model.compile(optimizer=opt, loss='binary_crossentropy', metrics=['accuracy'])"
      ],
      "execution_count": 30,
      "outputs": []
    },
    {
      "cell_type": "markdown",
      "metadata": {
        "id": "EcyRZtkN67Tx"
      },
      "source": [
        "##Fitting the model"
      ]
    },
    {
      "cell_type": "code",
      "metadata": {
        "id": "FplSbnj467re",
        "colab": {
          "base_uri": "https://localhost:8080/"
        },
        "outputId": "c18e8b58-f8c7-4ecd-dd6b-8f790279ddf2"
      },
      "source": [
        "model.fit(X_bin_train, y_bin_train, batch_size = 32, epochs = 50, verbose = 1, validation_split = .2)"
      ],
      "execution_count": 31,
      "outputs": [
        {
          "output_type": "stream",
          "text": [
            "Epoch 1/50\n",
            "166/166 [==============================] - 2s 8ms/step - loss: 0.6932 - accuracy: 0.5010 - val_loss: 0.6934 - val_accuracy: 0.4921\n",
            "Epoch 2/50\n",
            "166/166 [==============================] - 1s 6ms/step - loss: 0.6931 - accuracy: 0.5010 - val_loss: 0.6933 - val_accuracy: 0.4921\n",
            "Epoch 3/50\n",
            "166/166 [==============================] - 1s 6ms/step - loss: 0.6931 - accuracy: 0.5010 - val_loss: 0.6933 - val_accuracy: 0.4921\n",
            "Epoch 4/50\n",
            "166/166 [==============================] - 1s 6ms/step - loss: 0.6930 - accuracy: 0.5010 - val_loss: 0.6932 - val_accuracy: 0.4921\n",
            "Epoch 5/50\n",
            "166/166 [==============================] - 1s 6ms/step - loss: 0.6931 - accuracy: 0.5010 - val_loss: 0.6932 - val_accuracy: 0.4921\n",
            "Epoch 6/50\n",
            "166/166 [==============================] - 1s 6ms/step - loss: 0.6931 - accuracy: 0.5010 - val_loss: 0.6932 - val_accuracy: 0.4921\n",
            "Epoch 7/50\n",
            "166/166 [==============================] - 1s 6ms/step - loss: 0.6931 - accuracy: 0.5010 - val_loss: 0.6932 - val_accuracy: 0.4921\n",
            "Epoch 8/50\n",
            "166/166 [==============================] - 1s 6ms/step - loss: 0.6930 - accuracy: 0.5010 - val_loss: 0.6932 - val_accuracy: 0.4921\n",
            "Epoch 9/50\n",
            "166/166 [==============================] - 1s 6ms/step - loss: 0.6931 - accuracy: 0.5010 - val_loss: 0.6932 - val_accuracy: 0.4921\n",
            "Epoch 10/50\n",
            "166/166 [==============================] - 1s 6ms/step - loss: 0.6931 - accuracy: 0.5010 - val_loss: 0.6932 - val_accuracy: 0.4921\n",
            "Epoch 11/50\n",
            "166/166 [==============================] - 1s 6ms/step - loss: 0.6931 - accuracy: 0.5010 - val_loss: 0.6932 - val_accuracy: 0.4921\n",
            "Epoch 12/50\n",
            "166/166 [==============================] - 1s 6ms/step - loss: 0.6930 - accuracy: 0.5010 - val_loss: 0.6932 - val_accuracy: 0.4921\n",
            "Epoch 13/50\n",
            "166/166 [==============================] - 1s 6ms/step - loss: 0.6930 - accuracy: 0.5010 - val_loss: 0.6932 - val_accuracy: 0.4921\n",
            "Epoch 14/50\n",
            "166/166 [==============================] - 1s 6ms/step - loss: 0.6931 - accuracy: 0.5010 - val_loss: 0.6932 - val_accuracy: 0.4921\n",
            "Epoch 15/50\n",
            "166/166 [==============================] - 1s 6ms/step - loss: 0.6931 - accuracy: 0.5010 - val_loss: 0.6932 - val_accuracy: 0.4921\n",
            "Epoch 16/50\n",
            "166/166 [==============================] - 1s 6ms/step - loss: 0.6931 - accuracy: 0.5010 - val_loss: 0.6932 - val_accuracy: 0.4921\n",
            "Epoch 17/50\n",
            "166/166 [==============================] - 1s 6ms/step - loss: 0.6931 - accuracy: 0.5010 - val_loss: 0.6932 - val_accuracy: 0.4921\n",
            "Epoch 18/50\n",
            "166/166 [==============================] - 1s 6ms/step - loss: 0.6931 - accuracy: 0.5010 - val_loss: 0.6932 - val_accuracy: 0.4921\n",
            "Epoch 19/50\n",
            "166/166 [==============================] - 1s 6ms/step - loss: 0.6930 - accuracy: 0.5010 - val_loss: 0.6932 - val_accuracy: 0.4921\n",
            "Epoch 20/50\n",
            "166/166 [==============================] - 1s 6ms/step - loss: 0.6931 - accuracy: 0.5010 - val_loss: 0.6932 - val_accuracy: 0.4921\n",
            "Epoch 21/50\n",
            "166/166 [==============================] - 1s 6ms/step - loss: 0.6931 - accuracy: 0.5010 - val_loss: 0.6932 - val_accuracy: 0.4921\n",
            "Epoch 22/50\n",
            "166/166 [==============================] - 1s 6ms/step - loss: 0.6931 - accuracy: 0.5010 - val_loss: 0.6932 - val_accuracy: 0.4921\n",
            "Epoch 23/50\n",
            "166/166 [==============================] - 1s 6ms/step - loss: 0.6931 - accuracy: 0.5010 - val_loss: 0.6932 - val_accuracy: 0.4921\n",
            "Epoch 24/50\n",
            "166/166 [==============================] - 1s 6ms/step - loss: 0.6930 - accuracy: 0.5010 - val_loss: 0.6932 - val_accuracy: 0.4921\n",
            "Epoch 25/50\n",
            "166/166 [==============================] - 1s 6ms/step - loss: 0.6930 - accuracy: 0.5010 - val_loss: 0.6932 - val_accuracy: 0.4921\n",
            "Epoch 26/50\n",
            "166/166 [==============================] - 1s 6ms/step - loss: 0.6930 - accuracy: 0.5010 - val_loss: 0.6932 - val_accuracy: 0.4921\n",
            "Epoch 27/50\n",
            "166/166 [==============================] - 1s 6ms/step - loss: 0.6930 - accuracy: 0.5010 - val_loss: 0.6932 - val_accuracy: 0.4921\n",
            "Epoch 28/50\n",
            "166/166 [==============================] - 1s 6ms/step - loss: 0.6931 - accuracy: 0.5010 - val_loss: 0.6932 - val_accuracy: 0.4921\n",
            "Epoch 29/50\n",
            "166/166 [==============================] - 1s 6ms/step - loss: 0.6931 - accuracy: 0.5010 - val_loss: 0.6932 - val_accuracy: 0.4921\n",
            "Epoch 30/50\n",
            "166/166 [==============================] - 1s 6ms/step - loss: 0.6931 - accuracy: 0.5010 - val_loss: 0.6932 - val_accuracy: 0.4921\n",
            "Epoch 31/50\n",
            "166/166 [==============================] - 1s 6ms/step - loss: 0.6930 - accuracy: 0.5010 - val_loss: 0.6932 - val_accuracy: 0.4921\n",
            "Epoch 32/50\n",
            "166/166 [==============================] - 1s 6ms/step - loss: 0.6931 - accuracy: 0.5010 - val_loss: 0.6932 - val_accuracy: 0.4921\n",
            "Epoch 33/50\n",
            "166/166 [==============================] - 1s 6ms/step - loss: 0.6930 - accuracy: 0.5010 - val_loss: 0.6932 - val_accuracy: 0.4921\n",
            "Epoch 34/50\n",
            "166/166 [==============================] - 1s 6ms/step - loss: 0.6930 - accuracy: 0.5010 - val_loss: 0.6932 - val_accuracy: 0.4921\n",
            "Epoch 35/50\n",
            "166/166 [==============================] - 1s 6ms/step - loss: 0.6930 - accuracy: 0.5010 - val_loss: 0.6932 - val_accuracy: 0.4921\n",
            "Epoch 36/50\n",
            "166/166 [==============================] - 1s 6ms/step - loss: 0.6930 - accuracy: 0.5010 - val_loss: 0.6932 - val_accuracy: 0.4921\n",
            "Epoch 37/50\n",
            "166/166 [==============================] - 1s 6ms/step - loss: 0.6931 - accuracy: 0.5010 - val_loss: 0.6932 - val_accuracy: 0.4921\n",
            "Epoch 38/50\n",
            "166/166 [==============================] - 1s 6ms/step - loss: 0.6930 - accuracy: 0.5010 - val_loss: 0.6932 - val_accuracy: 0.4921\n",
            "Epoch 39/50\n",
            "166/166 [==============================] - 1s 6ms/step - loss: 0.6931 - accuracy: 0.5010 - val_loss: 0.6932 - val_accuracy: 0.4921\n",
            "Epoch 40/50\n",
            "166/166 [==============================] - 1s 6ms/step - loss: 0.6931 - accuracy: 0.5010 - val_loss: 0.6932 - val_accuracy: 0.4921\n",
            "Epoch 41/50\n",
            "166/166 [==============================] - 1s 6ms/step - loss: 0.6931 - accuracy: 0.5010 - val_loss: 0.6932 - val_accuracy: 0.4921\n",
            "Epoch 42/50\n",
            "166/166 [==============================] - 1s 6ms/step - loss: 0.6931 - accuracy: 0.5010 - val_loss: 0.6932 - val_accuracy: 0.4921\n",
            "Epoch 43/50\n",
            "166/166 [==============================] - 1s 6ms/step - loss: 0.6931 - accuracy: 0.5010 - val_loss: 0.6932 - val_accuracy: 0.4921\n",
            "Epoch 44/50\n",
            "166/166 [==============================] - 1s 6ms/step - loss: 0.6931 - accuracy: 0.5010 - val_loss: 0.6931 - val_accuracy: 0.4921\n",
            "Epoch 45/50\n",
            "166/166 [==============================] - 1s 6ms/step - loss: 0.6930 - accuracy: 0.5010 - val_loss: 0.6932 - val_accuracy: 0.4921\n",
            "Epoch 46/50\n",
            "166/166 [==============================] - 1s 6ms/step - loss: 0.6930 - accuracy: 0.5010 - val_loss: 0.6932 - val_accuracy: 0.4921\n",
            "Epoch 47/50\n",
            "166/166 [==============================] - 1s 6ms/step - loss: 0.6930 - accuracy: 0.5010 - val_loss: 0.6932 - val_accuracy: 0.4921\n",
            "Epoch 48/50\n",
            "166/166 [==============================] - 1s 6ms/step - loss: 0.6931 - accuracy: 0.5010 - val_loss: 0.6932 - val_accuracy: 0.4921\n",
            "Epoch 49/50\n",
            "166/166 [==============================] - 1s 6ms/step - loss: 0.6931 - accuracy: 0.5010 - val_loss: 0.6932 - val_accuracy: 0.4921\n",
            "Epoch 50/50\n",
            "166/166 [==============================] - 1s 6ms/step - loss: 0.6931 - accuracy: 0.5010 - val_loss: 0.6932 - val_accuracy: 0.4921\n"
          ],
          "name": "stdout"
        },
        {
          "output_type": "execute_result",
          "data": {
            "text/plain": [
              "<tensorflow.python.keras.callbacks.History at 0x7f09920b4b90>"
            ]
          },
          "metadata": {
            "tags": []
          },
          "execution_count": 31
        }
      ]
    },
    {
      "cell_type": "code",
      "metadata": {
        "id": "2SmlsLjNOLVW"
      },
      "source": [
        "y_hat = model.predict(X_train_neg)"
      ],
      "execution_count": 25,
      "outputs": []
    },
    {
      "cell_type": "code",
      "metadata": {
        "id": "IEKmahZ4Oj5o",
        "outputId": "52e14057-1660-4088-e81d-578d339947e8",
        "colab": {
          "base_uri": "https://localhost:8080/"
        }
      },
      "source": [
        "y_hat"
      ],
      "execution_count": 26,
      "outputs": [
        {
          "output_type": "execute_result",
          "data": {
            "text/plain": [
              "array([[1.],\n",
              "       [1.],\n",
              "       [1.],\n",
              "       ...,\n",
              "       [1.],\n",
              "       [1.],\n",
              "       [1.]], dtype=float32)"
            ]
          },
          "metadata": {
            "tags": []
          },
          "execution_count": 26
        }
      ]
    }
  ]
}