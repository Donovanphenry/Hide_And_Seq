{
 "cells": [
  {
   "cell_type": "markdown",
   "metadata": {},
   "source": [
    "## Installing Proper Required Libraries"
   ]
  },
  {
   "cell_type": "code",
   "execution_count": null,
   "metadata": {},
   "outputs": [],
   "source": [
    "!pip install Bio\n",
    "!pip install pandas\n",
    "!pip install numpy\n",
    "import matplotlib.pyplot as plt\n",
    "%matplotlib inline"
   ]
  },
  {
   "cell_type": "markdown",
   "metadata": {},
   "source": [
    "## Building DataFrames"
   ]
  },
  {
   "cell_type": "code",
   "execution_count": null,
   "metadata": {},
   "outputs": [],
   "source": [
    "from Bio import SeqIO\n",
    "import pandas as pd\n",
    "import numpy as np\n",
    "import math\n",
    "\n",
    "# Initializing lists that will contain info about each record\n",
    "accessIDs = []\n",
    "DNA_Sequences = []\n",
    "sequence_lengths = []\n",
    "\n",
    "# All DNA sequences of the human genome are 16,000 characters long (Hence epd_16K)\n",
    "# if using epd_16K. If using epd_seq, then change the sequence_length variable\n",
    "# to 600\n",
    "sequence_length = 16000\n",
    "\n",
    "# Loop through all records parsed by SeqIO.\n",
    "#\n",
    "# \") Hs\" on the description line means that\n",
    "# we've found a Homo sapien DNA sequence, so\n",
    "# add the appropriate properties of seq_record\n",
    "# to the appropriate arrays. This is our way\n",
    "# to filter out non-homosapien sequences\n",
    "for seq_record in SeqIO.parse('epd_16K.seq', 'fasta'):\n",
    "  if seq_record.seq.find('N') == -1 and seq_record.description.find(') Hs') != -1:\n",
    "    accessIDs.append(seq_record.id)\n",
    "    DNA_Sequences.append(seq_record.seq)\n",
    "    sequence_lengths.append(len(seq_record))\n",
    "\n",
    "print(\"Number of sequences: \" + str(len(DNA_Sequences)))\n",
    "\n",
    "# Defining rows of PSFM and initializing all frequencies to 0\n",
    "adenine_frequencies = np.zeros(sequence_length)\n",
    "guanine_frequencies = np.zeros(sequence_length)\n",
    "thymine_frequencies = np.zeros(sequence_length)\n",
    "cytosine_frequencies = np.zeros(sequence_length)\n",
    "other_frequency = np.zeros(sequence_length)\n",
    "\n",
    "# Loop through all the DNA sequences in the DNA_Sequence list.\n",
    "# For each sequence, check if the nucleobase (character) at \n",
    "# postition sequence_index is adenine, guanine, thymine, or cytosine.\n",
    "# If it's any of those, then increment the count at that list's index.\n",
    "for sequence in DNA_Sequences:\n",
    "  # Reset where the index is in the\n",
    "  # sequence string\n",
    "  sequence_index = 0\n",
    "\n",
    "  for nucleobase in sequence:\n",
    "    if nucleobase == 'A':\n",
    "      adenine_frequencies[sequence_index] += 1\n",
    "    elif nucleobase == 'G':\n",
    "      guanine_frequencies[sequence_index] += 1\n",
    "    elif nucleobase == 'T':\n",
    "      thymine_frequencies[sequence_index] += 1\n",
    "    elif nucleobase == 'C':\n",
    "      cytosine_frequencies[sequence_index] += 1\n",
    "    else:\n",
    "      other_frequency[sequence_index] += 1\n",
    "\n",
    "    sequence_index += 1\n",
    "\n",
    "\n",
    "# In the above loop, we calculated how many occurences M of a particular nucelobase N\n",
    "# at some sequence index I. In this loop, we divide each number of occurences by the total\n",
    "# number of possible occurences there could be, which would be the number of records\n",
    "# because each record is guaranteed to have a nucleobase at character I in the human\n",
    "# DNA sequence. I.e.\n",
    "# P(sequence[i] == N) == (# of nucleobases N found at index i) / (# of possible nucleobases N at index i)\n",
    "for i in range(sequence_length):\n",
    "  adenine_frequencies[i] = (adenine_frequencies[i] / len(DNA_Sequences)) * 100\n",
    "  guanine_frequencies[i] = (guanine_frequencies[i] / len(DNA_Sequences)) * 100\n",
    "  thymine_frequencies[i] = (thymine_frequencies[i] / len(DNA_Sequences)) * 100\n",
    "  cytosine_frequencies[i] = (cytosine_frequencies[i] / len(DNA_Sequences)) * 100\n",
    "\n",
    "\n",
    "# Defining the series that will be fed into the pandas Data Frame, based off the lists defined above\n",
    "records_df = pd.DataFrame({'IDs': accessIDs, 'Sequences': DNA_Sequences, 'Lengths': sequence_lengths},\n",
    "                          columns = ['IDs', 'Sequences', 'Lengths'])\n",
    "\n",
    "# Defining the data frame for the Position Specific Frequency Matrix (PSFM)\n",
    "frequency_df = pd.DataFrame({'Adenine Frequencies': adenine_frequencies, 'Guanine Frequencies': guanine_frequencies, 'Thymine Frequencies': thymine_frequencies, 'Cytosine Frequencies': cytosine_frequencies},\n",
    "                            columns = ['Adenine Frequencies', 'Guanine Frequencies', 'Thymine Frequencies', 'Cytosine Frequencies'])"
   ]
  },
  {
   "cell_type": "markdown",
   "metadata": {},
   "source": [
    "## Printing records dataframe"
   ]
  },
  {
   "cell_type": "code",
   "execution_count": null,
   "metadata": {},
   "outputs": [],
   "source": [
    "records_df.head(n=20)"
   ]
  },
  {
   "cell_type": "markdown",
   "metadata": {},
   "source": [
    "## Printing frequency data frame"
   ]
  },
  {
   "cell_type": "code",
   "execution_count": null,
   "metadata": {},
   "outputs": [],
   "source": [
    "frequency_df.head(n=10500)"
   ]
  },
  {
   "cell_type": "markdown",
   "metadata": {},
   "source": [
    "## Describing Frequency data frame"
   ]
  },
  {
   "cell_type": "code",
   "execution_count": null,
   "metadata": {},
   "outputs": [],
   "source": [
    "frequency_df.describe()"
   ]
  },
  {
   "cell_type": "markdown",
   "metadata": {},
   "source": [
    "## Plotting frequency graph"
   ]
  },
  {
   "cell_type": "code",
   "execution_count": null,
   "metadata": {},
   "outputs": [],
   "source": [
    "plt.figure()\n",
    "frequency_df.plot(subplots=True, figsize=(25, 15), xlabel = \"Position in DNA Sequence\", ylabel = \"P(nucleobase)\", title = \"Position Specific Frequency Graph\", ylim = (0, 55))"
   ]
  }
 ],
 "metadata": {
  "kernelspec": {
   "display_name": "Python 3",
   "language": "python",
   "name": "python3"
  },
  "language_info": {
   "codemirror_mode": {
    "name": "ipython",
    "version": 3
   },
   "file_extension": ".py",
   "mimetype": "text/x-python",
   "name": "python",
   "nbconvert_exporter": "python",
   "pygments_lexer": "ipython3",
   "version": "3.8.5"
  }
 },
 "nbformat": 4,
 "nbformat_minor": 4
}
