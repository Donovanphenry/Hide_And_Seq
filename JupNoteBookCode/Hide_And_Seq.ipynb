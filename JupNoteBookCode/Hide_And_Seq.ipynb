{
  "nbformat": 4,
  "nbformat_minor": 0,
  "metadata": {
    "kernelspec": {
      "display_name": "Python 3",
      "language": "python",
      "name": "python3"
    },
    "language_info": {
      "codemirror_mode": {
        "name": "ipython",
        "version": 3
      },
      "file_extension": ".py",
      "mimetype": "text/x-python",
      "name": "python",
      "nbconvert_exporter": "python",
      "pygments_lexer": "ipython3",
      "version": "3.8.5"
    },
    "colab": {
      "name": "PromoterPredictor_DataFrames.ipynb",
      "provenance": []
    }
  },
  "cells": [
    {
      "cell_type": "markdown",
      "metadata": {
        "id": "Kkq4nAmXpDy2"
      },
      "source": [
        "## Installing Proper Required Libraries"
      ]
    },
    {
      "cell_type": "code",
      "metadata": {
        "id": "Yys5AHCepDy7"
      },
      "source": [
        "!pip install Bio\n",
        "!pip install pandas\n",
        "!pip install numpy\n",
        "import matplotlib.pyplot as plt\n",
        "%matplotlib inline\n",
        "from IPython.display import clear_output\n",
        "\n",
        "# download data\n",
        "!wget --user=ftp ftp://ccg.epfl.ch/epd/current/epd_16K.seq\n",
        "\n",
        "clear_output()"
      ],
      "execution_count": 13,
      "outputs": []
    },
    {
      "cell_type": "markdown",
      "metadata": {
        "id": "CMHahNnGpDy8"
      },
      "source": [
        "## Building DataFrames"
      ]
    },
    {
      "cell_type": "code",
      "metadata": {
        "id": "JqsCCk96pDy8",
        "colab": {
          "base_uri": "https://localhost:8080/"
        },
        "outputId": "7e10840f-2c5d-4b2c-af93-d825ddb9c854"
      },
      "source": [
        "from Bio import SeqIO\n",
        "import pandas as pd\n",
        "import numpy as np\n",
        "import math\n",
        "import random\n",
        "\n",
        "# Initializing lists that will contain info about each record\n",
        "accessIDs = []\n",
        "DNA_Sequences = []\n",
        "sequence_lengths = []\n",
        "parsed_subsequences = []\n",
        "\n",
        "# All DNA sequences of the human genome are 16,000 characters long (Hence epd_16K)\n",
        "# if using epd_16K. If using epd_seq, then change the sequence_length variable\n",
        "# to 600\n",
        "sequence_length = 16000\n",
        "\n",
        "# Loop through all records parsed by SeqIO.\n",
        "#\n",
        "# \") Hs\" on the description line means that\n",
        "# we've found a Homo sapien DNA sequence, so\n",
        "# add the appropriate properties of seq_record\n",
        "# to the appropriate arrays. This is our way\n",
        "# to filter out non-homosapien sequences\n",
        "for seq_record in SeqIO.parse('epd_16K.seq', 'fasta'):\n",
        "  if seq_record.seq.find('N') == -1 and seq_record.description.find(') Hs') != -1:\n",
        "    accessIDs.append(seq_record.id)\n",
        "    DNA_Sequences.append(seq_record.seq)\n",
        "    sequence_lengths.append(len(seq_record))\n",
        "\n",
        "print(\"Number of sequences: \" + str(len(DNA_Sequences)))\n",
        "\n",
        "# Defining rows of PSFM and initializing all frequencies to 0\n",
        "adenine_frequencies = np.zeros(sequence_length)\n",
        "guanine_frequencies = np.zeros(sequence_length)\n",
        "thymine_frequencies = np.zeros(sequence_length)\n",
        "cytosine_frequencies = np.zeros(sequence_length)\n",
        "other_frequency = np.zeros(sequence_length)\n",
        "\n",
        "# Loop through all the DNA sequences in the DNA_Sequence list.\n",
        "# For each sequence, check if the nucleobase (character) at \n",
        "# postition sequence_index is adenine, guanine, thymine, or cytosine.\n",
        "# If it's any of those, then increment the count at that list's index.\n",
        "for sequence in DNA_Sequences:\n",
        "\n",
        "  # Randomly generating where the window begins,\n",
        "  # and since we want each sequence to be 6,000 chars\n",
        "  # long, we add 6,000 to the rng splicedStart, giving\n",
        "  # us the spliced end. Then, since we moved the start of\n",
        "  # the sequence up by a number of splicedStart, to get where\n",
        "  # the promoter is in relation to that new start, we can\n",
        "  # subtract splicedStart from 10,000\n",
        "  # i.e. promoterindex = 10,000 - splicedStart\n",
        "  splicedStart = random.randint(5000, 9000)\n",
        "  splicedEnd = splicedStart + 6000\n",
        "  sub_sequence = sequence[splicedStart : splicedEnd + 1]\n",
        "  \n",
        "  promoterIndex = 10000 - splicedStart\n",
        "\n",
        "  pair = (sub_sequence, promoterIndex, splicedStart, splicedEnd)\n",
        "  parsed_subsequences.append(pair)\n",
        "\n",
        "  # Reset where the index is in the\n",
        "  # sequence string\n",
        "  sequence_index = 0\n",
        "\n",
        "  for nucleobase in sequence:\n",
        "    if nucleobase == 'A':\n",
        "      adenine_frequencies[sequence_index] += 1\n",
        "    elif nucleobase == 'G':\n",
        "      guanine_frequencies[sequence_index] += 1\n",
        "    elif nucleobase == 'T':\n",
        "      thymine_frequencies[sequence_index] += 1\n",
        "    elif nucleobase == 'C':\n",
        "      cytosine_frequencies[sequence_index] += 1\n",
        "    else:\n",
        "      other_frequency[sequence_index] += 1\n",
        "\n",
        "    sequence_index += 1\n",
        "\n",
        "\n",
        "subsequence_df = pd.DataFrame(parsed_subsequences, columns = ['Sub-Sequences', 'PromoterIndex', 'SequenceStart', 'SequenceEnd'])\n",
        "\n",
        "# In the above loop, we calculated how many occurences M of a particular nucelobase N\n",
        "# at some sequence index I. In this loop, we divide each number of occurences by the total\n",
        "# number of possible occurences there could be, which would be the number of records\n",
        "# because each record is guaranteed to have a nucleobase at character I in the human\n",
        "# DNA sequence. I.e.\n",
        "# P(sequence[i] == N) == (# of nucleobases N found at index i) / (# of possible nucleobases N at index i)\n",
        "for i in range(sequence_length):\n",
        "  adenine_frequencies[i] = (adenine_frequencies[i] / len(DNA_Sequences)) * 100\n",
        "  guanine_frequencies[i] = (guanine_frequencies[i] / len(DNA_Sequences)) * 100\n",
        "  thymine_frequencies[i] = (thymine_frequencies[i] / len(DNA_Sequences)) * 100\n",
        "  cytosine_frequencies[i] = (cytosine_frequencies[i] / len(DNA_Sequences)) * 100\n",
        "\n",
        "\n",
        "# Defining the series that will be fed into the pandas Data Frame, based off the lists defined above\n",
        "records_df = pd.DataFrame({'IDs': accessIDs, 'Sequences': DNA_Sequences, 'Lengths': sequence_lengths},\n",
        "                          columns = ['IDs', 'Sequences', 'Lengths'])\n",
        "\n",
        "# Defining the data frame for the Position Specific Frequency Matrix (PSFM)\n",
        "frequency_df = pd.DataFrame({'Adenine Frequencies': adenine_frequencies, 'Guanine Frequencies': guanine_frequencies, 'Thymine Frequencies': thymine_frequencies, 'Cytosine Frequencies': cytosine_frequencies},\n",
        "                            columns = ['Adenine Frequencies', 'Guanine Frequencies', 'Thymine Frequencies', 'Cytosine Frequencies'])"
      ],
      "execution_count": 14,
      "outputs": [
        {
          "output_type": "stream",
          "text": [
            "Number of sequences: 1837\n"
          ],
          "name": "stdout"
        }
      ]
    },
    {
      "cell_type": "markdown",
      "metadata": {
        "id": "0TOg6thKpV2m"
      },
      "source": [
        "# RECORDS DATAFRAME INFORMATION\r\n",
        "\r\n",
        "---\r\n",
        "\r\n"
      ]
    },
    {
      "cell_type": "markdown",
      "metadata": {
        "id": "eREoALEnpDy8"
      },
      "source": [
        "## Printing records dataframe"
      ]
    },
    {
      "cell_type": "code",
      "metadata": {
        "id": "Z2klEXodpDy9",
        "colab": {
          "base_uri": "https://localhost:8080/",
          "height": 669
        },
        "outputId": "d60287fa-6187-4d4b-d990-dff9b9e4808c"
      },
      "source": [
        "records_df.head(n=20)"
      ],
      "execution_count": 15,
      "outputs": [
        {
          "output_type": "execute_result",
          "data": {
            "text/html": [
              "<div>\n",
              "<style scoped>\n",
              "    .dataframe tbody tr th:only-of-type {\n",
              "        vertical-align: middle;\n",
              "    }\n",
              "\n",
              "    .dataframe tbody tr th {\n",
              "        vertical-align: top;\n",
              "    }\n",
              "\n",
              "    .dataframe thead th {\n",
              "        text-align: right;\n",
              "    }\n",
              "</style>\n",
              "<table border=\"1\" class=\"dataframe\">\n",
              "  <thead>\n",
              "    <tr style=\"text-align: right;\">\n",
              "      <th></th>\n",
              "      <th>IDs</th>\n",
              "      <th>Sequences</th>\n",
              "      <th>Lengths</th>\n",
              "    </tr>\n",
              "  </thead>\n",
              "  <tbody>\n",
              "    <tr>\n",
              "      <th>0</th>\n",
              "      <td>EP17030</td>\n",
              "      <td>(G, A, G, C, C, A, T, C, C, C, G, G, G, A, G, ...</td>\n",
              "      <td>16000</td>\n",
              "    </tr>\n",
              "    <tr>\n",
              "      <th>1</th>\n",
              "      <td>EP17031</td>\n",
              "      <td>(C, A, A, T, G, G, A, A, A, C, C, C, T, C, C, ...</td>\n",
              "      <td>16000</td>\n",
              "    </tr>\n",
              "    <tr>\n",
              "      <th>2</th>\n",
              "      <td>EP17041</td>\n",
              "      <td>(G, G, G, G, T, T, T, C, G, C, C, A, T, G, T, ...</td>\n",
              "      <td>16000</td>\n",
              "    </tr>\n",
              "    <tr>\n",
              "      <th>3</th>\n",
              "      <td>EP49001</td>\n",
              "      <td>(C, A, A, A, A, A, A, C, T, A, A, A, C, A, A, ...</td>\n",
              "      <td>16000</td>\n",
              "    </tr>\n",
              "    <tr>\n",
              "      <th>4</th>\n",
              "      <td>EP30042</td>\n",
              "      <td>(T, G, A, G, T, G, G, G, C, T, A, T, G, A, G, ...</td>\n",
              "      <td>16000</td>\n",
              "    </tr>\n",
              "    <tr>\n",
              "      <th>5</th>\n",
              "      <td>EP11068</td>\n",
              "      <td>(G, A, A, G, G, C, T, A, T, C, A, C, T, A, A, ...</td>\n",
              "      <td>16000</td>\n",
              "    </tr>\n",
              "    <tr>\n",
              "      <th>6</th>\n",
              "      <td>EP11070</td>\n",
              "      <td>(T, G, G, T, T, T, C, A, C, A, T, G, A, G, T, ...</td>\n",
              "      <td>16000</td>\n",
              "    </tr>\n",
              "    <tr>\n",
              "      <th>7</th>\n",
              "      <td>EP11073</td>\n",
              "      <td>(T, T, C, T, T, C, T, T, T, T, T, T, C, C, T, ...</td>\n",
              "      <td>16000</td>\n",
              "    </tr>\n",
              "    <tr>\n",
              "      <th>8</th>\n",
              "      <td>EP15024</td>\n",
              "      <td>(G, G, C, G, T, G, G, T, G, G, C, T, C, A, C, ...</td>\n",
              "      <td>16000</td>\n",
              "    </tr>\n",
              "    <tr>\n",
              "      <th>9</th>\n",
              "      <td>EP49012</td>\n",
              "      <td>(T, G, A, A, G, G, A, T, C, C, T, A, A, G, A, ...</td>\n",
              "      <td>16000</td>\n",
              "    </tr>\n",
              "    <tr>\n",
              "      <th>10</th>\n",
              "      <td>EP11074</td>\n",
              "      <td>(A, G, A, C, C, A, G, C, C, T, G, G, C, C, A, ...</td>\n",
              "      <td>16000</td>\n",
              "    </tr>\n",
              "    <tr>\n",
              "      <th>11</th>\n",
              "      <td>EP31007</td>\n",
              "      <td>(T, A, C, A, C, A, C, A, A, C, A, T, T, T, A, ...</td>\n",
              "      <td>16000</td>\n",
              "    </tr>\n",
              "    <tr>\n",
              "      <th>12</th>\n",
              "      <td>EP31009</td>\n",
              "      <td>(T, T, G, A, C, A, G, T, A, T, C, T, C, T, C, ...</td>\n",
              "      <td>16000</td>\n",
              "    </tr>\n",
              "    <tr>\n",
              "      <th>13</th>\n",
              "      <td>EP33023</td>\n",
              "      <td>(T, T, G, A, T, A, A, G, T, T, T, T, G, A, C, ...</td>\n",
              "      <td>16000</td>\n",
              "    </tr>\n",
              "    <tr>\n",
              "      <th>14</th>\n",
              "      <td>EP33037</td>\n",
              "      <td>(C, A, A, C, A, C, A, G, G, G, A, G, A, C, C, ...</td>\n",
              "      <td>16000</td>\n",
              "    </tr>\n",
              "    <tr>\n",
              "      <th>15</th>\n",
              "      <td>EP33038</td>\n",
              "      <td>(C, T, T, T, T, C, T, T, T, T, C, T, T, G, A, ...</td>\n",
              "      <td>16000</td>\n",
              "    </tr>\n",
              "    <tr>\n",
              "      <th>16</th>\n",
              "      <td>EP36018</td>\n",
              "      <td>(C, T, G, G, G, C, T, C, A, A, G, C, T, G, T, ...</td>\n",
              "      <td>16000</td>\n",
              "    </tr>\n",
              "    <tr>\n",
              "      <th>17</th>\n",
              "      <td>EP41008</td>\n",
              "      <td>(A, C, A, G, G, C, A, T, G, A, G, C, T, A, C, ...</td>\n",
              "      <td>16000</td>\n",
              "    </tr>\n",
              "    <tr>\n",
              "      <th>18</th>\n",
              "      <td>EP24040</td>\n",
              "      <td>(C, T, G, C, C, C, A, C, C, T, C, G, A, G, A, ...</td>\n",
              "      <td>16000</td>\n",
              "    </tr>\n",
              "    <tr>\n",
              "      <th>19</th>\n",
              "      <td>EP37014</td>\n",
              "      <td>(C, G, T, G, T, T, T, C, T, C, A, G, G, T, A, ...</td>\n",
              "      <td>16000</td>\n",
              "    </tr>\n",
              "  </tbody>\n",
              "</table>\n",
              "</div>"
            ],
            "text/plain": [
              "        IDs                                          Sequences  Lengths\n",
              "0   EP17030  (G, A, G, C, C, A, T, C, C, C, G, G, G, A, G, ...    16000\n",
              "1   EP17031  (C, A, A, T, G, G, A, A, A, C, C, C, T, C, C, ...    16000\n",
              "2   EP17041  (G, G, G, G, T, T, T, C, G, C, C, A, T, G, T, ...    16000\n",
              "3   EP49001  (C, A, A, A, A, A, A, C, T, A, A, A, C, A, A, ...    16000\n",
              "4   EP30042  (T, G, A, G, T, G, G, G, C, T, A, T, G, A, G, ...    16000\n",
              "5   EP11068  (G, A, A, G, G, C, T, A, T, C, A, C, T, A, A, ...    16000\n",
              "6   EP11070  (T, G, G, T, T, T, C, A, C, A, T, G, A, G, T, ...    16000\n",
              "7   EP11073  (T, T, C, T, T, C, T, T, T, T, T, T, C, C, T, ...    16000\n",
              "8   EP15024  (G, G, C, G, T, G, G, T, G, G, C, T, C, A, C, ...    16000\n",
              "9   EP49012  (T, G, A, A, G, G, A, T, C, C, T, A, A, G, A, ...    16000\n",
              "10  EP11074  (A, G, A, C, C, A, G, C, C, T, G, G, C, C, A, ...    16000\n",
              "11  EP31007  (T, A, C, A, C, A, C, A, A, C, A, T, T, T, A, ...    16000\n",
              "12  EP31009  (T, T, G, A, C, A, G, T, A, T, C, T, C, T, C, ...    16000\n",
              "13  EP33023  (T, T, G, A, T, A, A, G, T, T, T, T, G, A, C, ...    16000\n",
              "14  EP33037  (C, A, A, C, A, C, A, G, G, G, A, G, A, C, C, ...    16000\n",
              "15  EP33038  (C, T, T, T, T, C, T, T, T, T, C, T, T, G, A, ...    16000\n",
              "16  EP36018  (C, T, G, G, G, C, T, C, A, A, G, C, T, G, T, ...    16000\n",
              "17  EP41008  (A, C, A, G, G, C, A, T, G, A, G, C, T, A, C, ...    16000\n",
              "18  EP24040  (C, T, G, C, C, C, A, C, C, T, C, G, A, G, A, ...    16000\n",
              "19  EP37014  (C, G, T, G, T, T, T, C, T, C, A, G, G, T, A, ...    16000"
            ]
          },
          "metadata": {
            "tags": []
          },
          "execution_count": 15
        }
      ]
    },
    {
      "cell_type": "markdown",
      "metadata": {
        "id": "JonuT2z1pbD-"
      },
      "source": [
        "# FREQUENCY DATAFRAME INFORMATION\r\n",
        "\r\n",
        "---\r\n",
        "\r\n",
        "\r\n"
      ]
    },
    {
      "cell_type": "markdown",
      "metadata": {
        "id": "Oi6CQFyPpDy9"
      },
      "source": [
        "## Printing frequency data frame"
      ]
    },
    {
      "cell_type": "code",
      "metadata": {
        "id": "ALOXcy8ypDy9",
        "colab": {
          "base_uri": "https://localhost:8080/",
          "height": 419
        },
        "outputId": "dff2567c-7a83-497b-d267-3b96981bd3b6"
      },
      "source": [
        "frequency_df.head(n=10500)"
      ],
      "execution_count": 16,
      "outputs": [
        {
          "output_type": "execute_result",
          "data": {
            "text/html": [
              "<div>\n",
              "<style scoped>\n",
              "    .dataframe tbody tr th:only-of-type {\n",
              "        vertical-align: middle;\n",
              "    }\n",
              "\n",
              "    .dataframe tbody tr th {\n",
              "        vertical-align: top;\n",
              "    }\n",
              "\n",
              "    .dataframe thead th {\n",
              "        text-align: right;\n",
              "    }\n",
              "</style>\n",
              "<table border=\"1\" class=\"dataframe\">\n",
              "  <thead>\n",
              "    <tr style=\"text-align: right;\">\n",
              "      <th></th>\n",
              "      <th>Adenine Frequencies</th>\n",
              "      <th>Guanine Frequencies</th>\n",
              "      <th>Thymine Frequencies</th>\n",
              "      <th>Cytosine Frequencies</th>\n",
              "    </tr>\n",
              "  </thead>\n",
              "  <tbody>\n",
              "    <tr>\n",
              "      <th>0</th>\n",
              "      <td>27.381600</td>\n",
              "      <td>23.462167</td>\n",
              "      <td>26.292869</td>\n",
              "      <td>22.863364</td>\n",
              "    </tr>\n",
              "    <tr>\n",
              "      <th>1</th>\n",
              "      <td>27.544910</td>\n",
              "      <td>22.427872</td>\n",
              "      <td>27.925966</td>\n",
              "      <td>22.101252</td>\n",
              "    </tr>\n",
              "    <tr>\n",
              "      <th>2</th>\n",
              "      <td>28.579205</td>\n",
              "      <td>22.318998</td>\n",
              "      <td>27.544910</td>\n",
              "      <td>21.556886</td>\n",
              "    </tr>\n",
              "    <tr>\n",
              "      <th>3</th>\n",
              "      <td>25.367447</td>\n",
              "      <td>24.605335</td>\n",
              "      <td>26.183996</td>\n",
              "      <td>23.843223</td>\n",
              "    </tr>\n",
              "    <tr>\n",
              "      <th>4</th>\n",
              "      <td>26.891671</td>\n",
              "      <td>21.665759</td>\n",
              "      <td>27.925966</td>\n",
              "      <td>23.516603</td>\n",
              "    </tr>\n",
              "    <tr>\n",
              "      <th>...</th>\n",
              "      <td>...</td>\n",
              "      <td>...</td>\n",
              "      <td>...</td>\n",
              "      <td>...</td>\n",
              "    </tr>\n",
              "    <tr>\n",
              "      <th>10495</th>\n",
              "      <td>20.794774</td>\n",
              "      <td>29.613500</td>\n",
              "      <td>24.496462</td>\n",
              "      <td>25.095264</td>\n",
              "    </tr>\n",
              "    <tr>\n",
              "      <th>10496</th>\n",
              "      <td>23.407730</td>\n",
              "      <td>27.871530</td>\n",
              "      <td>23.571040</td>\n",
              "      <td>25.149701</td>\n",
              "    </tr>\n",
              "    <tr>\n",
              "      <th>10497</th>\n",
              "      <td>20.032662</td>\n",
              "      <td>30.212303</td>\n",
              "      <td>22.591181</td>\n",
              "      <td>27.163854</td>\n",
              "    </tr>\n",
              "    <tr>\n",
              "      <th>10498</th>\n",
              "      <td>21.829069</td>\n",
              "      <td>28.089276</td>\n",
              "      <td>23.788786</td>\n",
              "      <td>26.292869</td>\n",
              "    </tr>\n",
              "    <tr>\n",
              "      <th>10499</th>\n",
              "      <td>21.284703</td>\n",
              "      <td>28.688078</td>\n",
              "      <td>23.462167</td>\n",
              "      <td>26.565052</td>\n",
              "    </tr>\n",
              "  </tbody>\n",
              "</table>\n",
              "<p>10500 rows × 4 columns</p>\n",
              "</div>"
            ],
            "text/plain": [
              "       Adenine Frequencies  ...  Cytosine Frequencies\n",
              "0                27.381600  ...             22.863364\n",
              "1                27.544910  ...             22.101252\n",
              "2                28.579205  ...             21.556886\n",
              "3                25.367447  ...             23.843223\n",
              "4                26.891671  ...             23.516603\n",
              "...                    ...  ...                   ...\n",
              "10495            20.794774  ...             25.095264\n",
              "10496            23.407730  ...             25.149701\n",
              "10497            20.032662  ...             27.163854\n",
              "10498            21.829069  ...             26.292869\n",
              "10499            21.284703  ...             26.565052\n",
              "\n",
              "[10500 rows x 4 columns]"
            ]
          },
          "metadata": {
            "tags": []
          },
          "execution_count": 16
        }
      ]
    },
    {
      "cell_type": "markdown",
      "metadata": {
        "id": "dKO51jbqpDy9"
      },
      "source": [
        "## Describing Frequency data frame"
      ]
    },
    {
      "cell_type": "code",
      "metadata": {
        "id": "ZVSEMlz0pDy-",
        "colab": {
          "base_uri": "https://localhost:8080/",
          "height": 297
        },
        "outputId": "bf6f24ed-cdb4-49df-eff8-6485332125ca"
      },
      "source": [
        "frequency_df.describe()"
      ],
      "execution_count": 17,
      "outputs": [
        {
          "output_type": "execute_result",
          "data": {
            "text/html": [
              "<div>\n",
              "<style scoped>\n",
              "    .dataframe tbody tr th:only-of-type {\n",
              "        vertical-align: middle;\n",
              "    }\n",
              "\n",
              "    .dataframe tbody tr th {\n",
              "        vertical-align: top;\n",
              "    }\n",
              "\n",
              "    .dataframe thead th {\n",
              "        text-align: right;\n",
              "    }\n",
              "</style>\n",
              "<table border=\"1\" class=\"dataframe\">\n",
              "  <thead>\n",
              "    <tr style=\"text-align: right;\">\n",
              "      <th></th>\n",
              "      <th>Adenine Frequencies</th>\n",
              "      <th>Guanine Frequencies</th>\n",
              "      <th>Thymine Frequencies</th>\n",
              "      <th>Cytosine Frequencies</th>\n",
              "    </tr>\n",
              "  </thead>\n",
              "  <tbody>\n",
              "    <tr>\n",
              "      <th>count</th>\n",
              "      <td>16000.000000</td>\n",
              "      <td>16000.000000</td>\n",
              "      <td>16000.000000</td>\n",
              "      <td>16000.000000</td>\n",
              "    </tr>\n",
              "    <tr>\n",
              "      <th>mean</th>\n",
              "      <td>26.251453</td>\n",
              "      <td>23.675031</td>\n",
              "      <td>26.934346</td>\n",
              "      <td>23.139171</td>\n",
              "    </tr>\n",
              "    <tr>\n",
              "      <th>std</th>\n",
              "      <td>2.278417</td>\n",
              "      <td>2.340623</td>\n",
              "      <td>2.159434</td>\n",
              "      <td>1.966093</td>\n",
              "    </tr>\n",
              "    <tr>\n",
              "      <th>min</th>\n",
              "      <td>8.002177</td>\n",
              "      <td>16.276538</td>\n",
              "      <td>2.994012</td>\n",
              "      <td>18.290691</td>\n",
              "    </tr>\n",
              "    <tr>\n",
              "      <th>25%</th>\n",
              "      <td>25.639630</td>\n",
              "      <td>22.427872</td>\n",
              "      <td>26.238432</td>\n",
              "      <td>21.992379</td>\n",
              "    </tr>\n",
              "    <tr>\n",
              "      <th>50%</th>\n",
              "      <td>26.619488</td>\n",
              "      <td>23.189984</td>\n",
              "      <td>27.272727</td>\n",
              "      <td>22.808928</td>\n",
              "    </tr>\n",
              "    <tr>\n",
              "      <th>75%</th>\n",
              "      <td>27.544910</td>\n",
              "      <td>24.115406</td>\n",
              "      <td>28.198149</td>\n",
              "      <td>23.679913</td>\n",
              "    </tr>\n",
              "    <tr>\n",
              "      <th>max</th>\n",
              "      <td>44.039194</td>\n",
              "      <td>39.085465</td>\n",
              "      <td>32.716385</td>\n",
              "      <td>50.081655</td>\n",
              "    </tr>\n",
              "  </tbody>\n",
              "</table>\n",
              "</div>"
            ],
            "text/plain": [
              "       Adenine Frequencies  ...  Cytosine Frequencies\n",
              "count         16000.000000  ...          16000.000000\n",
              "mean             26.251453  ...             23.139171\n",
              "std               2.278417  ...              1.966093\n",
              "min               8.002177  ...             18.290691\n",
              "25%              25.639630  ...             21.992379\n",
              "50%              26.619488  ...             22.808928\n",
              "75%              27.544910  ...             23.679913\n",
              "max              44.039194  ...             50.081655\n",
              "\n",
              "[8 rows x 4 columns]"
            ]
          },
          "metadata": {
            "tags": []
          },
          "execution_count": 17
        }
      ]
    },
    {
      "cell_type": "markdown",
      "metadata": {
        "id": "3Z8voM9ypDy-"
      },
      "source": [
        "## Plotting frequency graph"
      ]
    },
    {
      "cell_type": "code",
      "metadata": {
        "id": "TtrSvNRApDy-",
        "colab": {
          "base_uri": "https://localhost:8080/",
          "height": 1000
        },
        "outputId": "be42ca09-5472-4060-cb64-62d30dcc5f24"
      },
      "source": [
        "plt.figure()\n",
        "frequency_df.plot(subplots=True, figsize=(25, 15), xlabel = \"Position in DNA Sequence\", ylabel = \"P(nucleobase)\", title = \"Position Specific Frequency Graph\", ylim = (0, 55))"
      ],
      "execution_count": 18,
      "outputs": [
        {
          "output_type": "execute_result",
          "data": {
            "text/plain": [
              "array([<matplotlib.axes._subplots.AxesSubplot object at 0x7f0e0d2fde10>,\n",
              "       <matplotlib.axes._subplots.AxesSubplot object at 0x7f0e0d18f610>,\n",
              "       <matplotlib.axes._subplots.AxesSubplot object at 0x7f0e0d1479d0>,\n",
              "       <matplotlib.axes._subplots.AxesSubplot object at 0x7f0e0d17dd90>],\n",
              "      dtype=object)"
            ]
          },
          "metadata": {
            "tags": []
          },
          "execution_count": 18
        },
        {
          "output_type": "display_data",
          "data": {
            "text/plain": [
              "<Figure size 432x288 with 0 Axes>"
            ]
          },
          "metadata": {
            "tags": []
          }
        },
        {
          "output_type": "display_data",
          "data": {
            "image/png": "[encoded data removed]",
            "text/plain": [
              "<Figure size 1800x1080 with 4 Axes>"
            ]
          },
          "metadata": {
            "tags": [],
            "needs_background": "light"
          }
        }
      ]
    },
    {
      "cell_type": "markdown",
      "metadata": {
        "id": "F9SG01vzpeXK"
      },
      "source": [
        "# SUBSEQUENCE DATAFRAME INFORMATION\r\n",
        "\r\n",
        "---\r\n",
        "\r\n"
      ]
    },
    {
      "cell_type": "markdown",
      "metadata": {
        "id": "LNHchQiVkBXU"
      },
      "source": [
        "## Printing Subsequence DataFrame"
      ]
    },
    {
      "cell_type": "code",
      "metadata": {
        "colab": {
          "base_uri": "https://localhost:8080/",
          "height": 669
        },
        "id": "vYBxRimrkEDQ",
        "outputId": "c8b12c8c-b36e-4e32-db1a-a300922142e4"
      },
      "source": [
        "subsequence_df.head(n=20)"
      ],
      "execution_count": 19,
      "outputs": [
        {
          "output_type": "execute_result",
          "data": {
            "text/html": [
              "<div>\n",
              "<style scoped>\n",
              "    .dataframe tbody tr th:only-of-type {\n",
              "        vertical-align: middle;\n",
              "    }\n",
              "\n",
              "    .dataframe tbody tr th {\n",
              "        vertical-align: top;\n",
              "    }\n",
              "\n",
              "    .dataframe thead th {\n",
              "        text-align: right;\n",
              "    }\n",
              "</style>\n",
              "<table border=\"1\" class=\"dataframe\">\n",
              "  <thead>\n",
              "    <tr style=\"text-align: right;\">\n",
              "      <th></th>\n",
              "      <th>Sub-Sequences</th>\n",
              "      <th>PromoterIndex</th>\n",
              "      <th>SequenceStart</th>\n",
              "      <th>SequenceEnd</th>\n",
              "    </tr>\n",
              "  </thead>\n",
              "  <tbody>\n",
              "    <tr>\n",
              "      <th>0</th>\n",
              "      <td>(C, T, G, T, A, A, T, C, C, C, A, G, C, A, C, ...</td>\n",
              "      <td>3773</td>\n",
              "      <td>6227</td>\n",
              "      <td>12227</td>\n",
              "    </tr>\n",
              "    <tr>\n",
              "      <th>1</th>\n",
              "      <td>(T, A, G, A, G, A, T, G, G, G, G, T, T, T, C, ...</td>\n",
              "      <td>4345</td>\n",
              "      <td>5655</td>\n",
              "      <td>11655</td>\n",
              "    </tr>\n",
              "    <tr>\n",
              "      <th>2</th>\n",
              "      <td>(T, T, G, G, T, T, T, T, G, G, G, A, G, G, T, ...</td>\n",
              "      <td>1140</td>\n",
              "      <td>8860</td>\n",
              "      <td>14860</td>\n",
              "    </tr>\n",
              "    <tr>\n",
              "      <th>3</th>\n",
              "      <td>(G, T, A, G, T, T, G, A, A, C, C, A, A, A, A, ...</td>\n",
              "      <td>3647</td>\n",
              "      <td>6353</td>\n",
              "      <td>12353</td>\n",
              "    </tr>\n",
              "    <tr>\n",
              "      <th>4</th>\n",
              "      <td>(C, C, A, A, T, C, C, C, C, T, C, C, A, C, C, ...</td>\n",
              "      <td>1176</td>\n",
              "      <td>8824</td>\n",
              "      <td>14824</td>\n",
              "    </tr>\n",
              "    <tr>\n",
              "      <th>5</th>\n",
              "      <td>(C, T, C, T, T, C, A, C, C, T, T, C, C, A, C, ...</td>\n",
              "      <td>3905</td>\n",
              "      <td>6095</td>\n",
              "      <td>12095</td>\n",
              "    </tr>\n",
              "    <tr>\n",
              "      <th>6</th>\n",
              "      <td>(C, A, T, C, A, A, G, A, C, C, A, T, C, C, T, ...</td>\n",
              "      <td>2046</td>\n",
              "      <td>7954</td>\n",
              "      <td>13954</td>\n",
              "    </tr>\n",
              "    <tr>\n",
              "      <th>7</th>\n",
              "      <td>(C, T, G, A, A, T, T, C, A, A, A, T, G, A, C, ...</td>\n",
              "      <td>4528</td>\n",
              "      <td>5472</td>\n",
              "      <td>11472</td>\n",
              "    </tr>\n",
              "    <tr>\n",
              "      <th>8</th>\n",
              "      <td>(A, T, G, C, A, A, T, G, A, T, C, C, T, A, A, ...</td>\n",
              "      <td>4130</td>\n",
              "      <td>5870</td>\n",
              "      <td>11870</td>\n",
              "    </tr>\n",
              "    <tr>\n",
              "      <th>9</th>\n",
              "      <td>(T, C, T, G, T, G, T, T, G, T, G, G, C, A, T, ...</td>\n",
              "      <td>1309</td>\n",
              "      <td>8691</td>\n",
              "      <td>14691</td>\n",
              "    </tr>\n",
              "    <tr>\n",
              "      <th>10</th>\n",
              "      <td>(A, A, A, A, A, A, G, C, C, T, T, C, A, T, T, ...</td>\n",
              "      <td>3336</td>\n",
              "      <td>6664</td>\n",
              "      <td>12664</td>\n",
              "    </tr>\n",
              "    <tr>\n",
              "      <th>11</th>\n",
              "      <td>(C, T, T, C, C, T, G, A, G, A, T, A, T, A, T, ...</td>\n",
              "      <td>1085</td>\n",
              "      <td>8915</td>\n",
              "      <td>14915</td>\n",
              "    </tr>\n",
              "    <tr>\n",
              "      <th>12</th>\n",
              "      <td>(C, A, T, C, C, C, A, G, T, T, T, C, A, C, C, ...</td>\n",
              "      <td>3676</td>\n",
              "      <td>6324</td>\n",
              "      <td>12324</td>\n",
              "    </tr>\n",
              "    <tr>\n",
              "      <th>13</th>\n",
              "      <td>(G, A, A, C, T, T, G, A, A, A, G, T, T, G, T, ...</td>\n",
              "      <td>4891</td>\n",
              "      <td>5109</td>\n",
              "      <td>11109</td>\n",
              "    </tr>\n",
              "    <tr>\n",
              "      <th>14</th>\n",
              "      <td>(A, G, C, C, T, G, A, G, C, G, A, C, A, G, A, ...</td>\n",
              "      <td>1321</td>\n",
              "      <td>8679</td>\n",
              "      <td>14679</td>\n",
              "    </tr>\n",
              "    <tr>\n",
              "      <th>15</th>\n",
              "      <td>(T, A, C, A, G, G, C, G, C, C, C, G, C, C, A, ...</td>\n",
              "      <td>1905</td>\n",
              "      <td>8095</td>\n",
              "      <td>14095</td>\n",
              "    </tr>\n",
              "    <tr>\n",
              "      <th>16</th>\n",
              "      <td>(G, G, G, A, T, T, A, C, A, G, G, C, A, T, G, ...</td>\n",
              "      <td>1295</td>\n",
              "      <td>8705</td>\n",
              "      <td>14705</td>\n",
              "    </tr>\n",
              "    <tr>\n",
              "      <th>17</th>\n",
              "      <td>(A, G, C, C, T, G, G, C, C, G, C, T, T, T, G, ...</td>\n",
              "      <td>1381</td>\n",
              "      <td>8619</td>\n",
              "      <td>14619</td>\n",
              "    </tr>\n",
              "    <tr>\n",
              "      <th>18</th>\n",
              "      <td>(G, G, T, G, A, T, C, T, G, C, C, C, A, C, C, ...</td>\n",
              "      <td>3652</td>\n",
              "      <td>6348</td>\n",
              "      <td>12348</td>\n",
              "    </tr>\n",
              "    <tr>\n",
              "      <th>19</th>\n",
              "      <td>(T, T, T, A, A, A, A, C, G, G, G, G, T, T, T, ...</td>\n",
              "      <td>3045</td>\n",
              "      <td>6955</td>\n",
              "      <td>12955</td>\n",
              "    </tr>\n",
              "  </tbody>\n",
              "</table>\n",
              "</div>"
            ],
            "text/plain": [
              "                                        Sub-Sequences  ...  SequenceEnd\n",
              "0   (C, T, G, T, A, A, T, C, C, C, A, G, C, A, C, ...  ...        12227\n",
              "1   (T, A, G, A, G, A, T, G, G, G, G, T, T, T, C, ...  ...        11655\n",
              "2   (T, T, G, G, T, T, T, T, G, G, G, A, G, G, T, ...  ...        14860\n",
              "3   (G, T, A, G, T, T, G, A, A, C, C, A, A, A, A, ...  ...        12353\n",
              "4   (C, C, A, A, T, C, C, C, C, T, C, C, A, C, C, ...  ...        14824\n",
              "5   (C, T, C, T, T, C, A, C, C, T, T, C, C, A, C, ...  ...        12095\n",
              "6   (C, A, T, C, A, A, G, A, C, C, A, T, C, C, T, ...  ...        13954\n",
              "7   (C, T, G, A, A, T, T, C, A, A, A, T, G, A, C, ...  ...        11472\n",
              "8   (A, T, G, C, A, A, T, G, A, T, C, C, T, A, A, ...  ...        11870\n",
              "9   (T, C, T, G, T, G, T, T, G, T, G, G, C, A, T, ...  ...        14691\n",
              "10  (A, A, A, A, A, A, G, C, C, T, T, C, A, T, T, ...  ...        12664\n",
              "11  (C, T, T, C, C, T, G, A, G, A, T, A, T, A, T, ...  ...        14915\n",
              "12  (C, A, T, C, C, C, A, G, T, T, T, C, A, C, C, ...  ...        12324\n",
              "13  (G, A, A, C, T, T, G, A, A, A, G, T, T, G, T, ...  ...        11109\n",
              "14  (A, G, C, C, T, G, A, G, C, G, A, C, A, G, A, ...  ...        14679\n",
              "15  (T, A, C, A, G, G, C, G, C, C, C, G, C, C, A, ...  ...        14095\n",
              "16  (G, G, G, A, T, T, A, C, A, G, G, C, A, T, G, ...  ...        14705\n",
              "17  (A, G, C, C, T, G, G, C, C, G, C, T, T, T, G, ...  ...        14619\n",
              "18  (G, G, T, G, A, T, C, T, G, C, C, C, A, C, C, ...  ...        12348\n",
              "19  (T, T, T, A, A, A, A, C, G, G, G, G, T, T, T, ...  ...        12955\n",
              "\n",
              "[20 rows x 4 columns]"
            ]
          },
          "metadata": {
            "tags": []
          },
          "execution_count": 19
        }
      ]
    },
    {
      "cell_type": "markdown",
      "metadata": {
        "id": "RzMocqX1pnFq"
      },
      "source": [
        "## Describing the subsequence dataframe"
      ]
    },
    {
      "cell_type": "code",
      "metadata": {
        "id": "5VWYzxIcpl7V",
        "colab": {
          "base_uri": "https://localhost:8080/"
        },
        "outputId": "31ea239e-b30c-40a4-a0e5-9812c247502e"
      },
      "source": [
        "print('Index frequencies:')\r\n",
        "print(subsequence_df['PromoterIndex'].value_counts())"
      ],
      "execution_count": 20,
      "outputs": [
        {
          "output_type": "stream",
          "text": [
            "Index frequencies:\n",
            "4477    4\n",
            "1533    4\n",
            "1484    4\n",
            "4019    4\n",
            "2111    4\n",
            "       ..\n",
            "1127    1\n",
            "1129    1\n",
            "1131    1\n",
            "1132    1\n",
            "3720    1\n",
            "Name: PromoterIndex, Length: 1465, dtype: int64\n"
          ],
          "name": "stdout"
        }
      ]
    },
    {
      "cell_type": "markdown",
      "metadata": {
        "id": "FIY12V_tprpO"
      },
      "source": [
        "# Histogram plot of subsequence dataframe"
      ]
    },
    {
      "cell_type": "code",
      "metadata": {
        "id": "Bdi0X2rLpyFH",
        "colab": {
          "base_uri": "https://localhost:8080/",
          "height": 353
        },
        "outputId": "ff9e99b1-87be-49de-81e0-aea402dce581"
      },
      "source": [
        "plt.figure()\r\n",
        "subsequence_df['PromoterIndex'].plot.hist(histtype = 'bar', bins = 6000, figsize = (25, 5), title = 'Promoter Indices')"
      ],
      "execution_count": 21,
      "outputs": [
        {
          "output_type": "execute_result",
          "data": {
            "text/plain": [
              "<matplotlib.axes._subplots.AxesSubplot at 0x7f0e0d918310>"
            ]
          },
          "metadata": {
            "tags": []
          },
          "execution_count": 21
        },
        {
          "output_type": "display_data",
          "data": {
            "image/png": "[encoded data removed]",
            "text/plain": [
              "<Figure size 1800x360 with 1 Axes>"
            ]
          },
          "metadata": {
            "tags": [],
            "needs_background": "light"
          }
        }
      ]
    },
    {
      "cell_type": "markdown",
      "metadata": {
        "id": "A_pRtiCTp03M"
      },
      "source": [
        "## Density plot of subsequence dataframe"
      ]
    },
    {
      "cell_type": "code",
      "metadata": {
        "id": "03iJ57Mbp64s",
        "colab": {
          "base_uri": "https://localhost:8080/",
          "height": 353
        },
        "outputId": "1ac4b2c5-ab6a-40ad-a57b-5ec407c5a0c1"
      },
      "source": [
        "plt.figure()\r\n",
        "subsequence_df['PromoterIndex'].plot.density(figsize = (25, 5), title = 'Promoter Indices')"
      ],
      "execution_count": 22,
      "outputs": [
        {
          "output_type": "execute_result",
          "data": {
            "text/plain": [
              "<matplotlib.axes._subplots.AxesSubplot at 0x7f0e0918ff10>"
            ]
          },
          "metadata": {
            "tags": []
          },
          "execution_count": 22
        },
        {
          "output_type": "display_data",
          "data": {
            "image/png": "[encoded data removed]",
            "text/plain": [
              "<Figure size 1800x360 with 1 Axes>"
            ]
          },
          "metadata": {
            "tags": [],
            "needs_background": "light"
          }
        }
      ]
    },
    {
      "cell_type": "markdown",
      "metadata": {
        "id": "rmBvrNSfkX3S"
      },
      "source": [
        "## Mapping labels into integers"
      ]
    },
    {
      "cell_type": "code",
      "metadata": {
        "colab": {
          "base_uri": "https://localhost:8080/",
          "height": 350
        },
        "id": "_lYBDv6okXem",
        "outputId": "19131300-2e66-45c1-9afe-89abd5787ef5"
      },
      "source": [
        "# # for subsequence_index in range(0, subsequence_df['Sub-Sequences'], 4):\r\n",
        "# parsedList = []\r\n",
        "\r\n",
        "# x = 0\r\n",
        "# current_index = 0\r\n",
        "# for subsequence in subsequence_df['Sub-Sequences']:\r\n",
        "#   parsedList.append([])\r\n",
        "#   for nucleotide in subsequence:\r\n",
        "#     if nucleotide == 'A': \r\n",
        "#       parsedList[current_index].append(1)\r\n",
        "#     elif nucleotide == 'C': \r\n",
        "#       parsedList[current_index].append(10)\r\n",
        "#     elif nucleotide == 'G': \r\n",
        "#       parsedList[current_index].append(100)\r\n",
        "#     else:\r\n",
        "#       parsedList[current_index].append(1000)\r\n",
        "#   current_index += 1\r\n",
        "#   # stringified_subsequence = str(subsequence)\r\n",
        "#   # one_hot_subsequence = stringified_subsequence.replace('A', '1000').replace('G', '0100').replace('T', '0010').replace('C', '0001')\r\n",
        "#   # parsedList[current_index].append(one_hot_subsequence)\r\n",
        "\r\n",
        "# nd_parsedList = np.array(parsedList)\r\n",
        "\r\n",
        "# subsequence_df['Features'] = nd_parsedList\r\n",
        "\r\n",
        "\r\n",
        "\r\n",
        "# encoding = {}\r\n",
        "# encoding['A'] = [1, 0, 0, 0]\r\n",
        "# encoding['C'] = [0, 1, 0, 0]\r\n",
        "# encoding['G'] = [0, 0, 1, 0]\r\n",
        "# encoding['T'] = [0, 0, 0, 1]\r\n",
        "# Encode = []\r\n",
        "# temp = []\r\n",
        "\r\n",
        "# for sequence in subsequence_df['Sub-Sequences']:\r\n",
        "#   stringified_sequence = str(sequence)\r\n",
        "#   for letter in stringified_sequence:\r\n",
        "#     Encode += encoding[letter]\r\n",
        "#   Encode = np.array(Encode)\r\n",
        "#   temp.append(Encode)\r\n",
        "\r\n",
        "# print(temp)\r\n",
        "\r\n",
        "encodings = []\r\n",
        "\r\n",
        "for subsequence in subsequence_df['Sub-Sequences']:\r\n",
        "  parsed_str = str(subsequence).replace('A', '1000').replace('G', '0100').replace('T', '0010').replace('C', '0001')\r\n",
        "\r\n",
        "  int_arr = [int(i) for i in parsed_str] \r\n",
        "  int_arr = np.asarray(int_arr, dtype = 'int32')\r\n",
        "\r\n",
        "  encodings.append(int_arr)\r\n",
        "\r\n",
        "subsequence_df['Features'] = encodings"
      ],
      "execution_count": 93,
      "outputs": [
        {
          "output_type": "error",
          "ename": "NameError",
          "evalue": "ignored",
          "traceback": [
            "\u001b[0;31m---------------------------------------------------------------------------\u001b[0m",
            "\u001b[0;31mNameError\u001b[0m                                 Traceback (most recent call last)",
            "\u001b[0;32m<ipython-input-93-9c516fc4c2dd>\u001b[0m in \u001b[0;36m<module>\u001b[0;34m()\u001b[0m\n\u001b[1;32m     48\u001b[0m   \u001b[0mparsed_str\u001b[0m \u001b[0;34m=\u001b[0m \u001b[0mstr\u001b[0m\u001b[0;34m(\u001b[0m\u001b[0msubsequence\u001b[0m\u001b[0;34m)\u001b[0m\u001b[0;34m.\u001b[0m\u001b[0mreplace\u001b[0m\u001b[0;34m(\u001b[0m\u001b[0;34m'A'\u001b[0m\u001b[0;34m,\u001b[0m \u001b[0;34m'1000'\u001b[0m\u001b[0;34m)\u001b[0m\u001b[0;34m.\u001b[0m\u001b[0mreplace\u001b[0m\u001b[0;34m(\u001b[0m\u001b[0;34m'G'\u001b[0m\u001b[0;34m,\u001b[0m \u001b[0;34m'0100'\u001b[0m\u001b[0;34m)\u001b[0m\u001b[0;34m.\u001b[0m\u001b[0mreplace\u001b[0m\u001b[0;34m(\u001b[0m\u001b[0;34m'T'\u001b[0m\u001b[0;34m,\u001b[0m \u001b[0;34m'0010'\u001b[0m\u001b[0;34m)\u001b[0m\u001b[0;34m.\u001b[0m\u001b[0mreplace\u001b[0m\u001b[0;34m(\u001b[0m\u001b[0;34m'C'\u001b[0m\u001b[0;34m,\u001b[0m \u001b[0;34m'0001'\u001b[0m\u001b[0;34m)\u001b[0m\u001b[0;34m\u001b[0m\u001b[0;34m\u001b[0m\u001b[0m\n\u001b[1;32m     49\u001b[0m \u001b[0;34m\u001b[0m\u001b[0m\n\u001b[0;32m---> 50\u001b[0;31m   \u001b[0mint_arr\u001b[0m \u001b[0;34m=\u001b[0m \u001b[0;34m[\u001b[0m\u001b[0mint32\u001b[0m\u001b[0;34m(\u001b[0m\u001b[0mi\u001b[0m\u001b[0;34m)\u001b[0m \u001b[0;32mfor\u001b[0m \u001b[0mi\u001b[0m \u001b[0;32min\u001b[0m \u001b[0mparsed_str\u001b[0m\u001b[0;34m]\u001b[0m\u001b[0;34m\u001b[0m\u001b[0;34m\u001b[0m\u001b[0m\n\u001b[0m\u001b[1;32m     51\u001b[0m   \u001b[0mint_arr\u001b[0m \u001b[0;34m=\u001b[0m \u001b[0mnp\u001b[0m\u001b[0;34m.\u001b[0m\u001b[0masarray\u001b[0m\u001b[0;34m(\u001b[0m\u001b[0mint_arr\u001b[0m\u001b[0;34m,\u001b[0m \u001b[0mdtype\u001b[0m \u001b[0;34m=\u001b[0m \u001b[0;34m'int32'\u001b[0m\u001b[0;34m)\u001b[0m\u001b[0;34m\u001b[0m\u001b[0;34m\u001b[0m\u001b[0m\n\u001b[1;32m     52\u001b[0m \u001b[0;34m\u001b[0m\u001b[0m\n",
            "\u001b[0;32m<ipython-input-93-9c516fc4c2dd>\u001b[0m in \u001b[0;36m<listcomp>\u001b[0;34m(.0)\u001b[0m\n\u001b[1;32m     48\u001b[0m   \u001b[0mparsed_str\u001b[0m \u001b[0;34m=\u001b[0m \u001b[0mstr\u001b[0m\u001b[0;34m(\u001b[0m\u001b[0msubsequence\u001b[0m\u001b[0;34m)\u001b[0m\u001b[0;34m.\u001b[0m\u001b[0mreplace\u001b[0m\u001b[0;34m(\u001b[0m\u001b[0;34m'A'\u001b[0m\u001b[0;34m,\u001b[0m \u001b[0;34m'1000'\u001b[0m\u001b[0;34m)\u001b[0m\u001b[0;34m.\u001b[0m\u001b[0mreplace\u001b[0m\u001b[0;34m(\u001b[0m\u001b[0;34m'G'\u001b[0m\u001b[0;34m,\u001b[0m \u001b[0;34m'0100'\u001b[0m\u001b[0;34m)\u001b[0m\u001b[0;34m.\u001b[0m\u001b[0mreplace\u001b[0m\u001b[0;34m(\u001b[0m\u001b[0;34m'T'\u001b[0m\u001b[0;34m,\u001b[0m \u001b[0;34m'0010'\u001b[0m\u001b[0;34m)\u001b[0m\u001b[0;34m.\u001b[0m\u001b[0mreplace\u001b[0m\u001b[0;34m(\u001b[0m\u001b[0;34m'C'\u001b[0m\u001b[0;34m,\u001b[0m \u001b[0;34m'0001'\u001b[0m\u001b[0;34m)\u001b[0m\u001b[0;34m\u001b[0m\u001b[0;34m\u001b[0m\u001b[0m\n\u001b[1;32m     49\u001b[0m \u001b[0;34m\u001b[0m\u001b[0m\n\u001b[0;32m---> 50\u001b[0;31m   \u001b[0mint_arr\u001b[0m \u001b[0;34m=\u001b[0m \u001b[0;34m[\u001b[0m\u001b[0mint32\u001b[0m\u001b[0;34m(\u001b[0m\u001b[0mi\u001b[0m\u001b[0;34m)\u001b[0m \u001b[0;32mfor\u001b[0m \u001b[0mi\u001b[0m \u001b[0;32min\u001b[0m \u001b[0mparsed_str\u001b[0m\u001b[0;34m]\u001b[0m\u001b[0;34m\u001b[0m\u001b[0;34m\u001b[0m\u001b[0m\n\u001b[0m\u001b[1;32m     51\u001b[0m   \u001b[0mint_arr\u001b[0m \u001b[0;34m=\u001b[0m \u001b[0mnp\u001b[0m\u001b[0;34m.\u001b[0m\u001b[0masarray\u001b[0m\u001b[0;34m(\u001b[0m\u001b[0mint_arr\u001b[0m\u001b[0;34m,\u001b[0m \u001b[0mdtype\u001b[0m \u001b[0;34m=\u001b[0m \u001b[0;34m'int32'\u001b[0m\u001b[0;34m)\u001b[0m\u001b[0;34m\u001b[0m\u001b[0;34m\u001b[0m\u001b[0m\n\u001b[1;32m     52\u001b[0m \u001b[0;34m\u001b[0m\u001b[0m\n",
            "\u001b[0;31mNameError\u001b[0m: name 'int32' is not defined"
          ]
        }
      ]
    },
    {
      "cell_type": "markdown",
      "metadata": {
        "id": "BdT4il14lv3o"
      },
      "source": [
        "## Printing converted features"
      ]
    },
    {
      "cell_type": "code",
      "metadata": {
        "colab": {
          "base_uri": "https://localhost:8080/"
        },
        "id": "r3lqGBuSl0lA",
        "outputId": "7f2c83c1-7c39-4174-890c-ecaf54a71855"
      },
      "source": [
        "subsequence_df['Features'].head(n = 10)"
      ],
      "execution_count": 90,
      "outputs": [
        {
          "output_type": "execute_result",
          "data": {
            "text/plain": [
              "0    [0, 0, 0, 1, 0, 0, 1, 0, 0, 1, 0, 0, 0, 0, 1, ...\n",
              "1    [0, 0, 1, 0, 1, 0, 0, 0, 0, 1, 0, 0, 1, 0, 0, ...\n",
              "2    [0, 0, 1, 0, 0, 0, 1, 0, 0, 1, 0, 0, 0, 1, 0, ...\n",
              "3    [0, 1, 0, 0, 0, 0, 1, 0, 1, 0, 0, 0, 0, 1, 0, ...\n",
              "4    [0, 0, 0, 1, 0, 0, 0, 1, 1, 0, 0, 0, 1, 0, 0, ...\n",
              "5    [0, 0, 0, 1, 0, 0, 1, 0, 0, 0, 0, 1, 0, 0, 1, ...\n",
              "6    [0, 0, 0, 1, 1, 0, 0, 0, 0, 0, 1, 0, 0, 0, 0, ...\n",
              "7    [0, 0, 0, 1, 0, 0, 1, 0, 0, 1, 0, 0, 1, 0, 0, ...\n",
              "8    [1, 0, 0, 0, 0, 0, 1, 0, 0, 1, 0, 0, 0, 0, 0, ...\n",
              "9    [0, 0, 1, 0, 0, 0, 0, 1, 0, 0, 1, 0, 0, 1, 0, ...\n",
              "Name: Features, dtype: object"
            ]
          },
          "metadata": {
            "tags": []
          },
          "execution_count": 90
        }
      ]
    },
    {
      "cell_type": "markdown",
      "metadata": {
        "id": "B7abLJ8aiVE3"
      },
      "source": [
        "## Arranging features and labels"
      ]
    },
    {
      "cell_type": "code",
      "metadata": {
        "colab": {
          "base_uri": "https://localhost:8080/"
        },
        "id": "8Hj-l_87iU0T",
        "outputId": "fbbac8e0-b31e-4f87-c00b-d50e649e7725"
      },
      "source": [
        "X = subsequence_df.loc[:, 'Features'].to_numpy()\r\n",
        "y = subsequence_df.loc[:, 'PromoterIndex'].to_numpy()\r\n",
        "\r\n",
        "print(\"Features: \\n\")\r\n",
        "print(X)\r\n",
        "print(\"\\n\")\r\n",
        "\r\n",
        "print(\"Labels: \\n\")\r\n",
        "print(y)\r\n",
        "print(\"\\n\")"
      ],
      "execution_count": 91,
      "outputs": [
        {
          "output_type": "stream",
          "text": [
            "Features: \n",
            "\n",
            "[array([0, 0, 0, ..., 0, 1, 0], dtype=int32)\n",
            " array([0, 0, 1, ..., 1, 0, 0], dtype=int32)\n",
            " array([0, 0, 1, ..., 0, 0, 0], dtype=int32) ...\n",
            " array([0, 1, 0, ..., 0, 0, 0], dtype=int32)\n",
            " array([1, 0, 0, ..., 0, 1, 0], dtype=int32)\n",
            " array([0, 0, 0, ..., 0, 0, 1], dtype=int32)]\n",
            "\n",
            "\n",
            "Labels: \n",
            "\n",
            "[3773 4345 1140 ... 3654 2812 1533]\n",
            "\n",
            "\n"
          ],
          "name": "stdout"
        }
      ]
    },
    {
      "cell_type": "markdown",
      "metadata": {
        "id": "kd2gt-3Ug-Fx"
      },
      "source": [
        "## PyTorch Dataset"
      ]
    },
    {
      "cell_type": "code",
      "metadata": {
        "colab": {
          "base_uri": "https://localhost:8080/",
          "height": 350
        },
        "id": "F23XyAeTg_6L",
        "outputId": "a036ffbf-320d-4c81-982b-43e866c1525a"
      },
      "source": [
        "import torch\r\n",
        "from torch.utils.data import Dataset, random_split\r\n",
        "\r\n",
        "class Sequences(Dataset):\r\n",
        "    def __init__(self, X, y):\r\n",
        "        self.sequences = torch.from_numpy(X) # convert numpy arrays to torch tensors\r\n",
        "        self.labels = torch.from_numpy(y)\r\n",
        "\r\n",
        "        self.sequences = self.sequences.unsqueeze(1) # add extra dimension for torch\r\n",
        "        self.labels = self.labels.unsqueeze(1)\r\n",
        "\r\n",
        "    def __len__(self):\r\n",
        "        assert len(self.sequences) == len(self.labels) # ensure 1-to-1 correspondence\r\n",
        "        return len(self.labels)\r\n",
        "\r\n",
        "    def __getitem__(self, i):\r\n",
        "        return self.sequences[i], self.labels[i] # return X, y pair\r\n",
        "\r\n",
        "data = Sequences(X, y)\r\n",
        "trainCount = int(0.8 * len(data)) # percent of our data for train\r\n",
        "train, test = random_split(data, [trainCount, len(data) - trainCount])"
      ],
      "execution_count": 92,
      "outputs": [
        {
          "output_type": "error",
          "ename": "TypeError",
          "evalue": "ignored",
          "traceback": [
            "\u001b[0;31m---------------------------------------------------------------------------\u001b[0m",
            "\u001b[0;31mTypeError\u001b[0m                                 Traceback (most recent call last)",
            "\u001b[0;32m<ipython-input-92-058b05409fa5>\u001b[0m in \u001b[0;36m<module>\u001b[0;34m()\u001b[0m\n\u001b[1;32m     17\u001b[0m         \u001b[0;32mreturn\u001b[0m \u001b[0mself\u001b[0m\u001b[0;34m.\u001b[0m\u001b[0msequences\u001b[0m\u001b[0;34m[\u001b[0m\u001b[0mi\u001b[0m\u001b[0;34m]\u001b[0m\u001b[0;34m,\u001b[0m \u001b[0mself\u001b[0m\u001b[0;34m.\u001b[0m\u001b[0mlabels\u001b[0m\u001b[0;34m[\u001b[0m\u001b[0mi\u001b[0m\u001b[0;34m]\u001b[0m \u001b[0;31m# return X, y pair\u001b[0m\u001b[0;34m\u001b[0m\u001b[0;34m\u001b[0m\u001b[0m\n\u001b[1;32m     18\u001b[0m \u001b[0;34m\u001b[0m\u001b[0m\n\u001b[0;32m---> 19\u001b[0;31m \u001b[0mdata\u001b[0m \u001b[0;34m=\u001b[0m \u001b[0mSequences\u001b[0m\u001b[0;34m(\u001b[0m\u001b[0mX\u001b[0m\u001b[0;34m,\u001b[0m \u001b[0my\u001b[0m\u001b[0;34m)\u001b[0m\u001b[0;34m\u001b[0m\u001b[0;34m\u001b[0m\u001b[0m\n\u001b[0m\u001b[1;32m     20\u001b[0m \u001b[0mtrainCount\u001b[0m \u001b[0;34m=\u001b[0m \u001b[0mint\u001b[0m\u001b[0;34m(\u001b[0m\u001b[0;36m0.8\u001b[0m \u001b[0;34m*\u001b[0m \u001b[0mlen\u001b[0m\u001b[0;34m(\u001b[0m\u001b[0mdata\u001b[0m\u001b[0;34m)\u001b[0m\u001b[0;34m)\u001b[0m \u001b[0;31m# percent of our data for train\u001b[0m\u001b[0;34m\u001b[0m\u001b[0;34m\u001b[0m\u001b[0m\n\u001b[1;32m     21\u001b[0m \u001b[0mtrain\u001b[0m\u001b[0;34m,\u001b[0m \u001b[0mtest\u001b[0m \u001b[0;34m=\u001b[0m \u001b[0mrandom_split\u001b[0m\u001b[0;34m(\u001b[0m\u001b[0mdata\u001b[0m\u001b[0;34m,\u001b[0m \u001b[0;34m[\u001b[0m\u001b[0mtrainCount\u001b[0m\u001b[0;34m,\u001b[0m \u001b[0mlen\u001b[0m\u001b[0;34m(\u001b[0m\u001b[0mdata\u001b[0m\u001b[0;34m)\u001b[0m \u001b[0;34m-\u001b[0m \u001b[0mtrainCount\u001b[0m\u001b[0;34m]\u001b[0m\u001b[0;34m)\u001b[0m\u001b[0;34m\u001b[0m\u001b[0;34m\u001b[0m\u001b[0m\n",
            "\u001b[0;32m<ipython-input-92-058b05409fa5>\u001b[0m in \u001b[0;36m__init__\u001b[0;34m(self, X, y)\u001b[0m\n\u001b[1;32m      4\u001b[0m \u001b[0;32mclass\u001b[0m \u001b[0mSequences\u001b[0m\u001b[0;34m(\u001b[0m\u001b[0mDataset\u001b[0m\u001b[0;34m)\u001b[0m\u001b[0;34m:\u001b[0m\u001b[0;34m\u001b[0m\u001b[0;34m\u001b[0m\u001b[0m\n\u001b[1;32m      5\u001b[0m     \u001b[0;32mdef\u001b[0m \u001b[0m__init__\u001b[0m\u001b[0;34m(\u001b[0m\u001b[0mself\u001b[0m\u001b[0;34m,\u001b[0m \u001b[0mX\u001b[0m\u001b[0;34m,\u001b[0m \u001b[0my\u001b[0m\u001b[0;34m)\u001b[0m\u001b[0;34m:\u001b[0m\u001b[0;34m\u001b[0m\u001b[0;34m\u001b[0m\u001b[0m\n\u001b[0;32m----> 6\u001b[0;31m         \u001b[0mself\u001b[0m\u001b[0;34m.\u001b[0m\u001b[0msequences\u001b[0m \u001b[0;34m=\u001b[0m \u001b[0mtorch\u001b[0m\u001b[0;34m.\u001b[0m\u001b[0mfrom_numpy\u001b[0m\u001b[0;34m(\u001b[0m\u001b[0mX\u001b[0m\u001b[0;34m)\u001b[0m \u001b[0;31m# convert numpy arrays to torch tensors\u001b[0m\u001b[0;34m\u001b[0m\u001b[0;34m\u001b[0m\u001b[0m\n\u001b[0m\u001b[1;32m      7\u001b[0m         \u001b[0mself\u001b[0m\u001b[0;34m.\u001b[0m\u001b[0mlabels\u001b[0m \u001b[0;34m=\u001b[0m \u001b[0mtorch\u001b[0m\u001b[0;34m.\u001b[0m\u001b[0mfrom_numpy\u001b[0m\u001b[0;34m(\u001b[0m\u001b[0my\u001b[0m\u001b[0;34m)\u001b[0m\u001b[0;34m\u001b[0m\u001b[0;34m\u001b[0m\u001b[0m\n\u001b[1;32m      8\u001b[0m \u001b[0;34m\u001b[0m\u001b[0m\n",
            "\u001b[0;31mTypeError\u001b[0m: can't convert np.ndarray of type numpy.object_. The only supported types are: float64, float32, float16, complex64, complex128, int64, int32, int16, int8, uint8, and bool."
          ]
        }
      ]
    }
  ]
}