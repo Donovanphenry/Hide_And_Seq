{
  "nbformat": 4,
  "nbformat_minor": 0,
  "metadata": {
    "kernelspec": {
      "display_name": "Python 3",
      "language": "python",
      "name": "python3"
    },
    "language_info": {
      "codemirror_mode": {
        "name": "ipython",
        "version": 3
      },
      "file_extension": ".py",
      "mimetype": "text/x-python",
      "name": "python",
      "nbconvert_exporter": "python",
      "pygments_lexer": "ipython3",
      "version": "3.8.5"
    },
    "colab": {
      "name": "PromoterPredictor_DataFrames.ipynb",
      "provenance": []
    }
  },
  "cells": [
    {
      "cell_type": "markdown",
      "metadata": {
        "id": "Kkq4nAmXpDy2"
      },
      "source": [
        "## Installing Proper Required Libraries"
      ]
    },
    {
      "cell_type": "code",
      "metadata": {
        "id": "Yys5AHCepDy7"
      },
      "source": [
        "!pip install Bio\n",
        "!pip install pandas\n",
        "!pip install numpy\n",
        "import matplotlib.pyplot as plt\n",
        "%matplotlib inline\n",
        "from IPython.display import clear_output\n",
        "\n",
        "# download data\n",
        "!wget --user=ftp ftp://ccg.epfl.ch/epd/current/epd_16K.seq\n",
        "\n",
        "clear_output()"
      ],
      "execution_count": 11,
      "outputs": []
    },
    {
      "cell_type": "markdown",
      "metadata": {
        "id": "CMHahNnGpDy8"
      },
      "source": [
        "## Building DataFrames"
      ]
    },
    {
      "cell_type": "code",
      "metadata": {
        "id": "JqsCCk96pDy8",
        "colab": {
          "base_uri": "https://localhost:8080/"
        },
        "outputId": "6eb14079-7f76-433e-b90e-ac8739f19378"
      },
      "source": [
        "from Bio import SeqIO\n",
        "import pandas as pd\n",
        "import numpy as np\n",
        "import math\n",
        "import random\n",
        "\n",
        "# Initializing lists that will contain info about each record\n",
        "accessIDs = []\n",
        "DNA_Sequences = []\n",
        "sequence_lengths = []\n",
        "parsed_subsequences = []\n",
        "\n",
        "# All DNA sequences of the human genome are 16,000 characters long (Hence epd_16K)\n",
        "# if using epd_16K. If using epd_seq, then change the sequence_length variable\n",
        "# to 600\n",
        "sequence_length = 16000\n",
        "\n",
        "# Loop through all records parsed by SeqIO.\n",
        "#\n",
        "# \") Hs\" on the description line means that\n",
        "# we've found a Homo sapien DNA sequence, so\n",
        "# add the appropriate properties of seq_record\n",
        "# to the appropriate arrays. This is our way\n",
        "# to filter out non-homosapien sequences\n",
        "for seq_record in SeqIO.parse('epd_16K.seq', 'fasta'):\n",
        "  if seq_record.seq.find('N') == -1 and seq_record.description.find(') Hs') != -1:\n",
        "    accessIDs.append(seq_record.id)\n",
        "    DNA_Sequences.append(seq_record.seq)\n",
        "    sequence_lengths.append(len(seq_record))\n",
        "\n",
        "print(\"Number of sequences: \" + str(len(DNA_Sequences)))\n",
        "\n",
        "# Defining rows of PSFM and initializing all frequencies to 0\n",
        "adenine_frequencies = np.zeros(sequence_length)\n",
        "guanine_frequencies = np.zeros(sequence_length)\n",
        "thymine_frequencies = np.zeros(sequence_length)\n",
        "cytosine_frequencies = np.zeros(sequence_length)\n",
        "other_frequency = np.zeros(sequence_length)\n",
        "\n",
        "# Loop through all the DNA sequences in the DNA_Sequence list.\n",
        "# For each sequence, check if the nucleobase (character) at \n",
        "# postition sequence_index is adenine, guanine, thymine, or cytosine.\n",
        "# If it's any of those, then increment the count at that list's index.\n",
        "for sequence in DNA_Sequences:\n",
        "\n",
        "  # Randomly generating where the window begins,\n",
        "  # and since we want each sequence to be 6,000 chars\n",
        "  # long, we add 6,000 to the rng splicedStart, giving\n",
        "  # us the spliced end. Then, since we moved the start of\n",
        "  # the sequence up by a number of splicedStart, to get where\n",
        "  # the promoter is in relation to that new start, we can\n",
        "  # subtract splicedStart from 10,000\n",
        "  # i.e. promoterindex = 10,000 - splicedStart\n",
        "  splicedStart = random.randint(5000, 9000)\n",
        "  splicedEnd = splicedStart + 6000\n",
        "  sub_sequence = sequence[splicedStart : splicedEnd + 1]\n",
        "  \n",
        "  promoterIndex = 10000 - splicedStart\n",
        "\n",
        "  pair = (sub_sequence, promoterIndex, splicedStart, splicedEnd)\n",
        "  parsed_subsequences.append(pair)\n",
        "\n",
        "  # Reset where the index is in the\n",
        "  # sequence string\n",
        "  sequence_index = 0\n",
        "\n",
        "  for nucleobase in sequence:\n",
        "    if nucleobase == 'A':\n",
        "      adenine_frequencies[sequence_index] += 1\n",
        "    elif nucleobase == 'G':\n",
        "      guanine_frequencies[sequence_index] += 1\n",
        "    elif nucleobase == 'T':\n",
        "      thymine_frequencies[sequence_index] += 1\n",
        "    elif nucleobase == 'C':\n",
        "      cytosine_frequencies[sequence_index] += 1\n",
        "    else:\n",
        "      other_frequency[sequence_index] += 1\n",
        "\n",
        "    sequence_index += 1\n",
        "\n",
        "\n",
        "subsequence_df = pd.DataFrame(parsed_subsequences, columns = ['Sub-Sequences', 'PromoterIndex', 'SequenceStart', 'SequenceEnd'])\n",
        "\n",
        "# In the above loop, we calculated how many occurences M of a particular nucelobase N\n",
        "# at some sequence index I. In this loop, we divide each number of occurences by the total\n",
        "# number of possible occurences there could be, which would be the number of records\n",
        "# because each record is guaranteed to have a nucleobase at character I in the human\n",
        "# DNA sequence. I.e.\n",
        "# P(sequence[i] == N) == (# of nucleobases N found at index i) / (# of possible nucleobases N at index i)\n",
        "for i in range(sequence_length):\n",
        "  adenine_frequencies[i] = (adenine_frequencies[i] / len(DNA_Sequences)) * 100\n",
        "  guanine_frequencies[i] = (guanine_frequencies[i] / len(DNA_Sequences)) * 100\n",
        "  thymine_frequencies[i] = (thymine_frequencies[i] / len(DNA_Sequences)) * 100\n",
        "  cytosine_frequencies[i] = (cytosine_frequencies[i] / len(DNA_Sequences)) * 100\n",
        "\n",
        "\n",
        "# Defining the series that will be fed into the pandas Data Frame, based off the lists defined above\n",
        "records_df = pd.DataFrame({'IDs': accessIDs, 'Sequences': DNA_Sequences, 'Lengths': sequence_lengths},\n",
        "                          columns = ['IDs', 'Sequences', 'Lengths'])\n",
        "\n",
        "# Defining the data frame for the Position Specific Frequency Matrix (PSFM)\n",
        "frequency_df = pd.DataFrame({'Adenine Frequencies': adenine_frequencies, 'Guanine Frequencies': guanine_frequencies, 'Thymine Frequencies': thymine_frequencies, 'Cytosine Frequencies': cytosine_frequencies},\n",
        "                            columns = ['Adenine Frequencies', 'Guanine Frequencies', 'Thymine Frequencies', 'Cytosine Frequencies'])"
      ],
      "execution_count": 12,
      "outputs": [
        {
          "output_type": "stream",
          "text": [
            "Number of sequences: 1837\n"
          ],
          "name": "stdout"
        }
      ]
    },
    {
      "cell_type": "markdown",
      "metadata": {
        "id": "0TOg6thKpV2m"
      },
      "source": [
        "# RECORDS DATAFRAME INFORMATION\r\n",
        "\r\n",
        "---\r\n",
        "\r\n"
      ]
    },
    {
      "cell_type": "markdown",
      "metadata": {
        "id": "eREoALEnpDy8"
      },
      "source": [
        "## Printing records dataframe"
      ]
    },
    {
      "cell_type": "code",
      "metadata": {
        "id": "Z2klEXodpDy9"
      },
      "source": [
        "records_df.head(n=20)"
      ],
      "execution_count": null,
      "outputs": []
    },
    {
      "cell_type": "markdown",
      "metadata": {
        "id": "JonuT2z1pbD-"
      },
      "source": [
        "# FREQUENCY DATAFRAME INFORMATION\r\n",
        "\r\n",
        "---\r\n",
        "\r\n",
        "\r\n"
      ]
    },
    {
      "cell_type": "markdown",
      "metadata": {
        "id": "Oi6CQFyPpDy9"
      },
      "source": [
        "## Printing frequency data frame"
      ]
    },
    {
      "cell_type": "code",
      "metadata": {
        "id": "ALOXcy8ypDy9"
      },
      "source": [
        "frequency_df.head(n=10500)"
      ],
      "execution_count": null,
      "outputs": []
    },
    {
      "cell_type": "markdown",
      "metadata": {
        "id": "dKO51jbqpDy9"
      },
      "source": [
        "## Describing Frequency data frame"
      ]
    },
    {
      "cell_type": "code",
      "metadata": {
        "id": "ZVSEMlz0pDy-"
      },
      "source": [
        "frequency_df.describe()"
      ],
      "execution_count": null,
      "outputs": []
    },
    {
      "cell_type": "markdown",
      "metadata": {
        "id": "3Z8voM9ypDy-"
      },
      "source": [
        "## Plotting frequency graph"
      ]
    },
    {
      "cell_type": "code",
      "metadata": {
        "id": "TtrSvNRApDy-"
      },
      "source": [
        "plt.figure()\n",
        "frequency_df.plot(subplots=True, figsize=(25, 15), xlabel = \"Position in DNA Sequence\", ylabel = \"P(nucleobase)\", title = \"Position Specific Frequency Graph\", ylim = (0, 55))"
      ],
      "execution_count": null,
      "outputs": []
    },
    {
      "cell_type": "markdown",
      "metadata": {
        "id": "F9SG01vzpeXK"
      },
      "source": [
        "# SUBSEQUENCE DATAFRAME INFORMATION\r\n",
        "\r\n",
        "---\r\n",
        "\r\n"
      ]
    },
    {
      "cell_type": "markdown",
      "metadata": {
        "id": "RzMocqX1pnFq"
      },
      "source": [
        "## Describing the subsequence dataframe"
      ]
    },
    {
      "cell_type": "code",
      "metadata": {
        "id": "5VWYzxIcpl7V"
      },
      "source": [
        "print('Index frequencies:')\r\n",
        "print(subsequence_df['PromoterIndex'].value_counts())"
      ],
      "execution_count": null,
      "outputs": []
    },
    {
      "cell_type": "markdown",
      "metadata": {
        "id": "FIY12V_tprpO"
      },
      "source": [
        "# Histogram plot of subsequence dataframe"
      ]
    },
    {
      "cell_type": "code",
      "metadata": {
        "id": "Bdi0X2rLpyFH"
      },
      "source": [
        "plt.figure()\r\n",
        "subsequence_df['PromoterIndex'].plot.hist(histtype = 'bar', bins = 6000, figsize = (25, 5), title = 'Promoter Indices')"
      ],
      "execution_count": null,
      "outputs": []
    },
    {
      "cell_type": "markdown",
      "metadata": {
        "id": "A_pRtiCTp03M"
      },
      "source": [
        "## Density plot of subsequence dataframe"
      ]
    },
    {
      "cell_type": "code",
      "metadata": {
        "id": "03iJ57Mbp64s"
      },
      "source": [
        "plt.figure()\r\n",
        "subsequence_df['PromoterIndex'].plot.density(figsize = (25, 5), title = 'Promoter Indices')"
      ],
      "execution_count": null,
      "outputs": []
    }
  ]
}