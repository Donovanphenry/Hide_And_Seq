{
  "nbformat": 4,
  "nbformat_minor": 0,
  "metadata": {
    "kernelspec": {
      "display_name": "Python 3",
      "language": "python",
      "name": "python3"
    },
    "language_info": {
      "codemirror_mode": {
        "name": "ipython",
        "version": 3
      },
      "file_extension": ".py",
      "mimetype": "text/x-python",
      "name": "python",
      "nbconvert_exporter": "python",
      "pygments_lexer": "ipython3",
      "version": "3.8.5"
    },
    "colab": {
      "name": "PromoterPredictor_DataFrames.ipynb",
      "provenance": []
    }
  },
  "cells": [
    {
      "cell_type": "markdown",
      "metadata": {
        "id": "Kkq4nAmXpDy2"
      },
      "source": [
        "## Installing Proper Required Libraries"
      ]
    },
    {
      "cell_type": "code",
      "metadata": {
        "id": "Yys5AHCepDy7"
      },
      "source": [
        "!pip install Bio\n",
        "!pip install pandas\n",
        "!pip install numpy\n",
        "import matplotlib.pyplot as plt\n",
        "%matplotlib inline\n",
        "from IPython.display import clear_output\n",
        "\n",
        "# download data\n",
        "!wget --user=ftp ftp://ccg.epfl.ch/epd/current/epd_16K.seq\n",
        "\n",
        "clear_output()"
      ],
      "execution_count": 23,
      "outputs": []
    },
    {
      "cell_type": "markdown",
      "metadata": {
        "id": "CMHahNnGpDy8"
      },
      "source": [
        "## Building DataFrames"
      ]
    },
    {
      "cell_type": "code",
      "metadata": {
        "id": "JqsCCk96pDy8",
        "colab": {
          "base_uri": "https://localhost:8080/"
        },
        "outputId": "650fcb7a-ac37-4ad6-bb7d-724ee9bfac1d"
      },
      "source": [
        "from Bio import SeqIO\n",
        "import pandas as pd\n",
        "import numpy as np\n",
        "import math\n",
        "import random\n",
        "\n",
        "def gen_neg_dataset(sequence_string):    \n",
        "  # create 400 subdivisions \n",
        "  to_numpy = np.array(list(sequence_string))\n",
        "  spliced_sequence_array = np.split(to_numpy, 400)\n",
        "  \n",
        "  # randomly select 240 subvisions of the \n",
        "  for i in range(240):\n",
        "    k = random.randint(0, 399)\n",
        "\n",
        "    # shuffle contents of randomly chosen subvision\n",
        "    np.random.shuffle(spliced_sequence_array[k])\n",
        "  \n",
        "  neg_sequence = ''\n",
        "\n",
        "  for i in range(400):\n",
        "    for k in range(15):\n",
        "      neg_sequence += spliced_sequence_array[i][k]\n",
        "\n",
        "  return neg_sequence\n",
        "\n",
        "\n",
        "# Initializing lists that will contain info about each record\n",
        "accessIDs = []\n",
        "DNA_Sequences = []\n",
        "sequence_lengths = []\n",
        "parsed_subsequences = []\n",
        "neg_subsequences = []\n",
        "\n",
        "dna_mappings = {}\n",
        "# dna_mappings['A'] = 1\n",
        "# dna_mappings['C'] = 10\n",
        "# dna_mappings['T'] = 100\n",
        "# dna_mappings['G'] = 1000\n",
        "dna_mappings['A'] = [0, 0, 0, 1]\n",
        "dna_mappings['C'] = [0, 0, 1, 0]\n",
        "dna_mappings['T'] = [0, 1, 0, 0]\n",
        "dna_mappings['G'] = [1, 0, 0, 0]\n",
        "\n",
        "windowed_sequence_list = []\n",
        "neg_windowed_sequence_list = []\n",
        "\n",
        "# All DNA sequences of the human genome are 16,000 characters long (Hence epd_16K)\n",
        "# if using epd_16K. If using epd_seq, then change the sequence_length variable\n",
        "# to 600\n",
        "sequence_length = 16000\n",
        "\n",
        "# Loop through all records parsed by SeqIO.\n",
        "#\n",
        "# \") Hs\" on the description line means that\n",
        "# we've found a Homo sapien DNA sequence, so\n",
        "# add the appropriate properties of seq_record\n",
        "# to the appropriate arrays. This is our way\n",
        "# to filter out non-homosapien sequences\n",
        "for seq_record in SeqIO.parse('epd_16K.seq', 'fasta'):\n",
        "  if seq_record.seq.find('N') == -1 and seq_record.description.find(') Hs') != -1:\n",
        "    accessIDs.append(seq_record.id)\n",
        "    DNA_Sequences.append(seq_record.seq)\n",
        "    sequence_lengths.append(len(seq_record))\n",
        "\n",
        "print(\"Number of sequences: \" + str(len(DNA_Sequences)))\n",
        "\n",
        "# Defining rows of PSFM and initializing all frequencies to 0\n",
        "adenine_frequencies = np.zeros(sequence_length)\n",
        "guanine_frequencies = np.zeros(sequence_length)\n",
        "thymine_frequencies = np.zeros(sequence_length)\n",
        "cytosine_frequencies = np.zeros(sequence_length)\n",
        "other_frequency = np.zeros(sequence_length)\n",
        "\n",
        "# Loop through all the DNA sequences in the DNA_Sequence list.\n",
        "# For each sequence, check if the nucleobase (character) at \n",
        "# postition sequence_index is adenine, guanine, thymine, or cytosine.\n",
        "# If it's any of those, then increment the count at that list's index.\n",
        "for sequence in DNA_Sequences:\n",
        "\n",
        "  # Randomly generating where the window begins,\n",
        "  # and since we want each sequence to be 6,000 chars\n",
        "  # long, we add 6,000 to the rng splicedStart, giving\n",
        "  # us the spliced end. Then, since we moved the start of\n",
        "  # the sequence up by a number of splicedStart, to get where\n",
        "  # the promoter is in relation to that new start, we can\n",
        "  # subtract splicedStart from 10,000\n",
        "  # i.e. promoterindex = 10,000 - splicedStart\n",
        "  splicedStart = random.randint(5000, 9000)\n",
        "  splicedEnd = splicedStart + 6000\n",
        "  sub_sequence = sequence[splicedStart : splicedEnd]\n",
        "  promoter_index = 10000 - splicedStart\n",
        "  \n",
        "  neg_sub_sequence = gen_neg_dataset(str(sub_sequence))\n",
        "\n",
        "  if str(sub_sequence) == neg_sub_sequence:\n",
        "    print('Same sequence')\n",
        "\n",
        "  # OneHot on subsequence string to create list of lists for features\n",
        "  # parsed_str = str(sub_sequence).replace('A', '1000').replace('G', '0100').replace('T', '0010').replace('C', '0001')\n",
        "\n",
        "  #\n",
        "  # parsed_neg_str = neg_sub_sequence.replace('A', '1000').replace('G', '0100').replace('T', '0010').replace('C', '0001')\n",
        "\n",
        "  encoding = []\n",
        "  encoding.append(promoter_index)\n",
        "\n",
        "  neg_encoding = []\n",
        "  neg_encoding.append('x')\n",
        "\n",
        "  for nucleotide in sub_sequence:\n",
        "    encoding.extend(dna_mappings[nucleotide])\n",
        "  \n",
        "  for nucleotide in neg_sub_sequence:\n",
        "    neg_encoding.extend(dna_mappings[nucleotide])\n",
        "  \n",
        "  windowed_sequence_list.append(tuple(encoding))\n",
        "  neg_windowed_sequence_list.append(tuple(neg_encoding))\n",
        "\n",
        "  # one_hot_sequence = [int(i) for i in parsed_str]\n",
        "  # one_hot_sequence = np.asarray(one_hot_sequence)\n",
        "  # one_hot_sequence = np.asarray(one_hot_sequence, dtype = 'int32')\n",
        "  # one_hot_sequence = pd.Series(data = one_hot_sequence)\n",
        "  \n",
        "  pair = (sub_sequence, promoter_index, splicedStart, splicedEnd)\n",
        "  parsed_subsequences.append(pair)\n",
        "\n",
        "  # neg_pair = (parsed_neg_str, 'x')\n",
        "  # neg_subsequences.append(neg_pair)\n",
        "  \n",
        "\n",
        "  # Reset where the index is in the\n",
        "  # sequence string\n",
        "  sequence_index = 0\n",
        "\n",
        "  for nucleobase in sequence:\n",
        "    if nucleobase == 'A':\n",
        "      adenine_frequencies[sequence_index] += 1\n",
        "    elif nucleobase == 'G':\n",
        "      guanine_frequencies[sequence_index] += 1\n",
        "    elif nucleobase == 'T':\n",
        "      thymine_frequencies[sequence_index] += 1\n",
        "    elif nucleobase == 'C':\n",
        "      cytosine_frequencies[sequence_index] += 1\n",
        "    else:\n",
        "      other_frequency[sequence_index] += 1\n",
        "\n",
        "    sequence_index += 1\n",
        "  \n",
        "dna_df_columns = []\n",
        "dna_df_columns.append('Promoter-Index')\n",
        "\n",
        "neg_dna_df_columns = []\n",
        "neg_dna_df_columns.append('X')\n",
        "\n",
        "for i in range(6000):\n",
        "  for k in range(4):\n",
        "    dna_df_columns.append(\"Nuc(\" + str(i) + \", \" + str(k) + \")\")\n",
        "    neg_dna_df_columns.append(\"Nuc(\" + str(i) + \", \" + str(k) + \")\")\n",
        "\n",
        "dna_df = pd.DataFrame(windowed_sequence_list, columns = dna_df_columns)\n",
        "neg_dna_df = pd.DataFrame(neg_windowed_sequence_list, columns = dna_df_columns)\n",
        "\n",
        "subsequence_df = pd.DataFrame(parsed_subsequences, columns = ['Sub-Sequences', 'Promoter-Index', 'SequenceStart', 'SequenceEnd'])\n",
        "\n",
        "# In the above loop, we calculated how many occurences M of a particular nucelobase N\n",
        "# at some sequence index I. In this loop, we divide each number of occurences by the total\n",
        "# number of possible occurences there could be, which would be the number of records\n",
        "# because each record is guaranteed to have a nucleobase at character I in the human\n",
        "# DNA sequence. I.e.\n",
        "# P(sequence[i] == N) == (# of nucleobases N found at index i) / (# of possible nucleobases N at index i)\n",
        "for i in range(sequence_length):\n",
        "  adenine_frequencies[i] = (adenine_frequencies[i] / len(DNA_Sequences)) * 100\n",
        "  guanine_frequencies[i] = (guanine_frequencies[i] / len(DNA_Sequences)) * 100\n",
        "  thymine_frequencies[i] = (thymine_frequencies[i] / len(DNA_Sequences)) * 100\n",
        "  cytosine_frequencies[i] = (cytosine_frequencies[i] / len(DNA_Sequences)) * 100\n",
        "\n",
        "\n",
        "# Defining the series that will be fed into the pandas Data Frame, based off the lists defined above\n",
        "records_df = pd.DataFrame({'IDs': accessIDs, 'Sequences': DNA_Sequences, 'Lengths': sequence_lengths},\n",
        "                          columns = ['IDs', 'Sequences', 'Lengths'])\n",
        "\n",
        "# Defining the data frame for the Position Specific Frequency Matrix (PSFM)\n",
        "frequency_df = pd.DataFrame({'Adenine Frequencies': adenine_frequencies, 'Guanine Frequencies': guanine_frequencies, 'Thymine Frequencies': thymine_frequencies, 'Cytosine Frequencies': cytosine_frequencies},\n",
        "                            columns = ['Adenine Frequencies', 'Guanine Frequencies', 'Thymine Frequencies', 'Cytosine Frequencies'])"
      ],
      "execution_count": 52,
      "outputs": [
        {
          "output_type": "stream",
          "text": [
            "Number of sequences: 1837\n"
          ],
          "name": "stdout"
        }
      ]
    },
    {
      "cell_type": "markdown",
      "metadata": {
        "id": "t3ZRTNGWAacq"
      },
      "source": [
        "## Backup test dataframe"
      ]
    },
    {
      "cell_type": "code",
      "metadata": {
        "id": "GtQFAZHtAdBa"
      },
      "source": [
        "dna_df.head(n = 20)"
      ],
      "execution_count": null,
      "outputs": []
    },
    {
      "cell_type": "markdown",
      "metadata": {
        "id": "0MtrvWDSqbQh"
      },
      "source": [
        "## Negative Data set"
      ]
    },
    {
      "cell_type": "code",
      "metadata": {
        "id": "kgp3LE7NqdOL"
      },
      "source": [
        "neg_dna_df.head(n = 20)"
      ],
      "execution_count": null,
      "outputs": []
    },
    {
      "cell_type": "markdown",
      "metadata": {
        "id": "UNGovehYs_Zb"
      },
      "source": [
        "## Comparison"
      ]
    },
    {
      "cell_type": "code",
      "metadata": {
        "id": "m2Fn6ODus--l"
      },
      "source": [
        "dna_df.compare(neg_dna_df)"
      ],
      "execution_count": null,
      "outputs": []
    },
    {
      "cell_type": "markdown",
      "metadata": {
        "id": "0TOg6thKpV2m"
      },
      "source": [
        "# RECORDS DATAFRAME INFORMATION\r\n",
        "\r\n",
        "---\r\n",
        "\r\n"
      ]
    },
    {
      "cell_type": "markdown",
      "metadata": {
        "id": "eREoALEnpDy8"
      },
      "source": [
        "## Printing records dataframe"
      ]
    },
    {
      "cell_type": "code",
      "metadata": {
        "id": "Z2klEXodpDy9",
        "colab": {
          "base_uri": "https://localhost:8080/",
          "height": 669
        },
        "outputId": "1d65e06a-87e5-4023-f1cd-3a8c261a1521"
      },
      "source": [
        "records_df.head(n=20)"
      ],
      "execution_count": 26,
      "outputs": [
        {
          "output_type": "execute_result",
          "data": {
            "text/html": [
              "<div>\n",
              "<style scoped>\n",
              "    .dataframe tbody tr th:only-of-type {\n",
              "        vertical-align: middle;\n",
              "    }\n",
              "\n",
              "    .dataframe tbody tr th {\n",
              "        vertical-align: top;\n",
              "    }\n",
              "\n",
              "    .dataframe thead th {\n",
              "        text-align: right;\n",
              "    }\n",
              "</style>\n",
              "<table border=\"1\" class=\"dataframe\">\n",
              "  <thead>\n",
              "    <tr style=\"text-align: right;\">\n",
              "      <th></th>\n",
              "      <th>IDs</th>\n",
              "      <th>Sequences</th>\n",
              "      <th>Lengths</th>\n",
              "    </tr>\n",
              "  </thead>\n",
              "  <tbody>\n",
              "    <tr>\n",
              "      <th>0</th>\n",
              "      <td>EP17030</td>\n",
              "      <td>(G, A, G, C, C, A, T, C, C, C, G, G, G, A, G, ...</td>\n",
              "      <td>16000</td>\n",
              "    </tr>\n",
              "    <tr>\n",
              "      <th>1</th>\n",
              "      <td>EP17031</td>\n",
              "      <td>(C, A, A, T, G, G, A, A, A, C, C, C, T, C, C, ...</td>\n",
              "      <td>16000</td>\n",
              "    </tr>\n",
              "    <tr>\n",
              "      <th>2</th>\n",
              "      <td>EP17041</td>\n",
              "      <td>(G, G, G, G, T, T, T, C, G, C, C, A, T, G, T, ...</td>\n",
              "      <td>16000</td>\n",
              "    </tr>\n",
              "    <tr>\n",
              "      <th>3</th>\n",
              "      <td>EP49001</td>\n",
              "      <td>(C, A, A, A, A, A, A, C, T, A, A, A, C, A, A, ...</td>\n",
              "      <td>16000</td>\n",
              "    </tr>\n",
              "    <tr>\n",
              "      <th>4</th>\n",
              "      <td>EP30042</td>\n",
              "      <td>(T, G, A, G, T, G, G, G, C, T, A, T, G, A, G, ...</td>\n",
              "      <td>16000</td>\n",
              "    </tr>\n",
              "    <tr>\n",
              "      <th>5</th>\n",
              "      <td>EP11068</td>\n",
              "      <td>(G, A, A, G, G, C, T, A, T, C, A, C, T, A, A, ...</td>\n",
              "      <td>16000</td>\n",
              "    </tr>\n",
              "    <tr>\n",
              "      <th>6</th>\n",
              "      <td>EP11070</td>\n",
              "      <td>(T, G, G, T, T, T, C, A, C, A, T, G, A, G, T, ...</td>\n",
              "      <td>16000</td>\n",
              "    </tr>\n",
              "    <tr>\n",
              "      <th>7</th>\n",
              "      <td>EP11073</td>\n",
              "      <td>(T, T, C, T, T, C, T, T, T, T, T, T, C, C, T, ...</td>\n",
              "      <td>16000</td>\n",
              "    </tr>\n",
              "    <tr>\n",
              "      <th>8</th>\n",
              "      <td>EP15024</td>\n",
              "      <td>(G, G, C, G, T, G, G, T, G, G, C, T, C, A, C, ...</td>\n",
              "      <td>16000</td>\n",
              "    </tr>\n",
              "    <tr>\n",
              "      <th>9</th>\n",
              "      <td>EP49012</td>\n",
              "      <td>(T, G, A, A, G, G, A, T, C, C, T, A, A, G, A, ...</td>\n",
              "      <td>16000</td>\n",
              "    </tr>\n",
              "    <tr>\n",
              "      <th>10</th>\n",
              "      <td>EP11074</td>\n",
              "      <td>(A, G, A, C, C, A, G, C, C, T, G, G, C, C, A, ...</td>\n",
              "      <td>16000</td>\n",
              "    </tr>\n",
              "    <tr>\n",
              "      <th>11</th>\n",
              "      <td>EP31007</td>\n",
              "      <td>(T, A, C, A, C, A, C, A, A, C, A, T, T, T, A, ...</td>\n",
              "      <td>16000</td>\n",
              "    </tr>\n",
              "    <tr>\n",
              "      <th>12</th>\n",
              "      <td>EP31009</td>\n",
              "      <td>(T, T, G, A, C, A, G, T, A, T, C, T, C, T, C, ...</td>\n",
              "      <td>16000</td>\n",
              "    </tr>\n",
              "    <tr>\n",
              "      <th>13</th>\n",
              "      <td>EP33023</td>\n",
              "      <td>(T, T, G, A, T, A, A, G, T, T, T, T, G, A, C, ...</td>\n",
              "      <td>16000</td>\n",
              "    </tr>\n",
              "    <tr>\n",
              "      <th>14</th>\n",
              "      <td>EP33037</td>\n",
              "      <td>(C, A, A, C, A, C, A, G, G, G, A, G, A, C, C, ...</td>\n",
              "      <td>16000</td>\n",
              "    </tr>\n",
              "    <tr>\n",
              "      <th>15</th>\n",
              "      <td>EP33038</td>\n",
              "      <td>(C, T, T, T, T, C, T, T, T, T, C, T, T, G, A, ...</td>\n",
              "      <td>16000</td>\n",
              "    </tr>\n",
              "    <tr>\n",
              "      <th>16</th>\n",
              "      <td>EP36018</td>\n",
              "      <td>(C, T, G, G, G, C, T, C, A, A, G, C, T, G, T, ...</td>\n",
              "      <td>16000</td>\n",
              "    </tr>\n",
              "    <tr>\n",
              "      <th>17</th>\n",
              "      <td>EP41008</td>\n",
              "      <td>(A, C, A, G, G, C, A, T, G, A, G, C, T, A, C, ...</td>\n",
              "      <td>16000</td>\n",
              "    </tr>\n",
              "    <tr>\n",
              "      <th>18</th>\n",
              "      <td>EP24040</td>\n",
              "      <td>(C, T, G, C, C, C, A, C, C, T, C, G, A, G, A, ...</td>\n",
              "      <td>16000</td>\n",
              "    </tr>\n",
              "    <tr>\n",
              "      <th>19</th>\n",
              "      <td>EP37014</td>\n",
              "      <td>(C, G, T, G, T, T, T, C, T, C, A, G, G, T, A, ...</td>\n",
              "      <td>16000</td>\n",
              "    </tr>\n",
              "  </tbody>\n",
              "</table>\n",
              "</div>"
            ],
            "text/plain": [
              "        IDs                                          Sequences  Lengths\n",
              "0   EP17030  (G, A, G, C, C, A, T, C, C, C, G, G, G, A, G, ...    16000\n",
              "1   EP17031  (C, A, A, T, G, G, A, A, A, C, C, C, T, C, C, ...    16000\n",
              "2   EP17041  (G, G, G, G, T, T, T, C, G, C, C, A, T, G, T, ...    16000\n",
              "3   EP49001  (C, A, A, A, A, A, A, C, T, A, A, A, C, A, A, ...    16000\n",
              "4   EP30042  (T, G, A, G, T, G, G, G, C, T, A, T, G, A, G, ...    16000\n",
              "5   EP11068  (G, A, A, G, G, C, T, A, T, C, A, C, T, A, A, ...    16000\n",
              "6   EP11070  (T, G, G, T, T, T, C, A, C, A, T, G, A, G, T, ...    16000\n",
              "7   EP11073  (T, T, C, T, T, C, T, T, T, T, T, T, C, C, T, ...    16000\n",
              "8   EP15024  (G, G, C, G, T, G, G, T, G, G, C, T, C, A, C, ...    16000\n",
              "9   EP49012  (T, G, A, A, G, G, A, T, C, C, T, A, A, G, A, ...    16000\n",
              "10  EP11074  (A, G, A, C, C, A, G, C, C, T, G, G, C, C, A, ...    16000\n",
              "11  EP31007  (T, A, C, A, C, A, C, A, A, C, A, T, T, T, A, ...    16000\n",
              "12  EP31009  (T, T, G, A, C, A, G, T, A, T, C, T, C, T, C, ...    16000\n",
              "13  EP33023  (T, T, G, A, T, A, A, G, T, T, T, T, G, A, C, ...    16000\n",
              "14  EP33037  (C, A, A, C, A, C, A, G, G, G, A, G, A, C, C, ...    16000\n",
              "15  EP33038  (C, T, T, T, T, C, T, T, T, T, C, T, T, G, A, ...    16000\n",
              "16  EP36018  (C, T, G, G, G, C, T, C, A, A, G, C, T, G, T, ...    16000\n",
              "17  EP41008  (A, C, A, G, G, C, A, T, G, A, G, C, T, A, C, ...    16000\n",
              "18  EP24040  (C, T, G, C, C, C, A, C, C, T, C, G, A, G, A, ...    16000\n",
              "19  EP37014  (C, G, T, G, T, T, T, C, T, C, A, G, G, T, A, ...    16000"
            ]
          },
          "metadata": {
            "tags": []
          },
          "execution_count": 26
        }
      ]
    },
    {
      "cell_type": "markdown",
      "metadata": {
        "id": "JonuT2z1pbD-"
      },
      "source": [
        "# FREQUENCY DATAFRAME INFORMATION\r\n",
        "\r\n",
        "---\r\n",
        "\r\n",
        "\r\n"
      ]
    },
    {
      "cell_type": "markdown",
      "metadata": {
        "id": "Oi6CQFyPpDy9"
      },
      "source": [
        "## Printing frequency data frame"
      ]
    },
    {
      "cell_type": "code",
      "metadata": {
        "id": "ALOXcy8ypDy9",
        "colab": {
          "base_uri": "https://localhost:8080/",
          "height": 419
        },
        "outputId": "c7ffaceb-4efe-496a-8fa8-93e7faee08cc"
      },
      "source": [
        "frequency_df.head(n=10500)"
      ],
      "execution_count": 27,
      "outputs": [
        {
          "output_type": "execute_result",
          "data": {
            "text/html": [
              "<div>\n",
              "<style scoped>\n",
              "    .dataframe tbody tr th:only-of-type {\n",
              "        vertical-align: middle;\n",
              "    }\n",
              "\n",
              "    .dataframe tbody tr th {\n",
              "        vertical-align: top;\n",
              "    }\n",
              "\n",
              "    .dataframe thead th {\n",
              "        text-align: right;\n",
              "    }\n",
              "</style>\n",
              "<table border=\"1\" class=\"dataframe\">\n",
              "  <thead>\n",
              "    <tr style=\"text-align: right;\">\n",
              "      <th></th>\n",
              "      <th>Adenine Frequencies</th>\n",
              "      <th>Guanine Frequencies</th>\n",
              "      <th>Thymine Frequencies</th>\n",
              "      <th>Cytosine Frequencies</th>\n",
              "    </tr>\n",
              "  </thead>\n",
              "  <tbody>\n",
              "    <tr>\n",
              "      <th>0</th>\n",
              "      <td>27.381600</td>\n",
              "      <td>23.462167</td>\n",
              "      <td>26.292869</td>\n",
              "      <td>22.863364</td>\n",
              "    </tr>\n",
              "    <tr>\n",
              "      <th>1</th>\n",
              "      <td>27.544910</td>\n",
              "      <td>22.427872</td>\n",
              "      <td>27.925966</td>\n",
              "      <td>22.101252</td>\n",
              "    </tr>\n",
              "    <tr>\n",
              "      <th>2</th>\n",
              "      <td>28.579205</td>\n",
              "      <td>22.318998</td>\n",
              "      <td>27.544910</td>\n",
              "      <td>21.556886</td>\n",
              "    </tr>\n",
              "    <tr>\n",
              "      <th>3</th>\n",
              "      <td>25.367447</td>\n",
              "      <td>24.605335</td>\n",
              "      <td>26.183996</td>\n",
              "      <td>23.843223</td>\n",
              "    </tr>\n",
              "    <tr>\n",
              "      <th>4</th>\n",
              "      <td>26.891671</td>\n",
              "      <td>21.665759</td>\n",
              "      <td>27.925966</td>\n",
              "      <td>23.516603</td>\n",
              "    </tr>\n",
              "    <tr>\n",
              "      <th>...</th>\n",
              "      <td>...</td>\n",
              "      <td>...</td>\n",
              "      <td>...</td>\n",
              "      <td>...</td>\n",
              "    </tr>\n",
              "    <tr>\n",
              "      <th>10495</th>\n",
              "      <td>20.794774</td>\n",
              "      <td>29.613500</td>\n",
              "      <td>24.496462</td>\n",
              "      <td>25.095264</td>\n",
              "    </tr>\n",
              "    <tr>\n",
              "      <th>10496</th>\n",
              "      <td>23.407730</td>\n",
              "      <td>27.871530</td>\n",
              "      <td>23.571040</td>\n",
              "      <td>25.149701</td>\n",
              "    </tr>\n",
              "    <tr>\n",
              "      <th>10497</th>\n",
              "      <td>20.032662</td>\n",
              "      <td>30.212303</td>\n",
              "      <td>22.591181</td>\n",
              "      <td>27.163854</td>\n",
              "    </tr>\n",
              "    <tr>\n",
              "      <th>10498</th>\n",
              "      <td>21.829069</td>\n",
              "      <td>28.089276</td>\n",
              "      <td>23.788786</td>\n",
              "      <td>26.292869</td>\n",
              "    </tr>\n",
              "    <tr>\n",
              "      <th>10499</th>\n",
              "      <td>21.284703</td>\n",
              "      <td>28.688078</td>\n",
              "      <td>23.462167</td>\n",
              "      <td>26.565052</td>\n",
              "    </tr>\n",
              "  </tbody>\n",
              "</table>\n",
              "<p>10500 rows × 4 columns</p>\n",
              "</div>"
            ],
            "text/plain": [
              "       Adenine Frequencies  ...  Cytosine Frequencies\n",
              "0                27.381600  ...             22.863364\n",
              "1                27.544910  ...             22.101252\n",
              "2                28.579205  ...             21.556886\n",
              "3                25.367447  ...             23.843223\n",
              "4                26.891671  ...             23.516603\n",
              "...                    ...  ...                   ...\n",
              "10495            20.794774  ...             25.095264\n",
              "10496            23.407730  ...             25.149701\n",
              "10497            20.032662  ...             27.163854\n",
              "10498            21.829069  ...             26.292869\n",
              "10499            21.284703  ...             26.565052\n",
              "\n",
              "[10500 rows x 4 columns]"
            ]
          },
          "metadata": {
            "tags": []
          },
          "execution_count": 27
        }
      ]
    },
    {
      "cell_type": "markdown",
      "metadata": {
        "id": "dKO51jbqpDy9"
      },
      "source": [
        "## Describing Frequency data frame"
      ]
    },
    {
      "cell_type": "code",
      "metadata": {
        "id": "ZVSEMlz0pDy-",
        "colab": {
          "base_uri": "https://localhost:8080/",
          "height": 297
        },
        "outputId": "13e4aec1-7ddc-407a-d084-d673f8b16054"
      },
      "source": [
        "frequency_df.describe()"
      ],
      "execution_count": 28,
      "outputs": [
        {
          "output_type": "execute_result",
          "data": {
            "text/html": [
              "<div>\n",
              "<style scoped>\n",
              "    .dataframe tbody tr th:only-of-type {\n",
              "        vertical-align: middle;\n",
              "    }\n",
              "\n",
              "    .dataframe tbody tr th {\n",
              "        vertical-align: top;\n",
              "    }\n",
              "\n",
              "    .dataframe thead th {\n",
              "        text-align: right;\n",
              "    }\n",
              "</style>\n",
              "<table border=\"1\" class=\"dataframe\">\n",
              "  <thead>\n",
              "    <tr style=\"text-align: right;\">\n",
              "      <th></th>\n",
              "      <th>Adenine Frequencies</th>\n",
              "      <th>Guanine Frequencies</th>\n",
              "      <th>Thymine Frequencies</th>\n",
              "      <th>Cytosine Frequencies</th>\n",
              "    </tr>\n",
              "  </thead>\n",
              "  <tbody>\n",
              "    <tr>\n",
              "      <th>count</th>\n",
              "      <td>16000.000000</td>\n",
              "      <td>16000.000000</td>\n",
              "      <td>16000.000000</td>\n",
              "      <td>16000.000000</td>\n",
              "    </tr>\n",
              "    <tr>\n",
              "      <th>mean</th>\n",
              "      <td>26.251453</td>\n",
              "      <td>23.675031</td>\n",
              "      <td>26.934346</td>\n",
              "      <td>23.139171</td>\n",
              "    </tr>\n",
              "    <tr>\n",
              "      <th>std</th>\n",
              "      <td>2.278417</td>\n",
              "      <td>2.340623</td>\n",
              "      <td>2.159434</td>\n",
              "      <td>1.966093</td>\n",
              "    </tr>\n",
              "    <tr>\n",
              "      <th>min</th>\n",
              "      <td>8.002177</td>\n",
              "      <td>16.276538</td>\n",
              "      <td>2.994012</td>\n",
              "      <td>18.290691</td>\n",
              "    </tr>\n",
              "    <tr>\n",
              "      <th>25%</th>\n",
              "      <td>25.639630</td>\n",
              "      <td>22.427872</td>\n",
              "      <td>26.238432</td>\n",
              "      <td>21.992379</td>\n",
              "    </tr>\n",
              "    <tr>\n",
              "      <th>50%</th>\n",
              "      <td>26.619488</td>\n",
              "      <td>23.189984</td>\n",
              "      <td>27.272727</td>\n",
              "      <td>22.808928</td>\n",
              "    </tr>\n",
              "    <tr>\n",
              "      <th>75%</th>\n",
              "      <td>27.544910</td>\n",
              "      <td>24.115406</td>\n",
              "      <td>28.198149</td>\n",
              "      <td>23.679913</td>\n",
              "    </tr>\n",
              "    <tr>\n",
              "      <th>max</th>\n",
              "      <td>44.039194</td>\n",
              "      <td>39.085465</td>\n",
              "      <td>32.716385</td>\n",
              "      <td>50.081655</td>\n",
              "    </tr>\n",
              "  </tbody>\n",
              "</table>\n",
              "</div>"
            ],
            "text/plain": [
              "       Adenine Frequencies  ...  Cytosine Frequencies\n",
              "count         16000.000000  ...          16000.000000\n",
              "mean             26.251453  ...             23.139171\n",
              "std               2.278417  ...              1.966093\n",
              "min               8.002177  ...             18.290691\n",
              "25%              25.639630  ...             21.992379\n",
              "50%              26.619488  ...             22.808928\n",
              "75%              27.544910  ...             23.679913\n",
              "max              44.039194  ...             50.081655\n",
              "\n",
              "[8 rows x 4 columns]"
            ]
          },
          "metadata": {
            "tags": []
          },
          "execution_count": 28
        }
      ]
    },
    {
      "cell_type": "markdown",
      "metadata": {
        "id": "3Z8voM9ypDy-"
      },
      "source": [
        "## Plotting frequency graph"
      ]
    },
    {
      "cell_type": "code",
      "metadata": {
        "id": "TtrSvNRApDy-",
        "colab": {
          "base_uri": "https://localhost:8080/",
          "height": 1000
        },
        "outputId": "48e549aa-3841-4087-d8a0-170e2629fcb0"
      },
      "source": [
        "plt.figure()\n",
        "frequency_df.plot(subplots=True, figsize=(25, 15), xlabel = \"Position in DNA Sequence\", ylabel = \"P(nucleobase)\", title = \"Position Specific Frequency Graph\", ylim = (0, 55))"
      ],
      "execution_count": 29,
      "outputs": [
        {
          "output_type": "execute_result",
          "data": {
            "text/plain": [
              "array([<matplotlib.axes._subplots.AxesSubplot object at 0x7f1b020552d0>,\n",
              "       <matplotlib.axes._subplots.AxesSubplot object at 0x7f1b197816d0>,\n",
              "       <matplotlib.axes._subplots.AxesSubplot object at 0x7f1b02055050>,\n",
              "       <matplotlib.axes._subplots.AxesSubplot object at 0x7f1b012c48d0>],\n",
              "      dtype=object)"
            ]
          },
          "metadata": {
            "tags": []
          },
          "execution_count": 29
        },
        {
          "output_type": "display_data",
          "data": {
            "text/plain": [
              "<Figure size 432x288 with 0 Axes>"
            ]
          },
          "metadata": {
            "tags": []
          }
        },
        {
          "output_type": "display_data",
          "data": {
            "image/png": "[encoded data removed]",
            "text/plain": [
              "<Figure size 1800x1080 with 4 Axes>"
            ]
          },
          "metadata": {
            "tags": [],
            "needs_background": "light"
          }
        }
      ]
    },
    {
      "cell_type": "markdown",
      "metadata": {
        "id": "F9SG01vzpeXK"
      },
      "source": [
        "# SUBSEQUENCE DATAFRAME INFORMATION\r\n",
        "\r\n",
        "---\r\n",
        "\r\n"
      ]
    },
    {
      "cell_type": "markdown",
      "metadata": {
        "id": "LNHchQiVkBXU"
      },
      "source": [
        "## Printing Subsequence DataFrame"
      ]
    },
    {
      "cell_type": "code",
      "metadata": {
        "id": "vYBxRimrkEDQ",
        "colab": {
          "base_uri": "https://localhost:8080/",
          "height": 669
        },
        "outputId": "11935013-9c68-46b6-f844-6aab98d73bf3"
      },
      "source": [
        "subsequence_df.head(n=20)"
      ],
      "execution_count": 30,
      "outputs": [
        {
          "output_type": "execute_result",
          "data": {
            "text/html": [
              "<div>\n",
              "<style scoped>\n",
              "    .dataframe tbody tr th:only-of-type {\n",
              "        vertical-align: middle;\n",
              "    }\n",
              "\n",
              "    .dataframe tbody tr th {\n",
              "        vertical-align: top;\n",
              "    }\n",
              "\n",
              "    .dataframe thead th {\n",
              "        text-align: right;\n",
              "    }\n",
              "</style>\n",
              "<table border=\"1\" class=\"dataframe\">\n",
              "  <thead>\n",
              "    <tr style=\"text-align: right;\">\n",
              "      <th></th>\n",
              "      <th>Sub-Sequences</th>\n",
              "      <th>Promoter-Index</th>\n",
              "      <th>SequenceStart</th>\n",
              "      <th>SequenceEnd</th>\n",
              "    </tr>\n",
              "  </thead>\n",
              "  <tbody>\n",
              "    <tr>\n",
              "      <th>0</th>\n",
              "      <td>(G, T, A, A, G, T, G, C, T, A, A, G, G, T, C, ...</td>\n",
              "      <td>1141</td>\n",
              "      <td>8859</td>\n",
              "      <td>14859</td>\n",
              "    </tr>\n",
              "    <tr>\n",
              "      <th>1</th>\n",
              "      <td>(T, G, C, T, T, C, T, T, G, C, T, C, T, C, C, ...</td>\n",
              "      <td>4168</td>\n",
              "      <td>5832</td>\n",
              "      <td>11832</td>\n",
              "    </tr>\n",
              "    <tr>\n",
              "      <th>2</th>\n",
              "      <td>(A, T, G, T, T, C, C, T, C, C, C, A, T, A, G, ...</td>\n",
              "      <td>1556</td>\n",
              "      <td>8444</td>\n",
              "      <td>14444</td>\n",
              "    </tr>\n",
              "    <tr>\n",
              "      <th>3</th>\n",
              "      <td>(T, C, C, T, G, G, G, C, C, C, A, A, G, T, G, ...</td>\n",
              "      <td>2252</td>\n",
              "      <td>7748</td>\n",
              "      <td>13748</td>\n",
              "    </tr>\n",
              "    <tr>\n",
              "      <th>4</th>\n",
              "      <td>(A, A, G, A, T, G, G, G, G, T, T, T, T, A, C, ...</td>\n",
              "      <td>1550</td>\n",
              "      <td>8450</td>\n",
              "      <td>14450</td>\n",
              "    </tr>\n",
              "    <tr>\n",
              "      <th>5</th>\n",
              "      <td>(A, A, T, G, T, T, T, G, T, T, C, T, C, T, C, ...</td>\n",
              "      <td>1185</td>\n",
              "      <td>8815</td>\n",
              "      <td>14815</td>\n",
              "    </tr>\n",
              "    <tr>\n",
              "      <th>6</th>\n",
              "      <td>(A, T, A, G, T, A, A, A, C, A, T, A, C, A, C, ...</td>\n",
              "      <td>3804</td>\n",
              "      <td>6196</td>\n",
              "      <td>12196</td>\n",
              "    </tr>\n",
              "    <tr>\n",
              "      <th>7</th>\n",
              "      <td>(T, T, T, C, T, C, C, A, C, A, G, C, A, C, T, ...</td>\n",
              "      <td>4451</td>\n",
              "      <td>5549</td>\n",
              "      <td>11549</td>\n",
              "    </tr>\n",
              "    <tr>\n",
              "      <th>8</th>\n",
              "      <td>(C, C, A, A, T, C, A, A, C, T, G, A, C, A, A, ...</td>\n",
              "      <td>1170</td>\n",
              "      <td>8830</td>\n",
              "      <td>14830</td>\n",
              "    </tr>\n",
              "    <tr>\n",
              "      <th>9</th>\n",
              "      <td>(C, C, A, A, T, G, G, T, A, C, T, G, A, C, A, ...</td>\n",
              "      <td>2682</td>\n",
              "      <td>7318</td>\n",
              "      <td>13318</td>\n",
              "    </tr>\n",
              "    <tr>\n",
              "      <th>10</th>\n",
              "      <td>(C, T, A, A, T, T, T, C, T, C, T, A, A, A, A, ...</td>\n",
              "      <td>4076</td>\n",
              "      <td>5924</td>\n",
              "      <td>11924</td>\n",
              "    </tr>\n",
              "    <tr>\n",
              "      <th>11</th>\n",
              "      <td>(T, G, A, C, G, G, G, C, T, G, C, T, C, T, T, ...</td>\n",
              "      <td>1540</td>\n",
              "      <td>8460</td>\n",
              "      <td>14460</td>\n",
              "    </tr>\n",
              "    <tr>\n",
              "      <th>12</th>\n",
              "      <td>(T, G, A, T, T, T, G, T, G, C, A, A, G, C, C, ...</td>\n",
              "      <td>1358</td>\n",
              "      <td>8642</td>\n",
              "      <td>14642</td>\n",
              "    </tr>\n",
              "    <tr>\n",
              "      <th>13</th>\n",
              "      <td>(T, C, C, A, G, G, A, G, G, T, C, C, G, A, T, ...</td>\n",
              "      <td>3236</td>\n",
              "      <td>6764</td>\n",
              "      <td>12764</td>\n",
              "    </tr>\n",
              "    <tr>\n",
              "      <th>14</th>\n",
              "      <td>(C, G, A, T, A, T, A, G, C, A, T, A, G, A, C, ...</td>\n",
              "      <td>4648</td>\n",
              "      <td>5352</td>\n",
              "      <td>11352</td>\n",
              "    </tr>\n",
              "    <tr>\n",
              "      <th>15</th>\n",
              "      <td>(G, A, T, G, G, A, G, T, G, C, A, G, T, G, G, ...</td>\n",
              "      <td>4164</td>\n",
              "      <td>5836</td>\n",
              "      <td>11836</td>\n",
              "    </tr>\n",
              "    <tr>\n",
              "      <th>16</th>\n",
              "      <td>(T, G, G, A, G, T, T, C, A, A, T, G, A, C, G, ...</td>\n",
              "      <td>1512</td>\n",
              "      <td>8488</td>\n",
              "      <td>14488</td>\n",
              "    </tr>\n",
              "    <tr>\n",
              "      <th>17</th>\n",
              "      <td>(T, G, C, C, C, A, A, A, T, T, C, C, T, G, A, ...</td>\n",
              "      <td>3347</td>\n",
              "      <td>6653</td>\n",
              "      <td>12653</td>\n",
              "    </tr>\n",
              "    <tr>\n",
              "      <th>18</th>\n",
              "      <td>(A, T, G, T, T, T, A, T, G, T, A, T, G, T, G, ...</td>\n",
              "      <td>4355</td>\n",
              "      <td>5645</td>\n",
              "      <td>11645</td>\n",
              "    </tr>\n",
              "    <tr>\n",
              "      <th>19</th>\n",
              "      <td>(T, C, A, G, C, A, A, C, C, C, C, G, A, G, G, ...</td>\n",
              "      <td>2578</td>\n",
              "      <td>7422</td>\n",
              "      <td>13422</td>\n",
              "    </tr>\n",
              "  </tbody>\n",
              "</table>\n",
              "</div>"
            ],
            "text/plain": [
              "                                        Sub-Sequences  ...  SequenceEnd\n",
              "0   (G, T, A, A, G, T, G, C, T, A, A, G, G, T, C, ...  ...        14859\n",
              "1   (T, G, C, T, T, C, T, T, G, C, T, C, T, C, C, ...  ...        11832\n",
              "2   (A, T, G, T, T, C, C, T, C, C, C, A, T, A, G, ...  ...        14444\n",
              "3   (T, C, C, T, G, G, G, C, C, C, A, A, G, T, G, ...  ...        13748\n",
              "4   (A, A, G, A, T, G, G, G, G, T, T, T, T, A, C, ...  ...        14450\n",
              "5   (A, A, T, G, T, T, T, G, T, T, C, T, C, T, C, ...  ...        14815\n",
              "6   (A, T, A, G, T, A, A, A, C, A, T, A, C, A, C, ...  ...        12196\n",
              "7   (T, T, T, C, T, C, C, A, C, A, G, C, A, C, T, ...  ...        11549\n",
              "8   (C, C, A, A, T, C, A, A, C, T, G, A, C, A, A, ...  ...        14830\n",
              "9   (C, C, A, A, T, G, G, T, A, C, T, G, A, C, A, ...  ...        13318\n",
              "10  (C, T, A, A, T, T, T, C, T, C, T, A, A, A, A, ...  ...        11924\n",
              "11  (T, G, A, C, G, G, G, C, T, G, C, T, C, T, T, ...  ...        14460\n",
              "12  (T, G, A, T, T, T, G, T, G, C, A, A, G, C, C, ...  ...        14642\n",
              "13  (T, C, C, A, G, G, A, G, G, T, C, C, G, A, T, ...  ...        12764\n",
              "14  (C, G, A, T, A, T, A, G, C, A, T, A, G, A, C, ...  ...        11352\n",
              "15  (G, A, T, G, G, A, G, T, G, C, A, G, T, G, G, ...  ...        11836\n",
              "16  (T, G, G, A, G, T, T, C, A, A, T, G, A, C, G, ...  ...        14488\n",
              "17  (T, G, C, C, C, A, A, A, T, T, C, C, T, G, A, ...  ...        12653\n",
              "18  (A, T, G, T, T, T, A, T, G, T, A, T, G, T, G, ...  ...        11645\n",
              "19  (T, C, A, G, C, A, A, C, C, C, C, G, A, G, G, ...  ...        13422\n",
              "\n",
              "[20 rows x 4 columns]"
            ]
          },
          "metadata": {
            "tags": []
          },
          "execution_count": 30
        }
      ]
    },
    {
      "cell_type": "markdown",
      "metadata": {
        "id": "RzMocqX1pnFq"
      },
      "source": [
        "## Describing the subsequence dataframe"
      ]
    },
    {
      "cell_type": "code",
      "metadata": {
        "id": "5VWYzxIcpl7V",
        "colab": {
          "base_uri": "https://localhost:8080/"
        },
        "outputId": "3b26cb51-0fab-41ce-bf7e-33d9889bd362"
      },
      "source": [
        "print('Index frequencies:')\r\n",
        "print(subsequence_df['Promoter-Index'].value_counts())"
      ],
      "execution_count": 31,
      "outputs": [
        {
          "output_type": "stream",
          "text": [
            "Index frequencies:\n",
            "1014    5\n",
            "3032    4\n",
            "4294    4\n",
            "1544    4\n",
            "2668    3\n",
            "       ..\n",
            "1121    1\n",
            "3171    1\n",
            "3858    1\n",
            "3173    1\n",
            "3089    1\n",
            "Name: Promoter-Index, Length: 1461, dtype: int64\n"
          ],
          "name": "stdout"
        }
      ]
    },
    {
      "cell_type": "markdown",
      "metadata": {
        "id": "FIY12V_tprpO"
      },
      "source": [
        "# Histogram plot of subsequence dataframe"
      ]
    },
    {
      "cell_type": "code",
      "metadata": {
        "id": "Bdi0X2rLpyFH",
        "colab": {
          "base_uri": "https://localhost:8080/",
          "height": 353
        },
        "outputId": "ec9c87b0-b0e5-4849-a56e-72b1da0c9a27"
      },
      "source": [
        "plt.figure()\r\n",
        "subsequence_df['Promoter-Index'].plot.hist(histtype = 'bar', bins = 6000, figsize = (25, 5), title = 'Promoter Indices')"
      ],
      "execution_count": 32,
      "outputs": [
        {
          "output_type": "execute_result",
          "data": {
            "text/plain": [
              "<matplotlib.axes._subplots.AxesSubplot at 0x7f1b0124bc10>"
            ]
          },
          "metadata": {
            "tags": []
          },
          "execution_count": 32
        },
        {
          "output_type": "display_data",
          "data": {
            "image/png": "[encoded data removed]",
            "text/plain": [
              "<Figure size 1800x360 with 1 Axes>"
            ]
          },
          "metadata": {
            "tags": [],
            "needs_background": "light"
          }
        }
      ]
    },
    {
      "cell_type": "markdown",
      "metadata": {
        "id": "A_pRtiCTp03M"
      },
      "source": [
        "## Density plot of subsequence dataframe"
      ]
    },
    {
      "cell_type": "code",
      "metadata": {
        "id": "03iJ57Mbp64s",
        "colab": {
          "base_uri": "https://localhost:8080/",
          "height": 353
        },
        "outputId": "aa93fec0-be75-47ff-e308-4c4306b80869"
      },
      "source": [
        "plt.figure()\r\n",
        "subsequence_df['Promoter-Index'].plot.density(figsize = (25, 5), title = 'Promoter Indices')"
      ],
      "execution_count": 33,
      "outputs": [
        {
          "output_type": "execute_result",
          "data": {
            "text/plain": [
              "<matplotlib.axes._subplots.AxesSubplot at 0x7f1b01b09cd0>"
            ]
          },
          "metadata": {
            "tags": []
          },
          "execution_count": 33
        },
        {
          "output_type": "display_data",
          "data": {
            "image/png": "[encoded data removed]",
            "text/plain": [
              "<Figure size 1800x360 with 1 Axes>"
            ]
          },
          "metadata": {
            "tags": [],
            "needs_background": "light"
          }
        }
      ]
    },
    {
      "cell_type": "markdown",
      "metadata": {
        "id": "B7abLJ8aiVE3"
      },
      "source": [
        "## Arranging features and labels"
      ]
    },
    {
      "cell_type": "code",
      "metadata": {
        "colab": {
          "base_uri": "https://localhost:8080/"
        },
        "id": "8Hj-l_87iU0T",
        "outputId": "5cdfe62d-331d-426f-c131-edb8830137df"
      },
      "source": [
        "X = dna_df.loc[:, 'Nuc(0, 0)' : 'Nuc(5999, 0)'].to_numpy()\r\n",
        "y = dna_df.loc[:, 'Promoter-Index'].to_numpy()\r\n",
        "\r\n",
        "print(\"Features: \\n\")\r\n",
        "print(X)\r\n",
        "\r\n",
        "print(\"Labels: \\n\")\r\n",
        "print(y)"
      ],
      "execution_count": 34,
      "outputs": [
        {
          "output_type": "stream",
          "text": [
            "Features: \n",
            "\n",
            "[[1 0 0 ... 1 0 0]\n",
            " [0 1 0 ... 0 0 0]\n",
            " [0 0 0 ... 0 0 0]\n",
            " ...\n",
            " [0 1 0 ... 1 0 0]\n",
            " [0 1 0 ... 0 1 0]\n",
            " [0 0 0 ... 0 0 1]]\n",
            "Labels: \n",
            "\n",
            "[1141 4168 1556 ... 1543 2756 3957]\n"
          ],
          "name": "stdout"
        }
      ]
    },
    {
      "cell_type": "markdown",
      "metadata": {
        "id": "kd2gt-3Ug-Fx"
      },
      "source": [
        "## PyTorch Dataset"
      ]
    },
    {
      "cell_type": "code",
      "metadata": {
        "id": "F23XyAeTg_6L"
      },
      "source": [
        "import torch\r\n",
        "from torch.utils.data import Dataset, random_split\r\n",
        "\r\n",
        "class Sequences(Dataset):\r\n",
        "    def __init__(self, X, y):\r\n",
        "        self.sequences = torch.from_numpy(X) # convert numpy arrays to torch tensors\r\n",
        "        self.labels = torch.from_numpy(y)\r\n",
        "\r\n",
        "        self.sequences = self.sequences.unsqueeze(1) # add extra dimension for torch\r\n",
        "        self.labels = self.labels.unsqueeze(1)\r\n",
        "\r\n",
        "    def __len__(self):\r\n",
        "        assert len(self.sequences) == len(self.labels) # ensure 1-to-1 correspondence\r\n",
        "        return len(self.labels)\r\n",
        "\r\n",
        "    def __getitem__(self, i):\r\n",
        "        return self.sequences[i], self.labels[i] # return X, y pair\r\n",
        "\r\n",
        "data = Sequences(X, y)\r\n",
        "trainCount = int(0.8 * len(data)) # percent of our data for train\r\n",
        "train, test = random_split(data, [trainCount, len(data) - trainCount])"
      ],
      "execution_count": 35,
      "outputs": []
    }
  ]
}